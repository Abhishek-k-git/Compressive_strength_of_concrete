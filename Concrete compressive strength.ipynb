{
 "cells": [
  {
   "cell_type": "markdown",
   "id": "8443518b",
   "metadata": {},
   "source": [
    "![concrete strength](http://archive.ics.uci.edu/ml/assets/MLimages/Large165.jpg)"
   ]
  },
  {
   "cell_type": "markdown",
   "id": "d2548339",
   "metadata": {},
   "source": [
    "### Data Set Information:\n",
    "\n",
    "Concrete is the most important material in civil engineering. The concrete compressive strength is a highly nonlinear function of age and ingredients.\n",
    "\n",
    "> **Sources:**\n",
    "    \n",
    "    Owner of database: Volker Lohweg (University of Applied Sciences, Ostwestfalen-Lippe, volker.lohweg '@' hs-owl.de)\n",
    "    Donor of database: Helene DÃ¶rksen (University of Applied Sciences, Ostwestfalen-Lippe, helene.doerksen '@' hs-owl.de)\n",
    "    Date received: August, 2012\n",
    "    \n",
    "> **Attribute Information:**\n",
    "    \n",
    "    Given are the variable name, variable type, the measurement unit and a brief description. The concrete compressive strength is the regression problem. The order of this listing corresponds to the order of numerals along the rows of the database.\n",
    "\n",
    "| Name | Data Type | Measurement | Description |\n",
    "|------|-----------|-------------|-------------|\n",
    "| Cement (component 1) | quantitative | kg in a m3 mixture | Input Variable |\n",
    "| Blast Furnace Slag (component 2) | quantitative | kg in a m3 mixture | Input Variable |\n",
    "| Fly Ash (component 3) | quantitative | kg in a m3 mixture | Input Variable |\n",
    "| Water (component 4) | quantitative | kg in a m3 mixture | Input Variable |\n",
    "| Superplasticizer (component 5) | quantitative | kg in a m3 mixture | Input Variable |\n",
    "| Coarse Aggregate (component 6) | quantitative | kg in a m3 mixture | Input Variable |\n",
    "| Fine Aggregate (component 7) | quantitative | kg in a m3 mixture | Input Variable |\n",
    "| Age | quantitative | Day (1~365) | Input Variable |\n",
    "| Concrete compressive strength | quantitative | MPa | Output Variable |"
   ]
  },
  {
   "cell_type": "markdown",
   "id": "6c4447d4",
   "metadata": {},
   "source": [
    "| Fields         |  values |\n",
    "|----------------------------|--------------|\n",
    "| Data Set Characteristics:  | Multivariate | \n",
    "| Number of Instances: | 1030 |\n",
    "| Area: | Physical |\n",
    "| Attribute Characteristics: | Real |\n",
    "| umber of Attributes: | 9 |\n",
    "| Date Donated | 2007-08-03 |\n",
    "| Associated Tasks: | Regression |\n",
    "| Missing Values? | N/A |\n",
    "| Number of Web Hits: | 241166 |"
   ]
  },
  {
   "cell_type": "markdown",
   "id": "fa4f73cb",
   "metadata": {},
   "source": [
    "> **Source:**\n",
    "\n",
    "Original Owner and Donor\n",
    "Prof. I-Cheng Yeh\n",
    "Department of Information Management\n",
    "Chung-Hua University,\n",
    "Hsin Chu, Taiwan 30067, R.O.C.\n",
    "e-mail:icyeh '@' chu.edu.tw\n",
    "TEL:886-3-5186511"
   ]
  },
  {
   "cell_type": "markdown",
   "id": "ee7471c7",
   "metadata": {},
   "source": [
    "**Install required liabraries**\n",
    "\n",
    "1. ! pip install numpy \n",
    "2. ! pip install pandas\n",
    "3. ! pip install matplotlib\n",
    "4. ! pip install seaborn\n",
    "5. ! pip install -U scikit-learn\n",
    "6. ! pip install graphviz\n",
    "7. ! pip install pydot\n",
    "8. ! pip install xgboost"
   ]
  },
  {
   "cell_type": "markdown",
   "id": "f5bf50e3",
   "metadata": {},
   "source": [
    "**Import some tools**"
   ]
  },
  {
   "cell_type": "code",
   "execution_count": 1,
   "id": "93cedf4e",
   "metadata": {},
   "outputs": [
    {
     "data": {
      "text/plain": [
       "['from openpyxl import load_workbook',\n",
       " 'from pyspark import SparkContext',\n",
       " 'import seaborn as sns',\n",
       " 'import sys',\n",
       " 'from dask import dataframe as dd',\n",
       " 'from sklearn.ensemble import GradientBoostingClassifier',\n",
       " 'from pathlib import Path',\n",
       " 'import matplotlib as mpl',\n",
       " 'import plotly.express as px',\n",
       " 'import nltk',\n",
       " 'from sklearn.manifold import TSNE',\n",
       " 'import datetime as dt',\n",
       " 'import matplotlib.pyplot as plt',\n",
       " 'from sklearn.preprocessing import OneHotEncoder',\n",
       " 'import numpy as np',\n",
       " 'import sklearn',\n",
       " 'import statistics',\n",
       " 'import bokeh',\n",
       " 'import gensim',\n",
       " 'import os',\n",
       " 'import tensorflow as tf',\n",
       " 'import lightgbm as lgb',\n",
       " 'import glob',\n",
       " 'from sklearn.model_selection import train_test_split',\n",
       " 'from sklearn.ensemble import GradientBoostingRegressor',\n",
       " 'from sklearn.ensemble import RandomForestClassifier',\n",
       " 'import re',\n",
       " 'import plotly as py',\n",
       " 'import tqdm',\n",
       " 'import dash',\n",
       " 'from sklearn.feature_extraction.text import TfidfVectorizer',\n",
       " 'import pickle',\n",
       " 'import spacy',\n",
       " 'import altair as alt',\n",
       " 'import plotly.graph_objs as go',\n",
       " 'from sklearn.ensemble import RandomForestRegressor',\n",
       " 'import xgboost as xgb',\n",
       " 'from sklearn import svm',\n",
       " 'import keras',\n",
       " 'import pandas as pd',\n",
       " 'import awswrangler as wr',\n",
       " 'import pydot']"
      ]
     },
     "execution_count": 1,
     "metadata": {},
     "output_type": "execute_result"
    }
   ],
   "source": [
    "#! pip install pyforest\n",
    "from pyforest import *\n",
    "lazy_imports()"
   ]
  },
  {
   "cell_type": "code",
   "execution_count": 2,
   "id": "14b072a4",
   "metadata": {},
   "outputs": [],
   "source": [
    "import itertools"
   ]
  },
  {
   "cell_type": "code",
   "execution_count": 3,
   "id": "94a4baa6",
   "metadata": {},
   "outputs": [
    {
     "data": {
      "application/javascript": [
       "\n",
       "        if (window._pyforest_update_imports_cell) { window._pyforest_update_imports_cell('import pandas as pd'); }\n",
       "    "
      ],
      "text/plain": [
       "<IPython.core.display.Javascript object>"
      ]
     },
     "metadata": {},
     "output_type": "display_data"
    },
    {
     "data": {
      "text/html": [
       "<div>\n",
       "<style scoped>\n",
       "    .dataframe tbody tr th:only-of-type {\n",
       "        vertical-align: middle;\n",
       "    }\n",
       "\n",
       "    .dataframe tbody tr th {\n",
       "        vertical-align: top;\n",
       "    }\n",
       "\n",
       "    .dataframe thead th {\n",
       "        text-align: right;\n",
       "    }\n",
       "</style>\n",
       "<table border=\"1\" class=\"dataframe\">\n",
       "  <thead>\n",
       "    <tr style=\"text-align: right;\">\n",
       "      <th></th>\n",
       "      <th>cement</th>\n",
       "      <th>blast_furnace_slag</th>\n",
       "      <th>fly_ash</th>\n",
       "      <th>water</th>\n",
       "      <th>superplasticizer</th>\n",
       "      <th>coarse_aggregate</th>\n",
       "      <th>fine_aggregate</th>\n",
       "      <th>age</th>\n",
       "      <th>concrete_compressive_strength</th>\n",
       "    </tr>\n",
       "  </thead>\n",
       "  <tbody>\n",
       "    <tr>\n",
       "      <th>0</th>\n",
       "      <td>540.0</td>\n",
       "      <td>0.0</td>\n",
       "      <td>0.0</td>\n",
       "      <td>162.0</td>\n",
       "      <td>2.5</td>\n",
       "      <td>1040.0</td>\n",
       "      <td>676.0</td>\n",
       "      <td>28</td>\n",
       "      <td>79.99</td>\n",
       "    </tr>\n",
       "    <tr>\n",
       "      <th>1</th>\n",
       "      <td>540.0</td>\n",
       "      <td>0.0</td>\n",
       "      <td>0.0</td>\n",
       "      <td>162.0</td>\n",
       "      <td>2.5</td>\n",
       "      <td>1055.0</td>\n",
       "      <td>676.0</td>\n",
       "      <td>28</td>\n",
       "      <td>61.89</td>\n",
       "    </tr>\n",
       "    <tr>\n",
       "      <th>2</th>\n",
       "      <td>332.5</td>\n",
       "      <td>142.5</td>\n",
       "      <td>0.0</td>\n",
       "      <td>228.0</td>\n",
       "      <td>0.0</td>\n",
       "      <td>932.0</td>\n",
       "      <td>594.0</td>\n",
       "      <td>270</td>\n",
       "      <td>40.27</td>\n",
       "    </tr>\n",
       "    <tr>\n",
       "      <th>3</th>\n",
       "      <td>332.5</td>\n",
       "      <td>142.5</td>\n",
       "      <td>0.0</td>\n",
       "      <td>228.0</td>\n",
       "      <td>0.0</td>\n",
       "      <td>932.0</td>\n",
       "      <td>594.0</td>\n",
       "      <td>365</td>\n",
       "      <td>41.05</td>\n",
       "    </tr>\n",
       "    <tr>\n",
       "      <th>4</th>\n",
       "      <td>198.6</td>\n",
       "      <td>132.4</td>\n",
       "      <td>0.0</td>\n",
       "      <td>192.0</td>\n",
       "      <td>0.0</td>\n",
       "      <td>978.4</td>\n",
       "      <td>825.5</td>\n",
       "      <td>360</td>\n",
       "      <td>44.30</td>\n",
       "    </tr>\n",
       "  </tbody>\n",
       "</table>\n",
       "</div>"
      ],
      "text/plain": [
       "   cement  blast_furnace_slag  fly_ash  water  superplasticizer  \\\n",
       "0   540.0                 0.0      0.0  162.0               2.5   \n",
       "1   540.0                 0.0      0.0  162.0               2.5   \n",
       "2   332.5               142.5      0.0  228.0               0.0   \n",
       "3   332.5               142.5      0.0  228.0               0.0   \n",
       "4   198.6               132.4      0.0  192.0               0.0   \n",
       "\n",
       "   coarse_aggregate  fine_aggregate  age  concrete_compressive_strength  \n",
       "0            1040.0           676.0   28                          79.99  \n",
       "1            1055.0           676.0   28                          61.89  \n",
       "2             932.0           594.0  270                          40.27  \n",
       "3             932.0           594.0  365                          41.05  \n",
       "4             978.4           825.5  360                          44.30  "
      ]
     },
     "execution_count": 3,
     "metadata": {},
     "output_type": "execute_result"
    }
   ],
   "source": [
    "df = pd.read_csv(\"concrete_data.csv\", sep=r'\\s*,\\s*', header=0, encoding='ascii', engine='python')\n",
    "df.head()"
   ]
  },
  {
   "cell_type": "code",
   "execution_count": 4,
   "id": "d4030523",
   "metadata": {},
   "outputs": [],
   "source": [
    "df = df.rename(columns = {'cement': 'cement',\n",
    "                         'blast_furnace_slag': 'slag',\n",
    "                         'fly_ash': 'ash',\n",
    "                         'water': 'water',\n",
    "                         'superplasticizer': 'superplasticizer',\n",
    "                         'coarse_aggregate': 'coarseagg',\n",
    "                         'fine_aggregate': 'fineagg',\n",
    "                         'age': 'age',\n",
    "                         'concrete_compressive_strength': 'strength'})"
   ]
  },
  {
   "cell_type": "code",
   "execution_count": 5,
   "id": "210b617d",
   "metadata": {},
   "outputs": [
    {
     "data": {
      "text/html": [
       "<div>\n",
       "<style scoped>\n",
       "    .dataframe tbody tr th:only-of-type {\n",
       "        vertical-align: middle;\n",
       "    }\n",
       "\n",
       "    .dataframe tbody tr th {\n",
       "        vertical-align: top;\n",
       "    }\n",
       "\n",
       "    .dataframe thead th {\n",
       "        text-align: right;\n",
       "    }\n",
       "</style>\n",
       "<table border=\"1\" class=\"dataframe\">\n",
       "  <thead>\n",
       "    <tr style=\"text-align: right;\">\n",
       "      <th></th>\n",
       "      <th>cement</th>\n",
       "      <th>slag</th>\n",
       "      <th>ash</th>\n",
       "      <th>water</th>\n",
       "      <th>superplasticizer</th>\n",
       "      <th>coarseagg</th>\n",
       "      <th>fineagg</th>\n",
       "      <th>age</th>\n",
       "      <th>strength</th>\n",
       "    </tr>\n",
       "  </thead>\n",
       "  <tbody>\n",
       "    <tr>\n",
       "      <th>0</th>\n",
       "      <td>540.0</td>\n",
       "      <td>0.0</td>\n",
       "      <td>0.0</td>\n",
       "      <td>162.0</td>\n",
       "      <td>2.5</td>\n",
       "      <td>1040.0</td>\n",
       "      <td>676.0</td>\n",
       "      <td>28</td>\n",
       "      <td>79.99</td>\n",
       "    </tr>\n",
       "    <tr>\n",
       "      <th>1</th>\n",
       "      <td>540.0</td>\n",
       "      <td>0.0</td>\n",
       "      <td>0.0</td>\n",
       "      <td>162.0</td>\n",
       "      <td>2.5</td>\n",
       "      <td>1055.0</td>\n",
       "      <td>676.0</td>\n",
       "      <td>28</td>\n",
       "      <td>61.89</td>\n",
       "    </tr>\n",
       "    <tr>\n",
       "      <th>2</th>\n",
       "      <td>332.5</td>\n",
       "      <td>142.5</td>\n",
       "      <td>0.0</td>\n",
       "      <td>228.0</td>\n",
       "      <td>0.0</td>\n",
       "      <td>932.0</td>\n",
       "      <td>594.0</td>\n",
       "      <td>270</td>\n",
       "      <td>40.27</td>\n",
       "    </tr>\n",
       "    <tr>\n",
       "      <th>3</th>\n",
       "      <td>332.5</td>\n",
       "      <td>142.5</td>\n",
       "      <td>0.0</td>\n",
       "      <td>228.0</td>\n",
       "      <td>0.0</td>\n",
       "      <td>932.0</td>\n",
       "      <td>594.0</td>\n",
       "      <td>365</td>\n",
       "      <td>41.05</td>\n",
       "    </tr>\n",
       "    <tr>\n",
       "      <th>4</th>\n",
       "      <td>198.6</td>\n",
       "      <td>132.4</td>\n",
       "      <td>0.0</td>\n",
       "      <td>192.0</td>\n",
       "      <td>0.0</td>\n",
       "      <td>978.4</td>\n",
       "      <td>825.5</td>\n",
       "      <td>360</td>\n",
       "      <td>44.30</td>\n",
       "    </tr>\n",
       "  </tbody>\n",
       "</table>\n",
       "</div>"
      ],
      "text/plain": [
       "   cement   slag  ash  water  superplasticizer  coarseagg  fineagg  age  \\\n",
       "0   540.0    0.0  0.0  162.0               2.5     1040.0    676.0   28   \n",
       "1   540.0    0.0  0.0  162.0               2.5     1055.0    676.0   28   \n",
       "2   332.5  142.5  0.0  228.0               0.0      932.0    594.0  270   \n",
       "3   332.5  142.5  0.0  228.0               0.0      932.0    594.0  365   \n",
       "4   198.6  132.4  0.0  192.0               0.0      978.4    825.5  360   \n",
       "\n",
       "   strength  \n",
       "0     79.99  \n",
       "1     61.89  \n",
       "2     40.27  \n",
       "3     41.05  \n",
       "4     44.30  "
      ]
     },
     "execution_count": 5,
     "metadata": {},
     "output_type": "execute_result"
    }
   ],
   "source": [
    "df.head()"
   ]
  },
  {
   "cell_type": "code",
   "execution_count": 6,
   "id": "f14622f2",
   "metadata": {},
   "outputs": [
    {
     "data": {
      "text/plain": [
       "cement              float64\n",
       "slag                float64\n",
       "ash                 float64\n",
       "water               float64\n",
       "superplasticizer    float64\n",
       "coarseagg           float64\n",
       "fineagg             float64\n",
       "age                   int64\n",
       "strength            float64\n",
       "dtype: object"
      ]
     },
     "execution_count": 6,
     "metadata": {},
     "output_type": "execute_result"
    }
   ],
   "source": [
    "df.dtypes"
   ]
  },
  {
   "cell_type": "code",
   "execution_count": 7,
   "id": "b10b31b5",
   "metadata": {},
   "outputs": [
    {
     "data": {
      "text/plain": [
       "cement              0\n",
       "slag                0\n",
       "ash                 0\n",
       "water               0\n",
       "superplasticizer    0\n",
       "coarseagg           0\n",
       "fineagg             0\n",
       "age                 0\n",
       "strength            0\n",
       "dtype: int64"
      ]
     },
     "execution_count": 7,
     "metadata": {},
     "output_type": "execute_result"
    }
   ],
   "source": [
    "df.isnull().sum()"
   ]
  },
  {
   "cell_type": "code",
   "execution_count": 8,
   "id": "9c4bb2e1",
   "metadata": {},
   "outputs": [
    {
     "data": {
      "text/html": [
       "<div>\n",
       "<style scoped>\n",
       "    .dataframe tbody tr th:only-of-type {\n",
       "        vertical-align: middle;\n",
       "    }\n",
       "\n",
       "    .dataframe tbody tr th {\n",
       "        vertical-align: top;\n",
       "    }\n",
       "\n",
       "    .dataframe thead th {\n",
       "        text-align: right;\n",
       "    }\n",
       "</style>\n",
       "<table border=\"1\" class=\"dataframe\">\n",
       "  <thead>\n",
       "    <tr style=\"text-align: right;\">\n",
       "      <th></th>\n",
       "      <th>count</th>\n",
       "      <th>mean</th>\n",
       "      <th>std</th>\n",
       "      <th>min</th>\n",
       "      <th>25%</th>\n",
       "      <th>50%</th>\n",
       "      <th>75%</th>\n",
       "      <th>max</th>\n",
       "    </tr>\n",
       "  </thead>\n",
       "  <tbody>\n",
       "    <tr>\n",
       "      <th>cement</th>\n",
       "      <td>1030.0</td>\n",
       "      <td>281.167864</td>\n",
       "      <td>104.506364</td>\n",
       "      <td>102.00</td>\n",
       "      <td>192.375</td>\n",
       "      <td>272.900</td>\n",
       "      <td>350.000</td>\n",
       "      <td>540.0</td>\n",
       "    </tr>\n",
       "    <tr>\n",
       "      <th>slag</th>\n",
       "      <td>1030.0</td>\n",
       "      <td>73.895825</td>\n",
       "      <td>86.279342</td>\n",
       "      <td>0.00</td>\n",
       "      <td>0.000</td>\n",
       "      <td>22.000</td>\n",
       "      <td>142.950</td>\n",
       "      <td>359.4</td>\n",
       "    </tr>\n",
       "    <tr>\n",
       "      <th>ash</th>\n",
       "      <td>1030.0</td>\n",
       "      <td>54.188350</td>\n",
       "      <td>63.997004</td>\n",
       "      <td>0.00</td>\n",
       "      <td>0.000</td>\n",
       "      <td>0.000</td>\n",
       "      <td>118.300</td>\n",
       "      <td>200.1</td>\n",
       "    </tr>\n",
       "    <tr>\n",
       "      <th>water</th>\n",
       "      <td>1030.0</td>\n",
       "      <td>181.567282</td>\n",
       "      <td>21.354219</td>\n",
       "      <td>121.80</td>\n",
       "      <td>164.900</td>\n",
       "      <td>185.000</td>\n",
       "      <td>192.000</td>\n",
       "      <td>247.0</td>\n",
       "    </tr>\n",
       "    <tr>\n",
       "      <th>superplasticizer</th>\n",
       "      <td>1030.0</td>\n",
       "      <td>6.204660</td>\n",
       "      <td>5.973841</td>\n",
       "      <td>0.00</td>\n",
       "      <td>0.000</td>\n",
       "      <td>6.400</td>\n",
       "      <td>10.200</td>\n",
       "      <td>32.2</td>\n",
       "    </tr>\n",
       "    <tr>\n",
       "      <th>coarseagg</th>\n",
       "      <td>1030.0</td>\n",
       "      <td>972.918932</td>\n",
       "      <td>77.753954</td>\n",
       "      <td>801.00</td>\n",
       "      <td>932.000</td>\n",
       "      <td>968.000</td>\n",
       "      <td>1029.400</td>\n",
       "      <td>1145.0</td>\n",
       "    </tr>\n",
       "    <tr>\n",
       "      <th>fineagg</th>\n",
       "      <td>1030.0</td>\n",
       "      <td>773.580485</td>\n",
       "      <td>80.175980</td>\n",
       "      <td>594.00</td>\n",
       "      <td>730.950</td>\n",
       "      <td>779.500</td>\n",
       "      <td>824.000</td>\n",
       "      <td>992.6</td>\n",
       "    </tr>\n",
       "    <tr>\n",
       "      <th>age</th>\n",
       "      <td>1030.0</td>\n",
       "      <td>45.662136</td>\n",
       "      <td>63.169912</td>\n",
       "      <td>1.00</td>\n",
       "      <td>7.000</td>\n",
       "      <td>28.000</td>\n",
       "      <td>56.000</td>\n",
       "      <td>365.0</td>\n",
       "    </tr>\n",
       "    <tr>\n",
       "      <th>strength</th>\n",
       "      <td>1030.0</td>\n",
       "      <td>35.817961</td>\n",
       "      <td>16.705742</td>\n",
       "      <td>2.33</td>\n",
       "      <td>23.710</td>\n",
       "      <td>34.445</td>\n",
       "      <td>46.135</td>\n",
       "      <td>82.6</td>\n",
       "    </tr>\n",
       "  </tbody>\n",
       "</table>\n",
       "</div>"
      ],
      "text/plain": [
       "                   count        mean         std     min      25%      50%  \\\n",
       "cement            1030.0  281.167864  104.506364  102.00  192.375  272.900   \n",
       "slag              1030.0   73.895825   86.279342    0.00    0.000   22.000   \n",
       "ash               1030.0   54.188350   63.997004    0.00    0.000    0.000   \n",
       "water             1030.0  181.567282   21.354219  121.80  164.900  185.000   \n",
       "superplasticizer  1030.0    6.204660    5.973841    0.00    0.000    6.400   \n",
       "coarseagg         1030.0  972.918932   77.753954  801.00  932.000  968.000   \n",
       "fineagg           1030.0  773.580485   80.175980  594.00  730.950  779.500   \n",
       "age               1030.0   45.662136   63.169912    1.00    7.000   28.000   \n",
       "strength          1030.0   35.817961   16.705742    2.33   23.710   34.445   \n",
       "\n",
       "                       75%     max  \n",
       "cement             350.000   540.0  \n",
       "slag               142.950   359.4  \n",
       "ash                118.300   200.1  \n",
       "water              192.000   247.0  \n",
       "superplasticizer    10.200    32.2  \n",
       "coarseagg         1029.400  1145.0  \n",
       "fineagg            824.000   992.6  \n",
       "age                 56.000   365.0  \n",
       "strength            46.135    82.6  "
      ]
     },
     "execution_count": 8,
     "metadata": {},
     "output_type": "execute_result"
    }
   ],
   "source": [
    "df.describe().T"
   ]
  },
  {
   "cell_type": "markdown",
   "id": "e15afa09",
   "metadata": {},
   "source": [
    "## Exploratory data analysis"
   ]
  },
  {
   "cell_type": "code",
   "execution_count": 9,
   "id": "b5b6bbc1",
   "metadata": {},
   "outputs": [],
   "source": [
    "from scipy import stats"
   ]
  },
  {
   "cell_type": "markdown",
   "id": "d1d6b54c",
   "metadata": {},
   "source": [
    "**For cement**"
   ]
  },
  {
   "cell_type": "code",
   "execution_count": 10,
   "id": "6ac22d0d",
   "metadata": {},
   "outputs": [
    {
     "name": "stdout",
     "output_type": "stream",
     "text": [
      "first Quartile is  192.375\n",
      "third Quartile is  350.0\n",
      "Interquartile range (IQR) is 157.625\n"
     ]
    }
   ],
   "source": [
    "Q1 = df['cement'].quantile(q = 0.25)\n",
    "Q3 = df['cement'].quantile(q = 0.75)\n",
    "print('first Quartile is ', Q1)\n",
    "print('third Quartile is ', Q3)\n",
    "print('Interquartile range (IQR) is', stats.iqr(df['cement']))"
   ]
  },
  {
   "cell_type": "code",
   "execution_count": 11,
   "id": "1e5b21b9",
   "metadata": {},
   "outputs": [
    {
     "name": "stdout",
     "output_type": "stream",
     "text": [
      "Lower outlier Limit in Cement is  -44.0625\n",
      "Upper outlier Limit in Cement is  586.4375\n"
     ]
    }
   ],
   "source": [
    "Lower_outlier = Q1 - 1.5*(Q3 - Q1)\n",
    "Upper_outlier = Q3 + 1.5*(Q3 - Q1)\n",
    "\n",
    "print('Lower outlier Limit in Cement is ', Lower_outlier)\n",
    "print('Upper outlier Limit in Cement is ', Upper_outlier)"
   ]
  },
  {
   "cell_type": "code",
   "execution_count": 12,
   "id": "7b0ecb5d",
   "metadata": {},
   "outputs": [
    {
     "name": "stdout",
     "output_type": "stream",
     "text": [
      "Number of Upper outliers in cement is  0\n",
      "Number of Lower outliers in cement is  0\n"
     ]
    }
   ],
   "source": [
    "print('Number of Upper outliers in cement is ', df[df['cement'] > 586]['cement'].count())\n",
    "print('Number of Lower outliers in cement is ', df[df['cement'] < -44]['cement'].count())"
   ]
  },
  {
   "cell_type": "markdown",
   "id": "76863618",
   "metadata": {},
   "source": [
    "*So, there is no outlier for cement*"
   ]
  },
  {
   "cell_type": "markdown",
   "id": "8a2d3e34",
   "metadata": {},
   "source": [
    "**Visualisation**"
   ]
  },
  {
   "cell_type": "code",
   "execution_count": 13,
   "id": "736c46b8",
   "metadata": {},
   "outputs": [
    {
     "data": {
      "application/javascript": [
       "\n",
       "        if (window._pyforest_update_imports_cell) { window._pyforest_update_imports_cell('import pandas as pd\\nimport seaborn as sns'); }\n",
       "    "
      ],
      "text/plain": [
       "<IPython.core.display.Javascript object>"
      ]
     },
     "metadata": {},
     "output_type": "display_data"
    },
    {
     "data": {
      "text/plain": [
       "<AxesSubplot:xlabel='cement'>"
      ]
     },
     "execution_count": 13,
     "metadata": {},
     "output_type": "execute_result"
    },
    {
     "data": {
      "image/png": "[encoded data removed]",
      "text/plain": [
       "<Figure size 432x288 with 1 Axes>"
      ]
     },
     "metadata": {
      "needs_background": "light"
     },
     "output_type": "display_data"
    }
   ],
   "source": [
    "sns.boxplot(x= 'cement', data = df, orient = 'h')"
   ]
  },
  {
   "cell_type": "markdown",
   "id": "1559d5e8",
   "metadata": {},
   "source": [
    "**For slag**"
   ]
  },
  {
   "cell_type": "code",
   "execution_count": 14,
   "id": "77b82d0b",
   "metadata": {},
   "outputs": [
    {
     "name": "stdout",
     "output_type": "stream",
     "text": [
      "first Quartile is  0.0\n",
      "third Quartile is  142.95\n",
      "Interquartile range (IQR) is 142.95\n"
     ]
    }
   ],
   "source": [
    "Q1 = df['slag'].quantile(q = 0.25)\n",
    "Q3 = df['slag'].quantile(q = 0.75)\n",
    "print('first Quartile is ', Q1)\n",
    "print('third Quartile is ', Q3)\n",
    "print('Interquartile range (IQR) is', stats.iqr(df['slag']))"
   ]
  },
  {
   "cell_type": "code",
   "execution_count": 15,
   "id": "8e2b4594",
   "metadata": {},
   "outputs": [
    {
     "name": "stdout",
     "output_type": "stream",
     "text": [
      "Lower outlier Limit in slag is  -214.42499999999998\n",
      "Upper outlier Limit in slag is  357.375\n"
     ]
    }
   ],
   "source": [
    "Lower_outlier = Q1 - 1.5*(Q3 - Q1)\n",
    "Upper_outlier = Q3 + 1.5*(Q3 - Q1)\n",
    "\n",
    "print('Lower outlier Limit in slag is ', Lower_outlier)\n",
    "print('Upper outlier Limit in slag is ', Upper_outlier)"
   ]
  },
  {
   "cell_type": "code",
   "execution_count": 16,
   "id": "e75cce96",
   "metadata": {},
   "outputs": [
    {
     "name": "stdout",
     "output_type": "stream",
     "text": [
      "Number of Upper outliers in slag is  2\n",
      "Number of Lower outliers in slag is  0\n"
     ]
    }
   ],
   "source": [
    "print('Number of Upper outliers in slag is ', df[df['slag'] > 357]['slag'].count())\n",
    "print('Number of Lower outliers in slag is ', df[df['slag'] < -214]['slag'].count())"
   ]
  },
  {
   "cell_type": "code",
   "execution_count": 17,
   "id": "7548fcbe",
   "metadata": {},
   "outputs": [
    {
     "data": {
      "application/javascript": [
       "\n",
       "        if (window._pyforest_update_imports_cell) { window._pyforest_update_imports_cell('import pandas as pd\\nimport seaborn as sns'); }\n",
       "    "
      ],
      "text/plain": [
       "<IPython.core.display.Javascript object>"
      ]
     },
     "metadata": {},
     "output_type": "display_data"
    },
    {
     "data": {
      "text/plain": [
       "<AxesSubplot:xlabel='slag'>"
      ]
     },
     "execution_count": 17,
     "metadata": {},
     "output_type": "execute_result"
    },
    {
     "data": {
      "image/png": "[encoded data removed]",
      "text/plain": [
       "<Figure size 432x288 with 1 Axes>"
      ]
     },
     "metadata": {
      "needs_background": "light"
     },
     "output_type": "display_data"
    }
   ],
   "source": [
    "sns.boxplot(x= 'slag', data = df, orient = 'h')"
   ]
  },
  {
   "cell_type": "markdown",
   "id": "fb726860",
   "metadata": {},
   "source": [
    "**For ash**"
   ]
  },
  {
   "cell_type": "code",
   "execution_count": 18,
   "id": "81fc102b",
   "metadata": {},
   "outputs": [
    {
     "name": "stdout",
     "output_type": "stream",
     "text": [
      "first Quartile is  0.0\n",
      "third Quartile is  118.3\n",
      "Interquartile range (IQR) is 118.3\n",
      "\n",
      "Lower outlier Limit in ash is  -177.45\n",
      "Upper outlier Limit in ash is  295.75\n"
     ]
    }
   ],
   "source": [
    "Q1 = df['ash'].quantile(q = 0.25)\n",
    "Q3 = df['ash'].quantile(q = 0.75)\n",
    "print('first Quartile is ', Q1)\n",
    "print('third Quartile is ', Q3)\n",
    "print('Interquartile range (IQR) is', stats.iqr(df['ash']))\n",
    "print()\n",
    "\n",
    "Lower_outlier = Q1 - 1.5*(Q3 - Q1)\n",
    "Upper_outlier = Q3 + 1.5*(Q3 - Q1)\n",
    "\n",
    "print('Lower outlier Limit in ash is ', Lower_outlier)\n",
    "print('Upper outlier Limit in ash is ', Upper_outlier)"
   ]
  },
  {
   "cell_type": "code",
   "execution_count": 19,
   "id": "119a85bd",
   "metadata": {},
   "outputs": [
    {
     "name": "stdout",
     "output_type": "stream",
     "text": [
      "Number of Upper outliers in ash is  0\n",
      "Number of Lower outliers in ash is  0\n"
     ]
    }
   ],
   "source": [
    "print('Number of Upper outliers in ash is ', df[df['ash'] > 295]['ash'].count())\n",
    "print('Number of Lower outliers in ash is ', df[df['ash'] < -177]['ash'].count())"
   ]
  },
  {
   "cell_type": "code",
   "execution_count": 20,
   "id": "a583b43f",
   "metadata": {},
   "outputs": [
    {
     "data": {
      "application/javascript": [
       "\n",
       "        if (window._pyforest_update_imports_cell) { window._pyforest_update_imports_cell('import pandas as pd\\nimport seaborn as sns'); }\n",
       "    "
      ],
      "text/plain": [
       "<IPython.core.display.Javascript object>"
      ]
     },
     "metadata": {},
     "output_type": "display_data"
    },
    {
     "data": {
      "text/plain": [
       "<AxesSubplot:xlabel='ash'>"
      ]
     },
     "execution_count": 20,
     "metadata": {},
     "output_type": "execute_result"
    },
    {
     "data": {
      "image/png": "[encoded data removed]",
      "text/plain": [
       "<Figure size 432x288 with 1 Axes>"
      ]
     },
     "metadata": {
      "needs_background": "light"
     },
     "output_type": "display_data"
    }
   ],
   "source": [
    "\n",
    "sns.boxplot(x= 'ash', data = df, orient = 'h')"
   ]
  },
  {
   "cell_type": "code",
   "execution_count": 21,
   "id": "4a0de963",
   "metadata": {},
   "outputs": [
    {
     "data": {
      "application/javascript": [
       "\n",
       "        if (window._pyforest_update_imports_cell) { window._pyforest_update_imports_cell('import pandas as pd\\nimport seaborn as sns\\nimport matplotlib.pyplot as plt'); }\n",
       "    "
      ],
      "text/plain": [
       "<IPython.core.display.Javascript object>"
      ]
     },
     "metadata": {},
     "output_type": "display_data"
    },
    {
     "data": {
      "application/javascript": [
       "\n",
       "        if (window._pyforest_update_imports_cell) { window._pyforest_update_imports_cell('import pandas as pd\\nimport seaborn as sns\\nimport matplotlib.pyplot as plt'); }\n",
       "    "
      ],
      "text/plain": [
       "<IPython.core.display.Javascript object>"
      ]
     },
     "metadata": {},
     "output_type": "display_data"
    },
    {
     "name": "stderr",
     "output_type": "stream",
     "text": [
      "c:\\users\\abhis\\appdata\\local\\programs\\python\\python39\\lib\\site-packages\\seaborn\\distributions.py:2557: FutureWarning: `distplot` is a deprecated function and will be removed in a future version. Please adapt your code to use either `displot` (a figure-level function with similar flexibility) or `histplot` (an axes-level function for histograms).\n",
      "  warnings.warn(msg, FutureWarning)\n"
     ]
    },
    {
     "data": {
      "text/plain": [
       "Text(0.5, 1.0, 'Ash')"
      ]
     },
     "execution_count": 21,
     "metadata": {},
     "output_type": "execute_result"
    },
    {
     "data": {
      "image/png": "[encoded data removed]",
      "text/plain": [
       "<Figure size 720x576 with 1 Axes>"
      ]
     },
     "metadata": {
      "needs_background": "light"
     },
     "output_type": "display_data"
    }
   ],
   "source": [
    "plt.figure(figsize = (10, 8))\n",
    "sns.distplot(df['ash']).set_title('Ash')"
   ]
  },
  {
   "cell_type": "markdown",
   "id": "edac4454",
   "metadata": {},
   "source": [
    "**For water**"
   ]
  },
  {
   "cell_type": "code",
   "execution_count": 22,
   "id": "6eb992a9",
   "metadata": {},
   "outputs": [
    {
     "name": "stdout",
     "output_type": "stream",
     "text": [
      "first Quartile is  164.9\n",
      "third Quartile is  192.0\n",
      "Interquartile range (IQR) is 27.099999999999994\n",
      "\n",
      "Lower outlier Limit in water is  124.25000000000001\n",
      "Upper outlier Limit in water is  232.64999999999998\n"
     ]
    }
   ],
   "source": [
    "Q1 = df['water'].quantile(q = 0.25)\n",
    "Q3 = df['water'].quantile(q = 0.75)\n",
    "print('first Quartile is ', Q1)\n",
    "print('third Quartile is ', Q3)\n",
    "print('Interquartile range (IQR) is', stats.iqr(df['water']))\n",
    "print()\n",
    "\n",
    "Lower_outlier = Q1 - 1.5*(Q3 - Q1)\n",
    "Upper_outlier = Q3 + 1.5*(Q3 - Q1)\n",
    "\n",
    "print('Lower outlier Limit in water is ', Lower_outlier)\n",
    "print('Upper outlier Limit in water is ', Upper_outlier)"
   ]
  },
  {
   "cell_type": "code",
   "execution_count": 23,
   "id": "035cff2c",
   "metadata": {},
   "outputs": [
    {
     "name": "stdout",
     "output_type": "stream",
     "text": [
      "Number of Upper outliers in water is  4\n",
      "Number of Lower outliers in water is  5\n"
     ]
    }
   ],
   "source": [
    "print('Number of Upper outliers in water is ', df[df['water'] > 232]['water'].count())\n",
    "print('Number of Lower outliers in water is ', df[df['water'] < 124]['water'].count())"
   ]
  },
  {
   "cell_type": "code",
   "execution_count": 24,
   "id": "4478591d",
   "metadata": {},
   "outputs": [
    {
     "data": {
      "application/javascript": [
       "\n",
       "        if (window._pyforest_update_imports_cell) { window._pyforest_update_imports_cell('import pandas as pd\\nimport seaborn as sns\\nimport matplotlib.pyplot as plt'); }\n",
       "    "
      ],
      "text/plain": [
       "<IPython.core.display.Javascript object>"
      ]
     },
     "metadata": {},
     "output_type": "display_data"
    },
    {
     "data": {
      "text/plain": [
       "<AxesSubplot:xlabel='water'>"
      ]
     },
     "execution_count": 24,
     "metadata": {},
     "output_type": "execute_result"
    },
    {
     "data": {
      "image/png": "[encoded data removed]",
      "text/plain": [
       "<Figure size 432x288 with 1 Axes>"
      ]
     },
     "metadata": {
      "needs_background": "light"
     },
     "output_type": "display_data"
    }
   ],
   "source": [
    "sns.boxplot(x= 'water', data = df, orient = 'h')"
   ]
  },
  {
   "cell_type": "markdown",
   "id": "dc1c6c47",
   "metadata": {},
   "source": [
    "**For superplasticizer**"
   ]
  },
  {
   "cell_type": "code",
   "execution_count": 25,
   "id": "ceb45e67",
   "metadata": {},
   "outputs": [
    {
     "name": "stdout",
     "output_type": "stream",
     "text": [
      "first Quartile is  0.0\n",
      "third Quartile is  10.2\n",
      "Interquartile range (IQR) is 10.2\n",
      "\n",
      "Lower outlier Limit in superplasticizer is  -15.299999999999999\n",
      "Upper outlier Limit in superplasticizer is  25.5\n"
     ]
    }
   ],
   "source": [
    "Q1 = df['superplasticizer'].quantile(q = 0.25)\n",
    "Q3 = df['superplasticizer'].quantile(q = 0.75)\n",
    "print('first Quartile is ', Q1)\n",
    "print('third Quartile is ', Q3)\n",
    "print('Interquartile range (IQR) is', stats.iqr(df['superplasticizer']))\n",
    "print()\n",
    "\n",
    "Lower_outlier = Q1 - 1.5*(Q3 - Q1)\n",
    "Upper_outlier = Q3 + 1.5*(Q3 - Q1)\n",
    "\n",
    "print('Lower outlier Limit in superplasticizer is ', Lower_outlier)\n",
    "print('Upper outlier Limit in superplasticizer is ', Upper_outlier)"
   ]
  },
  {
   "cell_type": "code",
   "execution_count": 26,
   "id": "e16ed8d6",
   "metadata": {},
   "outputs": [
    {
     "name": "stdout",
     "output_type": "stream",
     "text": [
      "Number of Upper outliers in superplasticizer is  10\n",
      "Number of Lower outliers in superplasticizer is  0\n"
     ]
    }
   ],
   "source": [
    "print('Number of Upper outliers in superplasticizer is ', df[df['superplasticizer'] > 25]['superplasticizer'].count())\n",
    "print('Number of Lower outliers in superplasticizer is ', df[df['superplasticizer'] < -15]['superplasticizer'].count())"
   ]
  },
  {
   "cell_type": "code",
   "execution_count": 27,
   "id": "d67db410",
   "metadata": {},
   "outputs": [
    {
     "data": {
      "application/javascript": [
       "\n",
       "        if (window._pyforest_update_imports_cell) { window._pyforest_update_imports_cell('import pandas as pd\\nimport seaborn as sns\\nimport matplotlib.pyplot as plt'); }\n",
       "    "
      ],
      "text/plain": [
       "<IPython.core.display.Javascript object>"
      ]
     },
     "metadata": {},
     "output_type": "display_data"
    },
    {
     "data": {
      "text/plain": [
       "<AxesSubplot:xlabel='superplasticizer'>"
      ]
     },
     "execution_count": 27,
     "metadata": {},
     "output_type": "execute_result"
    },
    {
     "data": {
      "image/png": "[encoded data removed]",
      "text/plain": [
       "<Figure size 432x288 with 1 Axes>"
      ]
     },
     "metadata": {
      "needs_background": "light"
     },
     "output_type": "display_data"
    }
   ],
   "source": [
    "sns.boxplot(x= 'superplasticizer', data = df, orient = 'h')"
   ]
  },
  {
   "cell_type": "markdown",
   "id": "c0569e4d",
   "metadata": {},
   "source": [
    "**For coarseagg**"
   ]
  },
  {
   "cell_type": "code",
   "execution_count": 28,
   "id": "ba8bd90d",
   "metadata": {},
   "outputs": [
    {
     "name": "stdout",
     "output_type": "stream",
     "text": [
      "first Quartile is  932.0\n",
      "third Quartile is  1029.4\n",
      "Interquartile range (IQR) is 97.40000000000009\n",
      "\n",
      "Lower outlier Limit in coarseagg is  785.8999999999999\n",
      "Upper outlier Limit in coarseagg is  1175.5000000000002\n"
     ]
    }
   ],
   "source": [
    "Q1 = df['coarseagg'].quantile(q = 0.25)\n",
    "Q3 = df['coarseagg'].quantile(q = 0.75)\n",
    "print('first Quartile is ', Q1)\n",
    "print('third Quartile is ', Q3)\n",
    "print('Interquartile range (IQR) is', stats.iqr(df['coarseagg']))\n",
    "print()\n",
    "\n",
    "Lower_outlier = Q1 - 1.5*(Q3 - Q1)\n",
    "Upper_outlier = Q3 + 1.5*(Q3 - Q1)\n",
    "\n",
    "print('Lower outlier Limit in coarseagg is ', Lower_outlier)\n",
    "print('Upper outlier Limit in coarseagg is ', Upper_outlier)"
   ]
  },
  {
   "cell_type": "code",
   "execution_count": 29,
   "id": "9624d411",
   "metadata": {},
   "outputs": [
    {
     "name": "stdout",
     "output_type": "stream",
     "text": [
      "Number of Upper outliers in coarseagg is  0\n",
      "Number of Lower outliers in coarseagg is  0\n"
     ]
    }
   ],
   "source": [
    "print('Number of Upper outliers in coarseagg is ', df[df['coarseagg'] > 1175]['coarseagg'].count())\n",
    "print('Number of Lower outliers in coarseagg is ', df[df['coarseagg'] < 785]['coarseagg'].count())"
   ]
  },
  {
   "cell_type": "code",
   "execution_count": 30,
   "id": "50bb06d8",
   "metadata": {},
   "outputs": [
    {
     "data": {
      "application/javascript": [
       "\n",
       "        if (window._pyforest_update_imports_cell) { window._pyforest_update_imports_cell('import pandas as pd\\nimport seaborn as sns\\nimport matplotlib.pyplot as plt'); }\n",
       "    "
      ],
      "text/plain": [
       "<IPython.core.display.Javascript object>"
      ]
     },
     "metadata": {},
     "output_type": "display_data"
    },
    {
     "data": {
      "text/plain": [
       "<AxesSubplot:xlabel='coarseagg'>"
      ]
     },
     "execution_count": 30,
     "metadata": {},
     "output_type": "execute_result"
    },
    {
     "data": {
      "image/png": "[encoded data removed]",
      "text/plain": [
       "<Figure size 432x288 with 1 Axes>"
      ]
     },
     "metadata": {
      "needs_background": "light"
     },
     "output_type": "display_data"
    }
   ],
   "source": [
    "sns.boxplot(x= 'coarseagg', data = df, orient = 'h')"
   ]
  },
  {
   "cell_type": "markdown",
   "id": "0083f8a2",
   "metadata": {},
   "source": [
    "**For fineagg**"
   ]
  },
  {
   "cell_type": "code",
   "execution_count": 31,
   "id": "e78be29e",
   "metadata": {},
   "outputs": [
    {
     "name": "stdout",
     "output_type": "stream",
     "text": [
      "first Quartile is  730.95\n",
      "third Quartile is  824.0\n",
      "Interquartile range (IQR) is 93.04999999999995\n",
      "\n",
      "Lower outlier Limit in fineagg is  591.3750000000001\n",
      "Upper outlier Limit in fineagg is  963.5749999999999\n"
     ]
    }
   ],
   "source": [
    "Q1 = df['fineagg'].quantile(q = 0.25)\n",
    "Q3 = df['fineagg'].quantile(q = 0.75)\n",
    "print('first Quartile is ', Q1)\n",
    "print('third Quartile is ', Q3)\n",
    "print('Interquartile range (IQR) is', stats.iqr(df['fineagg']))\n",
    "print()\n",
    "\n",
    "Lower_outlier = Q1 - 1.5*(Q3 - Q1)\n",
    "Upper_outlier = Q3 + 1.5*(Q3 - Q1)\n",
    "\n",
    "print('Lower outlier Limit in fineagg is ', Lower_outlier)\n",
    "print('Upper outlier Limit in fineagg is ', Upper_outlier)"
   ]
  },
  {
   "cell_type": "code",
   "execution_count": 32,
   "id": "d1c0c24f",
   "metadata": {},
   "outputs": [
    {
     "name": "stdout",
     "output_type": "stream",
     "text": [
      "Number of Upper outliers in fineagg is  5\n",
      "Number of Lower outliers in fineagg is  0\n"
     ]
    }
   ],
   "source": [
    "print('Number of Upper outliers in fineagg is ', df[df['fineagg'] > 963]['fineagg'].count())\n",
    "print('Number of Lower outliers in fineagg is ', df[df['fineagg'] < 591]['fineagg'].count())"
   ]
  },
  {
   "cell_type": "code",
   "execution_count": 33,
   "id": "f30f65df",
   "metadata": {},
   "outputs": [
    {
     "data": {
      "application/javascript": [
       "\n",
       "        if (window._pyforest_update_imports_cell) { window._pyforest_update_imports_cell('import pandas as pd\\nimport seaborn as sns\\nimport matplotlib.pyplot as plt'); }\n",
       "    "
      ],
      "text/plain": [
       "<IPython.core.display.Javascript object>"
      ]
     },
     "metadata": {},
     "output_type": "display_data"
    },
    {
     "data": {
      "text/plain": [
       "<AxesSubplot:xlabel='fineagg'>"
      ]
     },
     "execution_count": 33,
     "metadata": {},
     "output_type": "execute_result"
    },
    {
     "data": {
      "image/png": "[encoded data removed]",
      "text/plain": [
       "<Figure size 432x288 with 1 Axes>"
      ]
     },
     "metadata": {
      "needs_background": "light"
     },
     "output_type": "display_data"
    }
   ],
   "source": [
    "sns.boxplot(x= 'fineagg', data = df, orient = 'h')"
   ]
  },
  {
   "cell_type": "markdown",
   "id": "474801af",
   "metadata": {},
   "source": [
    "**For age**"
   ]
  },
  {
   "cell_type": "code",
   "execution_count": 34,
   "id": "b634349d",
   "metadata": {},
   "outputs": [
    {
     "name": "stdout",
     "output_type": "stream",
     "text": [
      "first Quartile is  7.0\n",
      "third Quartile is  56.0\n",
      "Interquartile range (IQR) is 49.0\n",
      "\n",
      "Lower outlier Limit in age is  -66.5\n",
      "Upper outlier Limit in age is  129.5\n"
     ]
    }
   ],
   "source": [
    "Q1 = df['age'].quantile(q = 0.25)\n",
    "Q3 = df['age'].quantile(q = 0.75)\n",
    "print('first Quartile is ', Q1)\n",
    "print('third Quartile is ', Q3)\n",
    "print('Interquartile range (IQR) is', stats.iqr(df['age']))\n",
    "print()\n",
    "\n",
    "Lower_outlier = Q1 - 1.5*(Q3 - Q1)\n",
    "Upper_outlier = Q3 + 1.5*(Q3 - Q1)\n",
    "\n",
    "print('Lower outlier Limit in age is ', Lower_outlier)\n",
    "print('Upper outlier Limit in age is ', Upper_outlier)"
   ]
  },
  {
   "cell_type": "code",
   "execution_count": 35,
   "id": "5af050d7",
   "metadata": {},
   "outputs": [
    {
     "name": "stdout",
     "output_type": "stream",
     "text": [
      "Number of Upper outliers in age is  59\n",
      "Number of Lower outliers in age is  0\n"
     ]
    }
   ],
   "source": [
    "print('Number of Upper outliers in age is ', df[df['age'] > 129]['age'].count())\n",
    "print('Number of Lower outliers in age is ', df[df['age'] < -66]['age'].count())"
   ]
  },
  {
   "cell_type": "code",
   "execution_count": 36,
   "id": "434a1c91",
   "metadata": {},
   "outputs": [
    {
     "data": {
      "application/javascript": [
       "\n",
       "        if (window._pyforest_update_imports_cell) { window._pyforest_update_imports_cell('import pandas as pd\\nimport seaborn as sns\\nimport matplotlib.pyplot as plt'); }\n",
       "    "
      ],
      "text/plain": [
       "<IPython.core.display.Javascript object>"
      ]
     },
     "metadata": {},
     "output_type": "display_data"
    },
    {
     "data": {
      "text/plain": [
       "<AxesSubplot:xlabel='age'>"
      ]
     },
     "execution_count": 36,
     "metadata": {},
     "output_type": "execute_result"
    },
    {
     "data": {
      "image/png": "[encoded data removed]",
      "text/plain": [
       "<Figure size 432x288 with 1 Axes>"
      ]
     },
     "metadata": {
      "needs_background": "light"
     },
     "output_type": "display_data"
    }
   ],
   "source": [
    "sns.boxplot(x= 'age', data = df, orient = 'h')"
   ]
  },
  {
   "cell_type": "markdown",
   "id": "de4014b6",
   "metadata": {},
   "source": [
    "## Model Building"
   ]
  },
  {
   "cell_type": "code",
   "execution_count": 37,
   "id": "d1031665",
   "metadata": {},
   "outputs": [],
   "source": [
    "X = df.drop('strength', axis = 1)\n",
    "y = df['strength']"
   ]
  },
  {
   "cell_type": "code",
   "execution_count": 38,
   "id": "74b684a3",
   "metadata": {},
   "outputs": [],
   "source": [
    "from scipy.stats import zscore"
   ]
  },
  {
   "cell_type": "code",
   "execution_count": 39,
   "id": "59209931",
   "metadata": {},
   "outputs": [
    {
     "data": {
      "application/javascript": [
       "\n",
       "        if (window._pyforest_update_imports_cell) { window._pyforest_update_imports_cell('import pandas as pd\\nimport seaborn as sns\\nimport matplotlib.pyplot as plt'); }\n",
       "    "
      ],
      "text/plain": [
       "<IPython.core.display.Javascript object>"
      ]
     },
     "metadata": {},
     "output_type": "display_data"
    }
   ],
   "source": [
    "x_trans = X.apply(zscore)\n",
    "x_trans_df = pd.DataFrame(x_trans, columns = df.columns)"
   ]
  },
  {
   "cell_type": "code",
   "execution_count": 40,
   "id": "927e3e8d",
   "metadata": {},
   "outputs": [
    {
     "data": {
      "application/javascript": [
       "\n",
       "        if (window._pyforest_update_imports_cell) { window._pyforest_update_imports_cell('import pandas as pd\\nimport seaborn as sns\\nfrom sklearn.model_selection import train_test_split\\nimport matplotlib.pyplot as plt'); }\n",
       "    "
      ],
      "text/plain": [
       "<IPython.core.display.Javascript object>"
      ]
     },
     "metadata": {},
     "output_type": "display_data"
    }
   ],
   "source": [
    "x_train, x_test, y_train, y_test = train_test_split(x_trans, y, test_size = 0.25, random_state = 1)"
   ]
  },
  {
   "cell_type": "markdown",
   "id": "1216c6be",
   "metadata": {},
   "source": [
    "**Random Forest Regressor**"
   ]
  },
  {
   "cell_type": "code",
   "execution_count": 41,
   "id": "0365f53f",
   "metadata": {},
   "outputs": [
    {
     "data": {
      "application/javascript": [
       "\n",
       "        if (window._pyforest_update_imports_cell) { window._pyforest_update_imports_cell('import seaborn as sns\\nfrom sklearn.ensemble import RandomForestRegressor\\nimport pandas as pd\\nfrom sklearn.model_selection import train_test_split\\nimport matplotlib.pyplot as plt'); }\n",
       "    "
      ],
      "text/plain": [
       "<IPython.core.display.Javascript object>"
      ]
     },
     "metadata": {},
     "output_type": "display_data"
    },
    {
     "data": {
      "text/plain": [
       "RandomForestRegressor()"
      ]
     },
     "execution_count": 41,
     "metadata": {},
     "output_type": "execute_result"
    }
   ],
   "source": [
    "model = RandomForestRegressor()\n",
    "model.fit(x_train, y_train)"
   ]
  },
  {
   "cell_type": "code",
   "execution_count": 42,
   "id": "64ffb018",
   "metadata": {},
   "outputs": [
    {
     "data": {
      "text/html": [
       "<div>\n",
       "<style scoped>\n",
       "    .dataframe tbody tr th:only-of-type {\n",
       "        vertical-align: middle;\n",
       "    }\n",
       "\n",
       "    .dataframe tbody tr th {\n",
       "        vertical-align: top;\n",
       "    }\n",
       "\n",
       "    .dataframe thead th {\n",
       "        text-align: right;\n",
       "    }\n",
       "</style>\n",
       "<table border=\"1\" class=\"dataframe\">\n",
       "  <thead>\n",
       "    <tr style=\"text-align: right;\">\n",
       "      <th></th>\n",
       "      <th>cement</th>\n",
       "      <th>slag</th>\n",
       "      <th>ash</th>\n",
       "      <th>water</th>\n",
       "      <th>superplasticizer</th>\n",
       "      <th>coarseagg</th>\n",
       "      <th>fineagg</th>\n",
       "      <th>age</th>\n",
       "    </tr>\n",
       "  </thead>\n",
       "  <tbody>\n",
       "    <tr>\n",
       "      <th>339</th>\n",
       "      <td>0.153483</td>\n",
       "      <td>-0.856888</td>\n",
       "      <td>0.989771</td>\n",
       "      <td>-0.317060</td>\n",
       "      <td>0.551896</td>\n",
       "      <td>0.641836</td>\n",
       "      <td>-0.250577</td>\n",
       "      <td>-0.675683</td>\n",
       "    </tr>\n",
       "    <tr>\n",
       "      <th>244</th>\n",
       "      <td>-0.412308</td>\n",
       "      <td>-0.856888</td>\n",
       "      <td>0.623952</td>\n",
       "      <td>0.240478</td>\n",
       "      <td>0.133202</td>\n",
       "      <td>-0.296192</td>\n",
       "      <td>0.916174</td>\n",
       "      <td>-0.675683</td>\n",
       "    </tr>\n",
       "    <tr>\n",
       "      <th>882</th>\n",
       "      <td>-1.351463</td>\n",
       "      <td>0.685366</td>\n",
       "      <td>0.763088</td>\n",
       "      <td>0.863608</td>\n",
       "      <td>0.133202</td>\n",
       "      <td>-0.732395</td>\n",
       "      <td>-0.256816</td>\n",
       "      <td>-0.279733</td>\n",
       "    </tr>\n",
       "    <tr>\n",
       "      <th>567</th>\n",
       "      <td>-0.743549</td>\n",
       "      <td>0.716674</td>\n",
       "      <td>-0.847144</td>\n",
       "      <td>0.193626</td>\n",
       "      <td>-1.039143</td>\n",
       "      <td>1.328952</td>\n",
       "      <td>-0.178201</td>\n",
       "      <td>-0.612331</td>\n",
       "    </tr>\n",
       "    <tr>\n",
       "      <th>923</th>\n",
       "      <td>-1.140847</td>\n",
       "      <td>1.543461</td>\n",
       "      <td>1.841787</td>\n",
       "      <td>1.613238</td>\n",
       "      <td>0.635635</td>\n",
       "      <td>-1.941924</td>\n",
       "      <td>-1.691858</td>\n",
       "      <td>-0.279733</td>\n",
       "    </tr>\n",
       "    <tr>\n",
       "      <th>...</th>\n",
       "      <td>...</td>\n",
       "      <td>...</td>\n",
       "      <td>...</td>\n",
       "      <td>...</td>\n",
       "      <td>...</td>\n",
       "      <td>...</td>\n",
       "      <td>...</td>\n",
       "      <td>...</td>\n",
       "    </tr>\n",
       "    <tr>\n",
       "      <th>779</th>\n",
       "      <td>0.132421</td>\n",
       "      <td>-0.856888</td>\n",
       "      <td>-0.847144</td>\n",
       "      <td>0.160829</td>\n",
       "      <td>-1.039143</td>\n",
       "      <td>1.236307</td>\n",
       "      <td>-0.057158</td>\n",
       "      <td>-0.279733</td>\n",
       "    </tr>\n",
       "    <tr>\n",
       "      <th>529</th>\n",
       "      <td>0.745122</td>\n",
       "      <td>-0.636566</td>\n",
       "      <td>1.357155</td>\n",
       "      <td>-1.291580</td>\n",
       "      <td>0.786365</td>\n",
       "      <td>-0.397844</td>\n",
       "      <td>0.342158</td>\n",
       "      <td>0.163731</td>\n",
       "    </tr>\n",
       "    <tr>\n",
       "      <th>713</th>\n",
       "      <td>-1.188714</td>\n",
       "      <td>1.879742</td>\n",
       "      <td>-0.847144</td>\n",
       "      <td>0.488793</td>\n",
       "      <td>-1.039143</td>\n",
       "      <td>-0.482768</td>\n",
       "      <td>0.095081</td>\n",
       "      <td>-0.675683</td>\n",
       "    </tr>\n",
       "    <tr>\n",
       "      <th>787</th>\n",
       "      <td>0.477065</td>\n",
       "      <td>-0.856888</td>\n",
       "      <td>-0.847144</td>\n",
       "      <td>0.488793</td>\n",
       "      <td>-1.039143</td>\n",
       "      <td>0.065380</td>\n",
       "      <td>0.641645</td>\n",
       "      <td>0.702224</td>\n",
       "    </tr>\n",
       "    <tr>\n",
       "      <th>107</th>\n",
       "      <td>0.407179</td>\n",
       "      <td>2.422430</td>\n",
       "      <td>-0.847144</td>\n",
       "      <td>0.104607</td>\n",
       "      <td>0.685878</td>\n",
       "      <td>-0.388837</td>\n",
       "      <td>-1.418576</td>\n",
       "      <td>-0.612331</td>\n",
       "    </tr>\n",
       "  </tbody>\n",
       "</table>\n",
       "<p>258 rows × 8 columns</p>\n",
       "</div>"
      ],
      "text/plain": [
       "       cement      slag       ash     water  superplasticizer  coarseagg  \\\n",
       "339  0.153483 -0.856888  0.989771 -0.317060          0.551896   0.641836   \n",
       "244 -0.412308 -0.856888  0.623952  0.240478          0.133202  -0.296192   \n",
       "882 -1.351463  0.685366  0.763088  0.863608          0.133202  -0.732395   \n",
       "567 -0.743549  0.716674 -0.847144  0.193626         -1.039143   1.328952   \n",
       "923 -1.140847  1.543461  1.841787  1.613238          0.635635  -1.941924   \n",
       "..        ...       ...       ...       ...               ...        ...   \n",
       "779  0.132421 -0.856888 -0.847144  0.160829         -1.039143   1.236307   \n",
       "529  0.745122 -0.636566  1.357155 -1.291580          0.786365  -0.397844   \n",
       "713 -1.188714  1.879742 -0.847144  0.488793         -1.039143  -0.482768   \n",
       "787  0.477065 -0.856888 -0.847144  0.488793         -1.039143   0.065380   \n",
       "107  0.407179  2.422430 -0.847144  0.104607          0.685878  -0.388837   \n",
       "\n",
       "      fineagg       age  \n",
       "339 -0.250577 -0.675683  \n",
       "244  0.916174 -0.675683  \n",
       "882 -0.256816 -0.279733  \n",
       "567 -0.178201 -0.612331  \n",
       "923 -1.691858 -0.279733  \n",
       "..        ...       ...  \n",
       "779 -0.057158 -0.279733  \n",
       "529  0.342158  0.163731  \n",
       "713  0.095081 -0.675683  \n",
       "787  0.641645  0.702224  \n",
       "107 -1.418576 -0.612331  \n",
       "\n",
       "[258 rows x 8 columns]"
      ]
     },
     "execution_count": 42,
     "metadata": {},
     "output_type": "execute_result"
    }
   ],
   "source": [
    "x_test"
   ]
  },
  {
   "cell_type": "code",
   "execution_count": 43,
   "id": "b67e9462",
   "metadata": {},
   "outputs": [
    {
     "data": {
      "text/plain": [
       "array([21.9581    , 13.1112    , 31.6264    , 11.7263    , 31.8595    ,\n",
       "       63.1177    , 18.9409    , 49.186     , 39.4615    , 18.3335    ,\n",
       "       37.6825    , 13.0668    , 38.8098    , 33.1403    , 11.8004    ,\n",
       "       28.3736    , 37.9298    , 53.9559    , 59.2367    , 33.2533    ,\n",
       "       25.5493    , 51.7471    , 16.3966    , 58.458275  , 64.5143    ,\n",
       "       42.4542    , 35.1702    , 35.5018    , 35.3504    , 12.9557    ,\n",
       "       41.9097    , 51.2955    , 26.6985    , 21.2117    , 35.513825  ,\n",
       "       36.7592    , 15.9079    , 27.0206    , 24.3437    , 11.0847    ,\n",
       "       34.3178    , 15.1772    , 46.6236    , 36.3265    , 32.41013333,\n",
       "       28.3833    , 31.8507    , 24.8247    , 33.698725  , 50.6299    ,\n",
       "       26.2573    , 37.2421    , 59.1767    , 52.1881    , 60.5371    ,\n",
       "        9.4743    , 31.9842    , 24.835     , 33.8604    , 43.3493    ,\n",
       "       49.8873    , 42.6755    , 50.4094    , 49.4078    , 26.939     ,\n",
       "       34.8806    , 55.2258    , 39.0763    , 46.3464    , 28.1469    ,\n",
       "       35.6179    , 26.217     , 36.8829    , 11.296     , 70.4128    ,\n",
       "       60.423675  , 50.4221    , 15.0023    , 59.7571    , 49.262     ,\n",
       "       35.9536    , 48.347025  , 50.6649    , 38.922     , 35.8488    ,\n",
       "       47.19278333, 31.086     , 58.7463    , 49.6377    , 52.2849    ,\n",
       "       35.284     , 33.2495    , 30.4742    , 40.5055    , 31.68923333,\n",
       "       66.8202    , 39.2082    , 13.7041    , 31.2988    , 23.76655   ,\n",
       "       35.4539    , 61.22547667, 37.2322    , 36.937625  , 45.105     ,\n",
       "       36.8671    , 29.7494    , 37.2648    , 13.4064    , 24.0628    ,\n",
       "       19.9722    , 28.3411    , 12.7533    , 28.2924    , 30.2931    ,\n",
       "       13.8006    , 39.2032    , 42.5223    , 46.2688    , 53.344025  ,\n",
       "       78.982     , 63.2769    , 39.538     , 18.5873    , 15.0771    ,\n",
       "       31.0841    , 62.74224167, 11.8267    , 68.3928    , 19.6728    ,\n",
       "       14.3109    , 34.466     , 14.5685    , 34.0626    , 39.1498    ,\n",
       "       43.2539    , 30.5809    , 40.0615    , 36.982     , 11.2271    ,\n",
       "       50.1687    , 37.8587    , 34.7027    , 44.99756833, 62.1598    ,\n",
       "       54.3303    , 42.6884    , 18.1217    , 35.513825  , 43.5524    ,\n",
       "       67.3584    , 49.8404    , 73.2139    , 42.0068    , 32.8798    ,\n",
       "       32.1464    , 25.0822    , 35.513325  , 56.3967    , 57.0906    ,\n",
       "       30.2626    , 44.90797143, 49.0852    , 25.5253    , 59.7591    ,\n",
       "       40.8028    , 47.6148    , 28.5224    , 35.7715    , 23.4843    ,\n",
       "       41.9047    , 18.06715   , 43.2285    , 29.9693    , 46.5494    ,\n",
       "       61.7771    , 41.5914    , 25.2289    , 34.7047    , 71.9562    ,\n",
       "       25.127     , 63.7842    , 32.7599    , 39.2372    , 29.09150833,\n",
       "       40.2112    ,  5.6484    , 26.3673    , 32.0614    , 36.2401    ,\n",
       "       70.2034    , 23.0967    , 25.2953    , 41.6596    , 12.9645    ,\n",
       "       51.31338667, 34.4155    , 30.9259    , 29.2312    , 36.3265    ,\n",
       "       35.491925  , 44.0921    , 10.4902    , 35.491925  , 35.852     ,\n",
       "       42.2679    , 26.8636    , 26.26486667, 35.9798    , 60.1094    ,\n",
       "       15.4089    , 35.9475    , 22.3138    , 43.55267   , 27.27230833,\n",
       "       42.6833    , 34.4016    , 34.7946    , 40.2347    , 22.2687    ,\n",
       "       61.22547667, 29.8012    , 34.1063    , 25.0393    , 13.4267    ,\n",
       "       12.194     , 45.9384    , 36.2239    , 19.0708    , 10.9197    ,\n",
       "       18.0336    , 42.4581    , 41.3294    , 32.6795    , 23.2722    ,\n",
       "       30.433     , 42.3689    , 63.06531667, 26.9727    , 20.5809    ,\n",
       "        9.6188    , 35.1725    , 41.2595    , 49.1407    , 34.3526    ,\n",
       "       34.4245    , 76.9759    , 31.9195    , 78.982     , 25.8819    ,\n",
       "       51.8815    , 22.1037    , 45.9225    , 27.2054    , 66.05297857,\n",
       "        9.2162    , 37.6871    , 32.0434    ])"
      ]
     },
     "execution_count": 43,
     "metadata": {},
     "output_type": "execute_result"
    }
   ],
   "source": [
    "y_pred = model.predict(x_test)\n",
    "y_pred"
   ]
  },
  {
   "cell_type": "code",
   "execution_count": 44,
   "id": "ed363a52",
   "metadata": {},
   "outputs": [
    {
     "data": {
      "text/plain": [
       "0.9834614861760518"
      ]
     },
     "execution_count": 44,
     "metadata": {},
     "output_type": "execute_result"
    }
   ],
   "source": [
    "model.score(x_train, y_train)"
   ]
  },
  {
   "cell_type": "code",
   "execution_count": 45,
   "id": "9b1f2fcd",
   "metadata": {},
   "outputs": [],
   "source": [
    "import sklearn.metrics as metrics"
   ]
  },
  {
   "cell_type": "code",
   "execution_count": 46,
   "id": "4062f9d0",
   "metadata": {},
   "outputs": [
    {
     "data": {
      "application/javascript": [
       "\n",
       "        if (window._pyforest_update_imports_cell) { window._pyforest_update_imports_cell('import seaborn as sns\\nfrom sklearn.ensemble import RandomForestRegressor\\nimport pandas as pd\\nfrom sklearn.model_selection import train_test_split\\nimport matplotlib.pyplot as plt'); }\n",
       "    "
      ],
      "text/plain": [
       "<IPython.core.display.Javascript object>"
      ]
     },
     "metadata": {},
     "output_type": "display_data"
    },
    {
     "data": {
      "text/html": [
       "<div>\n",
       "<style scoped>\n",
       "    .dataframe tbody tr th:only-of-type {\n",
       "        vertical-align: middle;\n",
       "    }\n",
       "\n",
       "    .dataframe tbody tr th {\n",
       "        vertical-align: top;\n",
       "    }\n",
       "\n",
       "    .dataframe thead th {\n",
       "        text-align: right;\n",
       "    }\n",
       "</style>\n",
       "<table border=\"1\" class=\"dataframe\">\n",
       "  <thead>\n",
       "    <tr style=\"text-align: right;\">\n",
       "      <th></th>\n",
       "      <th>Algorithm</th>\n",
       "      <th>Accuracy</th>\n",
       "    </tr>\n",
       "  </thead>\n",
       "  <tbody>\n",
       "    <tr>\n",
       "      <th>0</th>\n",
       "      <td>Random Forest Regressor</td>\n",
       "      <td>0.895577</td>\n",
       "    </tr>\n",
       "  </tbody>\n",
       "</table>\n",
       "</div>"
      ],
      "text/plain": [
       "                 Algorithm  Accuracy\n",
       "0  Random Forest Regressor  0.895577"
      ]
     },
     "execution_count": 46,
     "metadata": {},
     "output_type": "execute_result"
    }
   ],
   "source": [
    "accuracy = metrics.r2_score(y_test, y_pred)\n",
    "results = pd.DataFrame({'Algorithm': ['Random Forest Regressor'],\n",
    "                      'Accuracy': accuracy})\n",
    "results = results[['Algorithm', 'Accuracy']]\n",
    "results"
   ]
  },
  {
   "cell_type": "markdown",
   "id": "e72b29a3",
   "metadata": {},
   "source": [
    "#### KFold cross validation"
   ]
  },
  {
   "cell_type": "code",
   "execution_count": 47,
   "id": "82cd0d5e",
   "metadata": {},
   "outputs": [],
   "source": [
    "from sklearn.model_selection import KFold\n",
    "from sklearn.model_selection import cross_val_score"
   ]
  },
  {
   "cell_type": "code",
   "execution_count": 48,
   "id": "37d7d7ac",
   "metadata": {},
   "outputs": [
    {
     "data": {
      "application/javascript": [
       "\n",
       "        if (window._pyforest_update_imports_cell) { window._pyforest_update_imports_cell('import numpy as np\\nimport seaborn as sns\\nfrom sklearn.ensemble import RandomForestRegressor\\nimport pandas as pd\\nfrom sklearn.model_selection import train_test_split\\nimport matplotlib.pyplot as plt'); }\n",
       "    "
      ],
      "text/plain": [
       "<IPython.core.display.Javascript object>"
      ]
     },
     "metadata": {},
     "output_type": "display_data"
    },
    {
     "data": {
      "application/javascript": [
       "\n",
       "        if (window._pyforest_update_imports_cell) { window._pyforest_update_imports_cell('import numpy as np\\nimport seaborn as sns\\nfrom sklearn.ensemble import RandomForestRegressor\\nimport pandas as pd\\nfrom sklearn.model_selection import train_test_split\\nimport matplotlib.pyplot as plt'); }\n",
       "    "
      ],
      "text/plain": [
       "<IPython.core.display.Javascript object>"
      ]
     },
     "metadata": {},
     "output_type": "display_data"
    },
    {
     "data": {
      "application/javascript": [
       "\n",
       "        if (window._pyforest_update_imports_cell) { window._pyforest_update_imports_cell('import numpy as np\\nimport seaborn as sns\\nfrom sklearn.ensemble import RandomForestRegressor\\nimport pandas as pd\\nfrom sklearn.model_selection import train_test_split\\nimport matplotlib.pyplot as plt'); }\n",
       "    "
      ],
      "text/plain": [
       "<IPython.core.display.Javascript object>"
      ]
     },
     "metadata": {},
     "output_type": "display_data"
    },
    {
     "data": {
      "text/html": [
       "<div>\n",
       "<style scoped>\n",
       "    .dataframe tbody tr th:only-of-type {\n",
       "        vertical-align: middle;\n",
       "    }\n",
       "\n",
       "    .dataframe tbody tr th {\n",
       "        vertical-align: top;\n",
       "    }\n",
       "\n",
       "    .dataframe thead th {\n",
       "        text-align: right;\n",
       "    }\n",
       "</style>\n",
       "<table border=\"1\" class=\"dataframe\">\n",
       "  <thead>\n",
       "    <tr style=\"text-align: right;\">\n",
       "      <th></th>\n",
       "      <th>Algorithm</th>\n",
       "      <th>Accuracy</th>\n",
       "    </tr>\n",
       "  </thead>\n",
       "  <tbody>\n",
       "    <tr>\n",
       "      <th>0</th>\n",
       "      <td>Random Forest Regressor</td>\n",
       "      <td>0.895577</td>\n",
       "    </tr>\n",
       "    <tr>\n",
       "      <th>1</th>\n",
       "      <td>Random Forest Regressor KFold</td>\n",
       "      <td>0.916420</td>\n",
       "    </tr>\n",
       "  </tbody>\n",
       "</table>\n",
       "</div>"
      ],
      "text/plain": [
       "                       Algorithm  Accuracy\n",
       "0        Random Forest Regressor  0.895577\n",
       "1  Random Forest Regressor KFold  0.916420"
      ]
     },
     "execution_count": 48,
     "metadata": {},
     "output_type": "execute_result"
    }
   ],
   "source": [
    "# KFold cross validation\n",
    "\n",
    "k = 20\n",
    "kfold = KFold(n_splits = k, random_state = 10, shuffle=True)\n",
    "k_result = cross_val_score(model, X, y, cv = kfold)\n",
    "k_accuracy = np.mean(abs(k_result))\n",
    "#k_accuracy\n",
    "\n",
    "data = pd.DataFrame({'Algorithm': ['Random Forest Regressor KFold'], \n",
    "                    'Accuracy': k_accuracy}, index = {1})\n",
    "\n",
    "results = pd.concat([results, data])\n",
    "results = results[['Algorithm', 'Accuracy']]\n",
    "results"
   ]
  },
  {
   "cell_type": "code",
   "execution_count": 49,
   "id": "24f411b7",
   "metadata": {},
   "outputs": [],
   "source": [
    "results_df  = results.copy(deep = True)"
   ]
  },
  {
   "cell_type": "markdown",
   "id": "26562c4f",
   "metadata": {},
   "source": [
    "**Gradient Boosting Regressor**"
   ]
  },
  {
   "cell_type": "code",
   "execution_count": 50,
   "id": "66e46e43",
   "metadata": {},
   "outputs": [
    {
     "data": {
      "application/javascript": [
       "\n",
       "        if (window._pyforest_update_imports_cell) { window._pyforest_update_imports_cell('import numpy as np\\nfrom sklearn.ensemble import GradientBoostingRegressor\\nimport seaborn as sns\\nfrom sklearn.ensemble import RandomForestRegressor\\nimport pandas as pd\\nfrom sklearn.model_selection import train_test_split\\nimport matplotlib.pyplot as plt'); }\n",
       "    "
      ],
      "text/plain": [
       "<IPython.core.display.Javascript object>"
      ]
     },
     "metadata": {},
     "output_type": "display_data"
    },
    {
     "data": {
      "text/plain": [
       "GradientBoostingRegressor()"
      ]
     },
     "execution_count": 50,
     "metadata": {},
     "output_type": "execute_result"
    }
   ],
   "source": [
    "model = GradientBoostingRegressor()\n",
    "model.fit(x_train, y_train)"
   ]
  },
  {
   "cell_type": "code",
   "execution_count": 51,
   "id": "31c0b391",
   "metadata": {},
   "outputs": [
    {
     "data": {
      "text/plain": [
       "array([20.05547243, 13.35773599, 25.17874552, 11.34237117, 33.39848476,\n",
       "       63.78009299, 18.12720496, 47.49648625, 39.45377533, 20.51925525,\n",
       "       37.7423308 , 13.67760406, 38.3157714 , 30.84218147,  8.2751939 ,\n",
       "       28.06419339, 39.21917914, 59.94733549, 55.95121754, 35.07727813,\n",
       "       22.64140609, 52.08540334, 17.16950448, 60.95890995, 60.61975103,\n",
       "       39.72980203, 33.76002196, 31.6614234 , 35.65615301, 13.37877001,\n",
       "       42.49942576, 54.71450523, 26.97714156, 25.1844962 , 34.28287275,\n",
       "       38.51748767, 15.8566619 , 27.26732481, 25.11773583, 14.67662299,\n",
       "       38.46578944, 14.52696985, 47.81064594, 36.22227688, 34.90285072,\n",
       "       27.99527408, 32.92306041, 27.17598997, 34.30690003, 52.34616727,\n",
       "       25.8915991 , 36.49391418, 62.0727361 , 52.21934225, 57.45438523,\n",
       "        9.39092959, 37.66077896, 23.56901584, 31.85329066, 44.58527068,\n",
       "       49.62712796, 42.41219958, 53.40668269, 49.04826392, 23.02591704,\n",
       "       34.97467607, 50.46903323, 35.13284257, 39.90153769, 27.69781912,\n",
       "       29.01973978, 27.25093403, 38.97905213, 13.78671255, 67.58339246,\n",
       "       59.80379068, 51.62974484, 15.02592219, 61.13102046, 43.07951858,\n",
       "       38.20552004, 44.05779317, 48.18593819, 32.74419655, 44.4411791 ,\n",
       "       40.92104114, 33.32705896, 60.53731372, 48.18593819, 48.73623264,\n",
       "       34.25022764, 33.07273954, 27.57162225, 40.88640674, 30.97953651,\n",
       "       69.67073278, 38.86211367, 12.18093564, 31.29459437, 27.18988876,\n",
       "       36.94178628, 63.04856201, 37.2765542 , 41.15726615, 47.36950103,\n",
       "       35.6622076 , 27.2266844 , 36.21146491, 17.07229936, 24.13377082,\n",
       "       22.68716333, 31.74791582,  9.01004346, 27.99527408, 32.34497617,\n",
       "       17.08325933, 37.4726804 , 40.92834455, 47.20848536, 55.10974808,\n",
       "       76.36345478, 57.37817127, 38.68733633, 19.19694652, 13.50492579,\n",
       "       29.57158275, 55.84414768, 13.07502146, 67.91381597, 21.00453189,\n",
       "       16.81995092, 31.73354159, 15.8887581 , 35.09587699, 38.41026245,\n",
       "       42.92403487, 32.34497617, 39.33357302, 34.49810827, 11.84463835,\n",
       "       51.84591462, 38.82095479, 35.88994854, 45.16023215, 65.72054924,\n",
       "       50.13630585, 42.92403487, 16.27101845, 34.28287275, 44.31545994,\n",
       "       67.72686125, 45.7403404 , 78.4525642 , 47.52387523, 31.42831322,\n",
       "       30.82615089, 27.17598997, 34.99554606, 54.81178106, 52.38927873,\n",
       "       26.94796357, 49.79738284, 48.33161506, 22.84226973, 59.84193653,\n",
       "       43.41713577, 44.91919674, 31.45033275, 37.53999408, 24.24830219,\n",
       "       40.58908584, 16.67473812, 44.3880866 , 29.91589647, 47.81064594,\n",
       "       61.52626331, 42.52330693, 43.8793282 , 36.00339481, 78.01279938,\n",
       "       26.73561685, 60.81924763, 34.0636817 , 38.3157714 , 29.29786287,\n",
       "       40.46496454,  6.2689988 , 26.05352279, 29.4036139 , 32.7498182 ,\n",
       "       72.37296438, 24.86570255, 26.67878194, 39.08699087, 10.16193574,\n",
       "       55.94443034, 36.80088899, 29.57158275, 27.45238727, 35.84341315,\n",
       "       37.78010516, 45.88679276,  5.27998706, 37.78010516, 35.30755513,\n",
       "       42.65078433, 27.88252254, 24.91624742, 37.69050507, 55.66612441,\n",
       "       16.1783794 , 38.66929278, 23.4465143 , 40.62101996, 24.71583471,\n",
       "       41.79547982, 30.39830741, 34.95599888, 40.39137148, 15.96640761,\n",
       "       63.04856201, 25.95165093, 35.2736487 , 23.32902957, 15.5464462 ,\n",
       "       12.73020094, 47.30185369, 36.30372147, 18.12720496, 11.17619046,\n",
       "       18.30322293, 42.26229358, 42.22617522, 36.68141236, 25.16739627,\n",
       "       34.001893  , 44.11483606, 63.04856201, 23.70238443, 19.96679814,\n",
       "        8.30570119, 34.8019657 , 45.33492924, 52.95760573, 35.12161111,\n",
       "       35.36300448, 75.40334741, 33.35275525, 76.36345478, 24.44776189,\n",
       "       51.09357314, 21.22136453, 48.41553646, 27.54054834, 64.20096295,\n",
       "        9.62346488, 37.64745775, 50.54814359])"
      ]
     },
     "execution_count": 51,
     "metadata": {},
     "output_type": "execute_result"
    }
   ],
   "source": [
    "y_pred = model.predict(x_test)\n",
    "y_pred"
   ]
  },
  {
   "cell_type": "code",
   "execution_count": 52,
   "id": "a5f5271d",
   "metadata": {},
   "outputs": [
    {
     "data": {
      "text/plain": [
       "0.9525838866970711"
      ]
     },
     "execution_count": 52,
     "metadata": {},
     "output_type": "execute_result"
    }
   ],
   "source": [
    "model.score(x_train, y_train)"
   ]
  },
  {
   "cell_type": "code",
   "execution_count": 53,
   "id": "94c58ba4",
   "metadata": {},
   "outputs": [
    {
     "data": {
      "application/javascript": [
       "\n",
       "        if (window._pyforest_update_imports_cell) { window._pyforest_update_imports_cell('import numpy as np\\nfrom sklearn.ensemble import GradientBoostingRegressor\\nimport seaborn as sns\\nfrom sklearn.ensemble import RandomForestRegressor\\nimport pandas as pd\\nfrom sklearn.model_selection import train_test_split\\nimport matplotlib.pyplot as plt'); }\n",
       "    "
      ],
      "text/plain": [
       "<IPython.core.display.Javascript object>"
      ]
     },
     "metadata": {},
     "output_type": "display_data"
    },
    {
     "data": {
      "text/html": [
       "<div>\n",
       "<style scoped>\n",
       "    .dataframe tbody tr th:only-of-type {\n",
       "        vertical-align: middle;\n",
       "    }\n",
       "\n",
       "    .dataframe tbody tr th {\n",
       "        vertical-align: top;\n",
       "    }\n",
       "\n",
       "    .dataframe thead th {\n",
       "        text-align: right;\n",
       "    }\n",
       "</style>\n",
       "<table border=\"1\" class=\"dataframe\">\n",
       "  <thead>\n",
       "    <tr style=\"text-align: right;\">\n",
       "      <th></th>\n",
       "      <th>Algorithm</th>\n",
       "      <th>Accuracy</th>\n",
       "    </tr>\n",
       "  </thead>\n",
       "  <tbody>\n",
       "    <tr>\n",
       "      <th>2</th>\n",
       "      <td>GradientBoosting Regressor</td>\n",
       "      <td>0.895237</td>\n",
       "    </tr>\n",
       "  </tbody>\n",
       "</table>\n",
       "</div>"
      ],
      "text/plain": [
       "                    Algorithm  Accuracy\n",
       "2  GradientBoosting Regressor  0.895237"
      ]
     },
     "execution_count": 53,
     "metadata": {},
     "output_type": "execute_result"
    }
   ],
   "source": [
    "accuracy = metrics.r2_score(y_test, y_pred)\n",
    "results = pd.DataFrame({'Algorithm': ['GradientBoosting Regressor'],\n",
    "                      'Accuracy': accuracy}, index = {2})\n",
    "results = results[['Algorithm', 'Accuracy']]\n",
    "results"
   ]
  },
  {
   "cell_type": "code",
   "execution_count": 54,
   "id": "ecdfce3d",
   "metadata": {},
   "outputs": [
    {
     "data": {
      "application/javascript": [
       "\n",
       "        if (window._pyforest_update_imports_cell) { window._pyforest_update_imports_cell('import numpy as np\\nfrom sklearn.ensemble import GradientBoostingRegressor\\nimport seaborn as sns\\nfrom sklearn.ensemble import RandomForestRegressor\\nimport pandas as pd\\nfrom sklearn.model_selection import train_test_split\\nimport matplotlib.pyplot as plt'); }\n",
       "    "
      ],
      "text/plain": [
       "<IPython.core.display.Javascript object>"
      ]
     },
     "metadata": {},
     "output_type": "display_data"
    },
    {
     "data": {
      "application/javascript": [
       "\n",
       "        if (window._pyforest_update_imports_cell) { window._pyforest_update_imports_cell('import numpy as np\\nfrom sklearn.ensemble import GradientBoostingRegressor\\nimport seaborn as sns\\nfrom sklearn.ensemble import RandomForestRegressor\\nimport pandas as pd\\nfrom sklearn.model_selection import train_test_split\\nimport matplotlib.pyplot as plt'); }\n",
       "    "
      ],
      "text/plain": [
       "<IPython.core.display.Javascript object>"
      ]
     },
     "metadata": {},
     "output_type": "display_data"
    },
    {
     "data": {
      "application/javascript": [
       "\n",
       "        if (window._pyforest_update_imports_cell) { window._pyforest_update_imports_cell('import numpy as np\\nfrom sklearn.ensemble import GradientBoostingRegressor\\nimport seaborn as sns\\nfrom sklearn.ensemble import RandomForestRegressor\\nimport pandas as pd\\nfrom sklearn.model_selection import train_test_split\\nimport matplotlib.pyplot as plt'); }\n",
       "    "
      ],
      "text/plain": [
       "<IPython.core.display.Javascript object>"
      ]
     },
     "metadata": {},
     "output_type": "display_data"
    },
    {
     "data": {
      "text/html": [
       "<div>\n",
       "<style scoped>\n",
       "    .dataframe tbody tr th:only-of-type {\n",
       "        vertical-align: middle;\n",
       "    }\n",
       "\n",
       "    .dataframe tbody tr th {\n",
       "        vertical-align: top;\n",
       "    }\n",
       "\n",
       "    .dataframe thead th {\n",
       "        text-align: right;\n",
       "    }\n",
       "</style>\n",
       "<table border=\"1\" class=\"dataframe\">\n",
       "  <thead>\n",
       "    <tr style=\"text-align: right;\">\n",
       "      <th></th>\n",
       "      <th>Algorithm</th>\n",
       "      <th>Accuracy</th>\n",
       "    </tr>\n",
       "  </thead>\n",
       "  <tbody>\n",
       "    <tr>\n",
       "      <th>2</th>\n",
       "      <td>GradientBoosting Regressor</td>\n",
       "      <td>0.895237</td>\n",
       "    </tr>\n",
       "    <tr>\n",
       "      <th>3</th>\n",
       "      <td>GradientBoosting Regressor KFold</td>\n",
       "      <td>0.902362</td>\n",
       "    </tr>\n",
       "  </tbody>\n",
       "</table>\n",
       "</div>"
      ],
      "text/plain": [
       "                          Algorithm  Accuracy\n",
       "2        GradientBoosting Regressor  0.895237\n",
       "3  GradientBoosting Regressor KFold  0.902362"
      ]
     },
     "execution_count": 54,
     "metadata": {},
     "output_type": "execute_result"
    }
   ],
   "source": [
    "# KFold cross validation\n",
    "\n",
    "k = 20\n",
    "kfold = KFold(n_splits = k, random_state = 10, shuffle=True)\n",
    "k_result = cross_val_score(model, X, y, cv = kfold)\n",
    "k_accuracy = np.mean(abs(k_result))\n",
    "#k_accuracy\n",
    "\n",
    "data = pd.DataFrame({'Algorithm': ['GradientBoosting Regressor KFold'], \n",
    "                    'Accuracy': k_accuracy}, index = {3})\n",
    "\n",
    "results = pd.concat([results, data])\n",
    "results = results[['Algorithm', 'Accuracy']]\n",
    "results"
   ]
  },
  {
   "cell_type": "code",
   "execution_count": 55,
   "id": "dc38f961",
   "metadata": {},
   "outputs": [
    {
     "data": {
      "application/javascript": [
       "\n",
       "        if (window._pyforest_update_imports_cell) { window._pyforest_update_imports_cell('import numpy as np\\nfrom sklearn.ensemble import GradientBoostingRegressor\\nimport seaborn as sns\\nfrom sklearn.ensemble import RandomForestRegressor\\nimport pandas as pd\\nfrom sklearn.model_selection import train_test_split\\nimport matplotlib.pyplot as plt'); }\n",
       "    "
      ],
      "text/plain": [
       "<IPython.core.display.Javascript object>"
      ]
     },
     "metadata": {},
     "output_type": "display_data"
    }
   ],
   "source": [
    "results_df = pd.concat([results_df, results])"
   ]
  },
  {
   "cell_type": "markdown",
   "id": "b2af2fe0",
   "metadata": {},
   "source": [
    "**AdaBoosting Regressor**"
   ]
  },
  {
   "cell_type": "code",
   "execution_count": 56,
   "id": "08cd5940",
   "metadata": {},
   "outputs": [],
   "source": [
    "from sklearn.ensemble import AdaBoostRegressor"
   ]
  },
  {
   "cell_type": "code",
   "execution_count": 57,
   "id": "547e76a7",
   "metadata": {},
   "outputs": [
    {
     "data": {
      "text/plain": [
       "AdaBoostRegressor()"
      ]
     },
     "execution_count": 57,
     "metadata": {},
     "output_type": "execute_result"
    }
   ],
   "source": [
    "model = AdaBoostRegressor()\n",
    "model.fit(x_train, y_train)"
   ]
  },
  {
   "cell_type": "code",
   "execution_count": 58,
   "id": "a8edb052",
   "metadata": {},
   "outputs": [
    {
     "data": {
      "text/plain": [
       "array([24.90636364, 18.08826087, 27.64294872, 16.13246479, 30.61846154,\n",
       "       57.55730159, 23.45898305, 46.34801887, 43.43958333, 20.00746667,\n",
       "       40.88204082, 19.04075472, 40.98508287, 30.18478022, 20.08809524,\n",
       "       30.18478022, 43.06048611, 48.19954545, 59.48333333, 34.95402542,\n",
       "       24.13151786, 44.65653846, 21.41671141, 64.51351585, 61.11973684,\n",
       "       40.98508287, 32.10046154, 37.58551724, 38.30368421, 19.04075472,\n",
       "       47.17126437, 55.96027027, 30.18478022, 26.13571429, 39.10342466,\n",
       "       38.30368421, 20.90618357, 32.10046154, 31.52913043, 15.82968   ,\n",
       "       39.388     , 20.56887324, 49.23299465, 43.06048611, 33.61152542,\n",
       "       30.18478022, 38.30368421, 32.10046154, 36.13151515, 44.65653846,\n",
       "       29.53892216, 33.41674033, 48.79661017, 46.70333333, 57.85804348,\n",
       "       17.70895349, 37.67766234, 24.13151786, 36.4535    , 43.38680965,\n",
       "       44.1034375 , 47.17126437, 46.34801887, 44.1034375 , 27.90622222,\n",
       "       32.10046154, 47.79875839, 32.44842809, 44.87307692, 26.97577778,\n",
       "       38.61871795, 29.53892216, 38.30368421, 21.82552941, 64.37201807,\n",
       "       58.18723077, 42.73611111, 16.77741573, 57.4501626 , 43.07966851,\n",
       "       43.07966851, 42.02193309, 46.48894569, 33.41674033, 41.44424779,\n",
       "       42.03238095, 31.42821429, 64.82691176, 46.48894569, 45.80984375,\n",
       "       32.44842809, 40.98508287, 29.53892216, 40.8151773 , 36.22933333,\n",
       "       57.76371901, 43.07966851, 17.9685    , 30.18478022, 33.41674033,\n",
       "       38.30368421, 63.50842271, 36.48540984, 39.11458333, 44.18046875,\n",
       "       36.46708333, 29.73450292, 31.23627063, 21.82552941, 26.15494186,\n",
       "       30.79579545, 31.23627063, 21.41671141, 30.18478022, 33.21087179,\n",
       "       23.45898305, 43.07966851, 47.17126437, 41.21180723, 55.96027027,\n",
       "       64.84876543, 50.79411765, 43.07966851, 25.58493506, 20.90618357,\n",
       "       27.64294872, 62.73      , 23.10356522, 64.37201807, 19.5064497 ,\n",
       "       23.45898305, 38.30368421, 25.58493506, 38.30368421, 36.75065217,\n",
       "       48.09229839, 33.21087179, 40.04753623, 30.61846154, 16.13246479,\n",
       "       46.70333333, 40.55414062, 32.44842809, 42.47029412, 61.11973684,\n",
       "       46.48894569, 48.09229839, 21.83864407, 39.10342466, 41.37      ,\n",
       "       64.37201807, 46.71606164, 65.72555556, 44.6174026 , 38.30368421,\n",
       "       31.52913043, 31.52913043, 39.10342466, 57.55730159, 53.55235955,\n",
       "       26.59065359, 39.62513761, 43.06048611, 22.765     , 57.4501626 ,\n",
       "       41.4627619 , 46.34801887, 26.13536082, 43.07966851, 26.97577778,\n",
       "       38.30368421, 20.90618357, 46.48894569, 27.90622222, 49.23299465,\n",
       "       57.4501626 , 42.40117647, 36.        , 32.44842809, 65.72555556,\n",
       "       27.00473684, 57.55730159, 30.61846154, 40.98508287, 37.58551724,\n",
       "       40.8151773 , 14.0837    , 32.10046154, 31.23627063, 32.44842809,\n",
       "       63.21482609, 32.44842809, 34.46228261, 40.04753623, 18.08826087,\n",
       "       61.11973684, 39.08516484, 27.64294872, 30.48      , 43.06048611,\n",
       "       39.10342466, 43.38680965, 20.08809524, 39.10342466, 33.41674033,\n",
       "       47.17126437, 31.23627063, 27.97815603, 38.30368421, 47.0484    ,\n",
       "       23.51909091, 36.53714286, 26.59065359, 39.42486607, 36.        ,\n",
       "       43.06048611, 34.82161538, 43.38680965, 40.98508287, 26.67323232,\n",
       "       63.50842271, 29.53892216, 36.75065217, 24.91942308, 19.5064497 ,\n",
       "       19.04075472, 46.71606164, 36.75065217, 23.45898305, 23.45898305,\n",
       "       23.20223077, 44.7908    , 46.70333333, 38.78142857, 26.67323232,\n",
       "       38.30368421, 46.02214286, 63.50842271, 27.64294872, 24.90636364,\n",
       "       15.82968   , 32.44842809, 43.75554839, 48.19954545, 30.61846154,\n",
       "       30.61846154, 64.84876543, 32.10046154, 64.84876543, 26.59065359,\n",
       "       44.6174026 , 25.62529412, 44.6174026 , 32.44842809, 56.7808125 ,\n",
       "       14.82363636, 43.07966851, 39.11458333])"
      ]
     },
     "execution_count": 58,
     "metadata": {},
     "output_type": "execute_result"
    }
   ],
   "source": [
    "y_pred = model.predict(x_test)\n",
    "y_pred"
   ]
  },
  {
   "cell_type": "code",
   "execution_count": 59,
   "id": "8005fcb5",
   "metadata": {},
   "outputs": [
    {
     "data": {
      "text/plain": [
       "0.8274519539625013"
      ]
     },
     "execution_count": 59,
     "metadata": {},
     "output_type": "execute_result"
    }
   ],
   "source": [
    "model.score(x_train, y_train)"
   ]
  },
  {
   "cell_type": "code",
   "execution_count": 60,
   "id": "8cfdde19",
   "metadata": {},
   "outputs": [
    {
     "data": {
      "application/javascript": [
       "\n",
       "        if (window._pyforest_update_imports_cell) { window._pyforest_update_imports_cell('import numpy as np\\nfrom sklearn.ensemble import GradientBoostingRegressor\\nimport seaborn as sns\\nfrom sklearn.ensemble import RandomForestRegressor\\nimport pandas as pd\\nfrom sklearn.model_selection import train_test_split\\nimport matplotlib.pyplot as plt'); }\n",
       "    "
      ],
      "text/plain": [
       "<IPython.core.display.Javascript object>"
      ]
     },
     "metadata": {},
     "output_type": "display_data"
    },
    {
     "data": {
      "text/html": [
       "<div>\n",
       "<style scoped>\n",
       "    .dataframe tbody tr th:only-of-type {\n",
       "        vertical-align: middle;\n",
       "    }\n",
       "\n",
       "    .dataframe tbody tr th {\n",
       "        vertical-align: top;\n",
       "    }\n",
       "\n",
       "    .dataframe thead th {\n",
       "        text-align: right;\n",
       "    }\n",
       "</style>\n",
       "<table border=\"1\" class=\"dataframe\">\n",
       "  <thead>\n",
       "    <tr style=\"text-align: right;\">\n",
       "      <th></th>\n",
       "      <th>Algorithm</th>\n",
       "      <th>Accuracy</th>\n",
       "    </tr>\n",
       "  </thead>\n",
       "  <tbody>\n",
       "    <tr>\n",
       "      <th>4</th>\n",
       "      <td>AdaBoosting Regressor</td>\n",
       "      <td>0.777865</td>\n",
       "    </tr>\n",
       "  </tbody>\n",
       "</table>\n",
       "</div>"
      ],
      "text/plain": [
       "               Algorithm  Accuracy\n",
       "4  AdaBoosting Regressor  0.777865"
      ]
     },
     "execution_count": 60,
     "metadata": {},
     "output_type": "execute_result"
    }
   ],
   "source": [
    "accuracy = metrics.r2_score(y_test, y_pred)\n",
    "results = pd.DataFrame({'Algorithm': ['AdaBoosting Regressor'],\n",
    "                      'Accuracy': accuracy}, index = {4})\n",
    "results = results[['Algorithm', 'Accuracy']]\n",
    "results"
   ]
  },
  {
   "cell_type": "code",
   "execution_count": 61,
   "id": "fb336ae8",
   "metadata": {
    "scrolled": true
   },
   "outputs": [
    {
     "data": {
      "application/javascript": [
       "\n",
       "        if (window._pyforest_update_imports_cell) { window._pyforest_update_imports_cell('import numpy as np\\nfrom sklearn.ensemble import GradientBoostingRegressor\\nimport seaborn as sns\\nfrom sklearn.ensemble import RandomForestRegressor\\nimport pandas as pd\\nfrom sklearn.model_selection import train_test_split\\nimport matplotlib.pyplot as plt'); }\n",
       "    "
      ],
      "text/plain": [
       "<IPython.core.display.Javascript object>"
      ]
     },
     "metadata": {},
     "output_type": "display_data"
    },
    {
     "data": {
      "application/javascript": [
       "\n",
       "        if (window._pyforest_update_imports_cell) { window._pyforest_update_imports_cell('import numpy as np\\nfrom sklearn.ensemble import GradientBoostingRegressor\\nimport seaborn as sns\\nfrom sklearn.ensemble import RandomForestRegressor\\nimport pandas as pd\\nfrom sklearn.model_selection import train_test_split\\nimport matplotlib.pyplot as plt'); }\n",
       "    "
      ],
      "text/plain": [
       "<IPython.core.display.Javascript object>"
      ]
     },
     "metadata": {},
     "output_type": "display_data"
    },
    {
     "data": {
      "application/javascript": [
       "\n",
       "        if (window._pyforest_update_imports_cell) { window._pyforest_update_imports_cell('import numpy as np\\nfrom sklearn.ensemble import GradientBoostingRegressor\\nimport seaborn as sns\\nfrom sklearn.ensemble import RandomForestRegressor\\nimport pandas as pd\\nfrom sklearn.model_selection import train_test_split\\nimport matplotlib.pyplot as plt'); }\n",
       "    "
      ],
      "text/plain": [
       "<IPython.core.display.Javascript object>"
      ]
     },
     "metadata": {},
     "output_type": "display_data"
    },
    {
     "data": {
      "text/html": [
       "<div>\n",
       "<style scoped>\n",
       "    .dataframe tbody tr th:only-of-type {\n",
       "        vertical-align: middle;\n",
       "    }\n",
       "\n",
       "    .dataframe tbody tr th {\n",
       "        vertical-align: top;\n",
       "    }\n",
       "\n",
       "    .dataframe thead th {\n",
       "        text-align: right;\n",
       "    }\n",
       "</style>\n",
       "<table border=\"1\" class=\"dataframe\">\n",
       "  <thead>\n",
       "    <tr style=\"text-align: right;\">\n",
       "      <th></th>\n",
       "      <th>Algorithm</th>\n",
       "      <th>Accuracy</th>\n",
       "    </tr>\n",
       "  </thead>\n",
       "  <tbody>\n",
       "    <tr>\n",
       "      <th>4</th>\n",
       "      <td>AdaBoosting Regressor</td>\n",
       "      <td>0.777865</td>\n",
       "    </tr>\n",
       "    <tr>\n",
       "      <th>5</th>\n",
       "      <td>AdaBoosting Regressor KFold</td>\n",
       "      <td>0.783261</td>\n",
       "    </tr>\n",
       "  </tbody>\n",
       "</table>\n",
       "</div>"
      ],
      "text/plain": [
       "                     Algorithm  Accuracy\n",
       "4        AdaBoosting Regressor  0.777865\n",
       "5  AdaBoosting Regressor KFold  0.783261"
      ]
     },
     "execution_count": 61,
     "metadata": {},
     "output_type": "execute_result"
    }
   ],
   "source": [
    "# KFold cross validation\n",
    "\n",
    "k = 20\n",
    "kfold = KFold(n_splits = k, random_state = 10, shuffle=True)\n",
    "k_result = cross_val_score(model, X, y, cv = kfold)\n",
    "k_accuracy = np.mean(abs(k_result))\n",
    "#k_accuracy\n",
    "\n",
    "data = pd.DataFrame({'Algorithm': ['AdaBoosting Regressor KFold'], \n",
    "                    'Accuracy': k_accuracy}, index = {5})\n",
    "\n",
    "results = pd.concat([results, data])\n",
    "results = results[['Algorithm', 'Accuracy']]\n",
    "results"
   ]
  },
  {
   "cell_type": "code",
   "execution_count": 62,
   "id": "f09e824e",
   "metadata": {},
   "outputs": [
    {
     "data": {
      "application/javascript": [
       "\n",
       "        if (window._pyforest_update_imports_cell) { window._pyforest_update_imports_cell('import numpy as np\\nfrom sklearn.ensemble import GradientBoostingRegressor\\nimport seaborn as sns\\nfrom sklearn.ensemble import RandomForestRegressor\\nimport pandas as pd\\nfrom sklearn.model_selection import train_test_split\\nimport matplotlib.pyplot as plt'); }\n",
       "    "
      ],
      "text/plain": [
       "<IPython.core.display.Javascript object>"
      ]
     },
     "metadata": {},
     "output_type": "display_data"
    }
   ],
   "source": [
    "results_df = pd.concat([results_df, results])"
   ]
  },
  {
   "cell_type": "markdown",
   "id": "120db292",
   "metadata": {},
   "source": [
    "**KNeighbors Regressor**"
   ]
  },
  {
   "cell_type": "code",
   "execution_count": 63,
   "id": "5c346579",
   "metadata": {},
   "outputs": [],
   "source": [
    "from sklearn.neighbors import KNeighborsRegressor"
   ]
  },
  {
   "cell_type": "code",
   "execution_count": 64,
   "id": "35a21223",
   "metadata": {},
   "outputs": [
    {
     "data": {
      "text/plain": [
       "KNeighborsRegressor()"
      ]
     },
     "execution_count": 64,
     "metadata": {},
     "output_type": "execute_result"
    }
   ],
   "source": [
    "model = KNeighborsRegressor()\n",
    "model.fit(x_train, y_train)"
   ]
  },
  {
   "cell_type": "code",
   "execution_count": 65,
   "id": "856edca4",
   "metadata": {},
   "outputs": [
    {
     "data": {
      "text/plain": [
       "array([35.01 , 20.63 , 26.174, 16.026, 32.776, 56.352, 23.272, 49.01 ,\n",
       "       36.678, 29.852, 29.238, 13.79 , 37.612, 25.424, 13.258, 20.856,\n",
       "       44.914, 52.856, 45.648, 42.652, 22.598, 42.35 , 18.038, 53.926,\n",
       "       60.598, 49.52 , 34.412, 37.41 , 39.864, 20.038, 48.97 , 37.214,\n",
       "       18.27 , 29.398, 48.258, 38.336, 16.368, 24.21 , 26.842, 30.056,\n",
       "       57.62 , 14.474, 38.928, 36.322, 38.572, 33.17 , 29.776, 25.776,\n",
       "       51.196, 46.448, 22.946, 36.054, 64.466, 64.466, 51.538, 16.65 ,\n",
       "       57.716, 25.426, 38.422, 37.516, 49.912, 46.814, 47.958, 52.07 ,\n",
       "       26.496, 38.928, 41.13 , 33.734, 37.906, 26.734, 47.54 , 23.478,\n",
       "       38.336, 13.198, 45.648, 56.28 , 58.8  , 28.056, 37.214, 44.328,\n",
       "       37.812, 51.196, 53.144, 25.024, 39.238, 50.7  , 30.946, 58.756,\n",
       "       48.458, 53.38 , 30.908, 37.49 , 26.492, 38.572, 49.542, 61.238,\n",
       "       32.92 , 22.598, 18.578, 38.306, 42.24 , 53.584, 35.582, 50.198,\n",
       "       38.696, 35.434, 25.96 , 34.044, 18.918, 27.4  , 18.424, 18.866,\n",
       "       16.112, 33.17 , 32.608, 13.962, 37.936, 38.564, 42.438, 39.618,\n",
       "       75.62 , 54.878, 37.976, 15.986, 15.608, 20.196, 56.64 , 13.198,\n",
       "       65.28 , 28.056, 13.962, 25.058, 24.75 , 21.514, 34.766, 48.01 ,\n",
       "       32.608, 29.144, 30.284, 14.26 , 43.43 , 44.328, 29.744, 34.752,\n",
       "       56.72 , 37.528, 47.05 , 22.592, 48.258, 38.636, 67.8  , 43.07 ,\n",
       "       67.798, 44.846, 18.156, 32.074, 25.776, 55.118, 57.716, 52.416,\n",
       "       14.714, 41.06 , 46.776, 25.64 , 37.214, 39.98 , 27.398, 30.258,\n",
       "       37.812, 20.734, 40.918, 25.118, 46.422, 16.074, 38.928, 39.618,\n",
       "       39.862, 48.58 , 29.744, 66.998, 27.398, 50.9  , 30.508, 37.612,\n",
       "       43.36 , 38.572,  9.658, 24.612, 17.62 , 32.474, 64.466, 22.46 ,\n",
       "       54.46 , 39.674, 18.296, 48.974, 34.526, 20.196, 30.736, 36.322,\n",
       "       50.904, 41.174, 16.112, 50.904, 34.298, 43.092, 17.08 , 49.524,\n",
       "       24.792, 59.518, 24.662, 30.44 , 11.974, 37.214, 34.82 , 44.682,\n",
       "       31.152, 38.378, 34.766, 36.394, 53.584, 21.332, 39.004, 22.662,\n",
       "       19.41 , 18.492, 54.532, 33.78 , 23.272, 22.204, 21.496, 36.234,\n",
       "       45.52 , 31.146, 22.024, 30.48 , 44.462, 53.584, 16.206, 38.572,\n",
       "       10.71 , 29.744, 36.944, 52.006, 31.796, 31.088, 73.32 , 29.1  ,\n",
       "       75.62 , 14.26 , 50.478, 29.054, 31.766, 23.484, 49.744, 15.184,\n",
       "       36.492, 48.58 ])"
      ]
     },
     "execution_count": 65,
     "metadata": {},
     "output_type": "execute_result"
    }
   ],
   "source": [
    "y_pred = model.predict(x_test)\n",
    "y_pred"
   ]
  },
  {
   "cell_type": "code",
   "execution_count": 66,
   "id": "dd362a78",
   "metadata": {},
   "outputs": [
    {
     "data": {
      "text/plain": [
       "0.8361887222703014"
      ]
     },
     "execution_count": 66,
     "metadata": {},
     "output_type": "execute_result"
    }
   ],
   "source": [
    "model.score(x_train, y_train)"
   ]
  },
  {
   "cell_type": "code",
   "execution_count": 67,
   "id": "5c84f4fd",
   "metadata": {},
   "outputs": [
    {
     "data": {
      "application/javascript": [
       "\n",
       "        if (window._pyforest_update_imports_cell) { window._pyforest_update_imports_cell('import numpy as np\\nfrom sklearn.ensemble import GradientBoostingRegressor\\nimport seaborn as sns\\nfrom sklearn.ensemble import RandomForestRegressor\\nimport pandas as pd\\nfrom sklearn.model_selection import train_test_split\\nimport matplotlib.pyplot as plt'); }\n",
       "    "
      ],
      "text/plain": [
       "<IPython.core.display.Javascript object>"
      ]
     },
     "metadata": {},
     "output_type": "display_data"
    },
    {
     "data": {
      "text/html": [
       "<div>\n",
       "<style scoped>\n",
       "    .dataframe tbody tr th:only-of-type {\n",
       "        vertical-align: middle;\n",
       "    }\n",
       "\n",
       "    .dataframe tbody tr th {\n",
       "        vertical-align: top;\n",
       "    }\n",
       "\n",
       "    .dataframe thead th {\n",
       "        text-align: right;\n",
       "    }\n",
       "</style>\n",
       "<table border=\"1\" class=\"dataframe\">\n",
       "  <thead>\n",
       "    <tr style=\"text-align: right;\">\n",
       "      <th></th>\n",
       "      <th>Algorithm</th>\n",
       "      <th>Accuracy</th>\n",
       "    </tr>\n",
       "  </thead>\n",
       "  <tbody>\n",
       "    <tr>\n",
       "      <th>6</th>\n",
       "      <td>KNeighbors Regressor</td>\n",
       "      <td>0.67677</td>\n",
       "    </tr>\n",
       "  </tbody>\n",
       "</table>\n",
       "</div>"
      ],
      "text/plain": [
       "              Algorithm  Accuracy\n",
       "6  KNeighbors Regressor   0.67677"
      ]
     },
     "execution_count": 67,
     "metadata": {},
     "output_type": "execute_result"
    }
   ],
   "source": [
    "accuracy = metrics.r2_score(y_test, y_pred)\n",
    "results = pd.DataFrame({'Algorithm': ['KNeighbors Regressor'],\n",
    "                      'Accuracy': accuracy}, index = {6})\n",
    "results = results[['Algorithm', 'Accuracy']]\n",
    "results"
   ]
  },
  {
   "cell_type": "code",
   "execution_count": 68,
   "id": "a1586786",
   "metadata": {},
   "outputs": [
    {
     "data": {
      "application/javascript": [
       "\n",
       "        if (window._pyforest_update_imports_cell) { window._pyforest_update_imports_cell('import numpy as np\\nfrom sklearn.ensemble import GradientBoostingRegressor\\nimport seaborn as sns\\nfrom sklearn.ensemble import RandomForestRegressor\\nimport pandas as pd\\nfrom sklearn.model_selection import train_test_split\\nimport matplotlib.pyplot as plt'); }\n",
       "    "
      ],
      "text/plain": [
       "<IPython.core.display.Javascript object>"
      ]
     },
     "metadata": {},
     "output_type": "display_data"
    },
    {
     "data": {
      "application/javascript": [
       "\n",
       "        if (window._pyforest_update_imports_cell) { window._pyforest_update_imports_cell('import numpy as np\\nfrom sklearn.ensemble import GradientBoostingRegressor\\nimport seaborn as sns\\nfrom sklearn.ensemble import RandomForestRegressor\\nimport pandas as pd\\nfrom sklearn.model_selection import train_test_split\\nimport matplotlib.pyplot as plt'); }\n",
       "    "
      ],
      "text/plain": [
       "<IPython.core.display.Javascript object>"
      ]
     },
     "metadata": {},
     "output_type": "display_data"
    },
    {
     "data": {
      "application/javascript": [
       "\n",
       "        if (window._pyforest_update_imports_cell) { window._pyforest_update_imports_cell('import numpy as np\\nfrom sklearn.ensemble import GradientBoostingRegressor\\nimport seaborn as sns\\nfrom sklearn.ensemble import RandomForestRegressor\\nimport pandas as pd\\nfrom sklearn.model_selection import train_test_split\\nimport matplotlib.pyplot as plt'); }\n",
       "    "
      ],
      "text/plain": [
       "<IPython.core.display.Javascript object>"
      ]
     },
     "metadata": {},
     "output_type": "display_data"
    },
    {
     "data": {
      "text/html": [
       "<div>\n",
       "<style scoped>\n",
       "    .dataframe tbody tr th:only-of-type {\n",
       "        vertical-align: middle;\n",
       "    }\n",
       "\n",
       "    .dataframe tbody tr th {\n",
       "        vertical-align: top;\n",
       "    }\n",
       "\n",
       "    .dataframe thead th {\n",
       "        text-align: right;\n",
       "    }\n",
       "</style>\n",
       "<table border=\"1\" class=\"dataframe\">\n",
       "  <thead>\n",
       "    <tr style=\"text-align: right;\">\n",
       "      <th></th>\n",
       "      <th>Algorithm</th>\n",
       "      <th>Accuracy</th>\n",
       "    </tr>\n",
       "  </thead>\n",
       "  <tbody>\n",
       "    <tr>\n",
       "      <th>6</th>\n",
       "      <td>KNeighbors Regressor</td>\n",
       "      <td>0.676770</td>\n",
       "    </tr>\n",
       "    <tr>\n",
       "      <th>7</th>\n",
       "      <td>KNeighbors Regressor KFold</td>\n",
       "      <td>0.711765</td>\n",
       "    </tr>\n",
       "  </tbody>\n",
       "</table>\n",
       "</div>"
      ],
      "text/plain": [
       "                    Algorithm  Accuracy\n",
       "6        KNeighbors Regressor  0.676770\n",
       "7  KNeighbors Regressor KFold  0.711765"
      ]
     },
     "execution_count": 68,
     "metadata": {},
     "output_type": "execute_result"
    }
   ],
   "source": [
    "# KFold cross validation\n",
    "\n",
    "k = 20\n",
    "kfold = KFold(n_splits = k, random_state = 10, shuffle=True)\n",
    "k_result = cross_val_score(model, X, y, cv = kfold)\n",
    "k_accuracy = np.mean(abs(k_result))\n",
    "#k_accuracy\n",
    "\n",
    "data = pd.DataFrame({'Algorithm': ['KNeighbors Regressor KFold'], \n",
    "                    'Accuracy': k_accuracy}, index = {7})\n",
    "\n",
    "results = pd.concat([results, data])\n",
    "results = results[['Algorithm', 'Accuracy']]\n",
    "results"
   ]
  },
  {
   "cell_type": "code",
   "execution_count": 69,
   "id": "c34dbade",
   "metadata": {},
   "outputs": [
    {
     "data": {
      "application/javascript": [
       "\n",
       "        if (window._pyforest_update_imports_cell) { window._pyforest_update_imports_cell('import numpy as np\\nfrom sklearn.ensemble import GradientBoostingRegressor\\nimport seaborn as sns\\nfrom sklearn.ensemble import RandomForestRegressor\\nimport pandas as pd\\nfrom sklearn.model_selection import train_test_split\\nimport matplotlib.pyplot as plt'); }\n",
       "    "
      ],
      "text/plain": [
       "<IPython.core.display.Javascript object>"
      ]
     },
     "metadata": {},
     "output_type": "display_data"
    }
   ],
   "source": [
    "results_df = pd.concat([results_df, results])"
   ]
  },
  {
   "cell_type": "markdown",
   "id": "5f3ad91b",
   "metadata": {},
   "source": [
    "**Bagging Regressor**"
   ]
  },
  {
   "cell_type": "code",
   "execution_count": 70,
   "id": "dd54d164",
   "metadata": {},
   "outputs": [],
   "source": [
    "from sklearn.ensemble import BaggingRegressor"
   ]
  },
  {
   "cell_type": "code",
   "execution_count": 71,
   "id": "8af2b93d",
   "metadata": {},
   "outputs": [
    {
     "data": {
      "text/plain": [
       "BaggingRegressor()"
      ]
     },
     "execution_count": 71,
     "metadata": {},
     "output_type": "execute_result"
    }
   ],
   "source": [
    "model = BaggingRegressor()\n",
    "model.fit(x_train, y_train)"
   ]
  },
  {
   "cell_type": "code",
   "execution_count": 72,
   "id": "a04d7c71",
   "metadata": {},
   "outputs": [
    {
     "data": {
      "text/plain": [
       "array([18.277     , 13.402     , 29.036     , 10.478     , 30.106     ,\n",
       "       60.391     , 18.572     , 50.5       , 40.963     , 18.893     ,\n",
       "       36.629     , 13.707     , 39.689     , 33.911     , 11.821     ,\n",
       "       26.951     , 36.8       , 53.258     , 59.798     , 29.567     ,\n",
       "       27.408     , 49.33      , 15.655     , 58.27      , 59.365     ,\n",
       "       45.988     , 27.834     , 33.038     , 33.082     , 13.213     ,\n",
       "       41.218     , 51.74466667, 25.721     , 20.605     , 35.26      ,\n",
       "       36.697     , 14.601     , 30.78      , 29.775     , 12.322     ,\n",
       "       29.976     , 15.4       , 47.828     , 34.909     , 30.77      ,\n",
       "       25.088     , 31.852     , 24.823     , 31.134     , 47.578     ,\n",
       "       25.34      , 36.778     , 59.775     , 52.035     , 62.268     ,\n",
       "        9.189     , 29.252     , 24.534     , 34.747     , 43.916     ,\n",
       "       49.954     , 42.893     , 51.54      , 50.393     , 26.391     ,\n",
       "       34.425     , 55.738     , 37.824     , 51.205     , 28.925     ,\n",
       "       34.763     , 26.161     , 36.697     , 10.164     , 72.099     ,\n",
       "       57.629     , 49.578     , 16.212     , 57.87566667, 50.429     ,\n",
       "       35.11      , 42.034     , 52.371     , 39.355     , 38.523     ,\n",
       "       42.405     , 32.525     , 54.247     , 51.684     , 53.926     ,\n",
       "       33.153     , 34.568     , 31.575     , 44.954     , 31.38766667,\n",
       "       64.665     , 39.966     , 13.05      , 31.066     , 19.89      ,\n",
       "       33.838     , 61.28466667, 36.164     , 34.176     , 47.246     ,\n",
       "       39.364     , 29.183     , 38.054     , 14.552     , 23.807     ,\n",
       "       19.507     , 27.357     , 13.952     , 26.161     , 33.798     ,\n",
       "       12.856     , 39.189     , 40.138     , 47.755     , 52.93416667,\n",
       "       79.1       , 60.474     , 38.782     , 16.986     , 13.795     ,\n",
       "       30.13      , 58.98966667, 10.26      , 66.61      , 21.168     ,\n",
       "       14.381     , 36.961     , 16.942     , 35.201     , 38.864     ,\n",
       "       40.033     , 33.799     , 41.273     , 39.13      , 11.855     ,\n",
       "       50.928     , 35.845     , 34.972     , 45.76566667, 62.639     ,\n",
       "       56.286     , 39.661     , 17.182     , 35.26      , 44.117     ,\n",
       "       65.277     , 51.192     , 76.84      , 47.498     , 32.593     ,\n",
       "       29.708     , 27.397     , 35.771     , 55.458     , 57.429     ,\n",
       "       28.123     , 42.27      , 49.13      , 27.052     , 57.87566667,\n",
       "       39.855     , 45.236     , 24.292     , 35.446     , 22.329     ,\n",
       "       43.191     , 18.313     , 43.707     , 30.7       , 47.828     ,\n",
       "       59.90566667, 40.619     , 20.125     , 34.972     , 75.66      ,\n",
       "       21.927     , 64.187     , 30.795     , 39.642     , 27.559     ,\n",
       "       45.483     ,  5.835     , 27.189     , 31.482     , 37.071     ,\n",
       "       71.032     , 22.502     , 23.017     , 43.118     , 12.949     ,\n",
       "       54.23275   , 33.592     , 30.433     , 29.442     , 34.909     ,\n",
       "       35.156     , 44.953     , 11.959     , 35.156     , 36.289     ,\n",
       "       39.004     , 27.077     , 25.935     , 38.736     , 57.972     ,\n",
       "       12.708     , 36.672     , 22.589     , 39.012     , 23.765     ,\n",
       "       45.612     , 38.203     , 34.943     , 38.852     , 20.716     ,\n",
       "       61.28466667, 30.003     , 31.818     , 24.565     , 13.096     ,\n",
       "       12.448     , 45.209     , 37.525     , 18.102     ,  9.172     ,\n",
       "       20.527     , 43.705     , 40.796     , 36.223     , 21.937     ,\n",
       "       29.918     , 43.17      , 65.67566667, 27.001     , 18.391     ,\n",
       "       10.371     , 35.679     , 40.4965    , 49.046     , 32.477     ,\n",
       "       36.956     , 76.7       , 32.81      , 79.1       , 23.424     ,\n",
       "       52.301     , 21.497     , 47.432     , 28.007     , 65.8485    ,\n",
       "        8.166     , 38.863     , 25.723     ])"
      ]
     },
     "execution_count": 72,
     "metadata": {},
     "output_type": "execute_result"
    }
   ],
   "source": [
    "y_pred = model.predict(x_test)\n",
    "y_pred"
   ]
  },
  {
   "cell_type": "code",
   "execution_count": 73,
   "id": "c2405289",
   "metadata": {},
   "outputs": [
    {
     "data": {
      "text/plain": [
       "0.9751990446350882"
      ]
     },
     "execution_count": 73,
     "metadata": {},
     "output_type": "execute_result"
    }
   ],
   "source": [
    "model.score(x_train, y_train)"
   ]
  },
  {
   "cell_type": "code",
   "execution_count": 74,
   "id": "c832878f",
   "metadata": {},
   "outputs": [
    {
     "data": {
      "application/javascript": [
       "\n",
       "        if (window._pyforest_update_imports_cell) { window._pyforest_update_imports_cell('import numpy as np\\nfrom sklearn.ensemble import GradientBoostingRegressor\\nimport seaborn as sns\\nfrom sklearn.ensemble import RandomForestRegressor\\nimport pandas as pd\\nfrom sklearn.model_selection import train_test_split\\nimport matplotlib.pyplot as plt'); }\n",
       "    "
      ],
      "text/plain": [
       "<IPython.core.display.Javascript object>"
      ]
     },
     "metadata": {},
     "output_type": "display_data"
    },
    {
     "data": {
      "text/html": [
       "<div>\n",
       "<style scoped>\n",
       "    .dataframe tbody tr th:only-of-type {\n",
       "        vertical-align: middle;\n",
       "    }\n",
       "\n",
       "    .dataframe tbody tr th {\n",
       "        vertical-align: top;\n",
       "    }\n",
       "\n",
       "    .dataframe thead th {\n",
       "        text-align: right;\n",
       "    }\n",
       "</style>\n",
       "<table border=\"1\" class=\"dataframe\">\n",
       "  <thead>\n",
       "    <tr style=\"text-align: right;\">\n",
       "      <th></th>\n",
       "      <th>Algorithm</th>\n",
       "      <th>Accuracy</th>\n",
       "    </tr>\n",
       "  </thead>\n",
       "  <tbody>\n",
       "    <tr>\n",
       "      <th>8</th>\n",
       "      <td>Bagging Regressor</td>\n",
       "      <td>0.877553</td>\n",
       "    </tr>\n",
       "  </tbody>\n",
       "</table>\n",
       "</div>"
      ],
      "text/plain": [
       "           Algorithm  Accuracy\n",
       "8  Bagging Regressor  0.877553"
      ]
     },
     "execution_count": 74,
     "metadata": {},
     "output_type": "execute_result"
    }
   ],
   "source": [
    "accuracy = metrics.r2_score(y_test, y_pred)\n",
    "results = pd.DataFrame({'Algorithm': ['Bagging Regressor'],\n",
    "                      'Accuracy': accuracy}, index = {8})\n",
    "results = results[['Algorithm', 'Accuracy']]\n",
    "results"
   ]
  },
  {
   "cell_type": "code",
   "execution_count": 75,
   "id": "0b38ee7f",
   "metadata": {},
   "outputs": [
    {
     "data": {
      "application/javascript": [
       "\n",
       "        if (window._pyforest_update_imports_cell) { window._pyforest_update_imports_cell('import numpy as np\\nfrom sklearn.ensemble import GradientBoostingRegressor\\nimport seaborn as sns\\nfrom sklearn.ensemble import RandomForestRegressor\\nimport pandas as pd\\nfrom sklearn.model_selection import train_test_split\\nimport matplotlib.pyplot as plt'); }\n",
       "    "
      ],
      "text/plain": [
       "<IPython.core.display.Javascript object>"
      ]
     },
     "metadata": {},
     "output_type": "display_data"
    },
    {
     "data": {
      "application/javascript": [
       "\n",
       "        if (window._pyforest_update_imports_cell) { window._pyforest_update_imports_cell('import numpy as np\\nfrom sklearn.ensemble import GradientBoostingRegressor\\nimport seaborn as sns\\nfrom sklearn.ensemble import RandomForestRegressor\\nimport pandas as pd\\nfrom sklearn.model_selection import train_test_split\\nimport matplotlib.pyplot as plt'); }\n",
       "    "
      ],
      "text/plain": [
       "<IPython.core.display.Javascript object>"
      ]
     },
     "metadata": {},
     "output_type": "display_data"
    },
    {
     "data": {
      "application/javascript": [
       "\n",
       "        if (window._pyforest_update_imports_cell) { window._pyforest_update_imports_cell('import numpy as np\\nfrom sklearn.ensemble import GradientBoostingRegressor\\nimport seaborn as sns\\nfrom sklearn.ensemble import RandomForestRegressor\\nimport pandas as pd\\nfrom sklearn.model_selection import train_test_split\\nimport matplotlib.pyplot as plt'); }\n",
       "    "
      ],
      "text/plain": [
       "<IPython.core.display.Javascript object>"
      ]
     },
     "metadata": {},
     "output_type": "display_data"
    },
    {
     "data": {
      "text/html": [
       "<div>\n",
       "<style scoped>\n",
       "    .dataframe tbody tr th:only-of-type {\n",
       "        vertical-align: middle;\n",
       "    }\n",
       "\n",
       "    .dataframe tbody tr th {\n",
       "        vertical-align: top;\n",
       "    }\n",
       "\n",
       "    .dataframe thead th {\n",
       "        text-align: right;\n",
       "    }\n",
       "</style>\n",
       "<table border=\"1\" class=\"dataframe\">\n",
       "  <thead>\n",
       "    <tr style=\"text-align: right;\">\n",
       "      <th></th>\n",
       "      <th>Algorithm</th>\n",
       "      <th>Accuracy</th>\n",
       "    </tr>\n",
       "  </thead>\n",
       "  <tbody>\n",
       "    <tr>\n",
       "      <th>8</th>\n",
       "      <td>Bagging Regressor</td>\n",
       "      <td>0.877553</td>\n",
       "    </tr>\n",
       "    <tr>\n",
       "      <th>9</th>\n",
       "      <td>Bagging Regressor KFold</td>\n",
       "      <td>0.904520</td>\n",
       "    </tr>\n",
       "  </tbody>\n",
       "</table>\n",
       "</div>"
      ],
      "text/plain": [
       "                 Algorithm  Accuracy\n",
       "8        Bagging Regressor  0.877553\n",
       "9  Bagging Regressor KFold  0.904520"
      ]
     },
     "execution_count": 75,
     "metadata": {},
     "output_type": "execute_result"
    }
   ],
   "source": [
    "# KFold cross validation\n",
    "\n",
    "k = 20\n",
    "kfold = KFold(n_splits = k, random_state = 10, shuffle=True)\n",
    "k_result = cross_val_score(model, X, y, cv = kfold)\n",
    "k_accuracy = np.mean(abs(k_result))\n",
    "#k_accuracy\n",
    "\n",
    "data = pd.DataFrame({'Algorithm': ['Bagging Regressor KFold'], \n",
    "                    'Accuracy': k_accuracy}, index = {9})\n",
    "\n",
    "results = pd.concat([results, data])\n",
    "results = results[['Algorithm', 'Accuracy']]\n",
    "results"
   ]
  },
  {
   "cell_type": "code",
   "execution_count": 76,
   "id": "f494f3b3",
   "metadata": {},
   "outputs": [
    {
     "data": {
      "application/javascript": [
       "\n",
       "        if (window._pyforest_update_imports_cell) { window._pyforest_update_imports_cell('import numpy as np\\nfrom sklearn.ensemble import GradientBoostingRegressor\\nimport seaborn as sns\\nfrom sklearn.ensemble import RandomForestRegressor\\nimport pandas as pd\\nfrom sklearn.model_selection import train_test_split\\nimport matplotlib.pyplot as plt'); }\n",
       "    "
      ],
      "text/plain": [
       "<IPython.core.display.Javascript object>"
      ]
     },
     "metadata": {},
     "output_type": "display_data"
    }
   ],
   "source": [
    "results_df = pd.concat([results_df, results])"
   ]
  },
  {
   "cell_type": "markdown",
   "id": "b1be6569",
   "metadata": {},
   "source": [
    "**Support vector regressor**"
   ]
  },
  {
   "cell_type": "code",
   "execution_count": 77,
   "id": "0ec5a593",
   "metadata": {},
   "outputs": [],
   "source": [
    "from sklearn.svm import SVR"
   ]
  },
  {
   "cell_type": "code",
   "execution_count": 78,
   "id": "38bcd126",
   "metadata": {},
   "outputs": [
    {
     "data": {
      "text/plain": [
       "SVR(kernel='linear')"
      ]
     },
     "execution_count": 78,
     "metadata": {},
     "output_type": "execute_result"
    }
   ],
   "source": [
    "model = SVR(kernel = 'linear')\n",
    "model.fit(x_train, y_train)"
   ]
  },
  {
   "cell_type": "code",
   "execution_count": 79,
   "id": "de998147",
   "metadata": {},
   "outputs": [
    {
     "data": {
      "text/plain": [
       "array([32.33295771, 21.4845561 , 22.77571059, 20.61683251, 34.08590839,\n",
       "       50.95498089, 24.19108243, 47.1934724 , 32.22390698, 37.13212553,\n",
       "       47.97209408, 18.32363834, 28.37725532, 27.9732508 , 12.50232858,\n",
       "       25.08055974, 67.00134969, 46.97252639, 50.76721552, 34.14245906,\n",
       "       23.4864574 , 38.92341346, 23.18549386, 45.93402368, 59.36777574,\n",
       "       33.41993331, 31.60312668, 27.68040555, 33.12729442, 23.58720829,\n",
       "       86.57144934, 52.91586648, 24.07133508, 33.68746448, 55.31272482,\n",
       "       34.12807507, 24.68896914, 23.82313865, 29.55420583, 27.49062363,\n",
       "       51.94569333, 24.73293821, 53.07147986, 37.28687724, 33.95160611,\n",
       "       33.38550077, 27.62534419, 27.8953942 , 50.51792218, 39.44314731,\n",
       "       22.81567963, 34.21061778, 73.45975055, 68.59180039, 60.03219995,\n",
       "       18.70317657, 47.81487562, 24.42876521, 25.73472695, 34.34815308,\n",
       "       73.4205678 , 87.88564535, 52.85083516, 43.81015591, 32.84668842,\n",
       "       40.74223743, 48.45573196, 33.8930128 , 32.0543685 , 27.00792768,\n",
       "       48.68030488, 23.41275325, 34.24944933, 18.52097257, 55.37321894,\n",
       "       54.92449942, 68.40798885, 30.34534262, 57.52186991, 40.83354703,\n",
       "       34.26787144, 51.17592267, 77.62599503, 26.7041407 , 36.80797037,\n",
       "       49.33830537, 32.53414217, 59.23642866, 61.99848341, 40.79036638,\n",
       "       38.92901961, 35.62310533, 26.73176692, 36.25460782, 50.81199637,\n",
       "       68.7171085 , 51.25081249, 21.67695606, 33.44986581, 34.99846902,\n",
       "       33.35092793, 60.17023516, 29.54204081, 59.88708474, 47.51555256,\n",
       "       27.43877374, 23.97404857, 34.45784568, 16.43784723, 29.22255527,\n",
       "       17.64916436, 27.97783405, 14.76011669, 33.28161856, 32.82447759,\n",
       "       19.69323674, 39.20160613, 29.82071211, 28.18303416, 52.27991664,\n",
       "       65.11452432, 58.3536008 , 41.77400769, 24.82995181, 22.2950703 ,\n",
       "       21.25047242, 47.62650427, 18.33298321, 69.73128345, 31.00334311,\n",
       "       18.70167074, 26.40757336, 25.54190138, 28.06375448, 31.33777035,\n",
       "       85.25725333, 32.80877697, 32.34765824, 35.01167334, 12.0812168 ,\n",
       "       53.78678938, 32.4844201 , 34.15015816, 52.10972917, 72.1208005 ,\n",
       "       51.58482183, 69.62974171, 22.00248038, 55.31272482, 35.12851759,\n",
       "       63.97377917, 38.54814951, 74.3630955 , 37.79996754, 29.00259854,\n",
       "       30.64906871, 28.05235895, 55.25527269, 51.26937819, 52.37477094,\n",
       "       20.76138746, 51.29651404, 30.28574777, 21.57607592, 57.63246988,\n",
       "       41.06603501, 43.50275988, 29.97509133, 34.41915511, 23.93058161,\n",
       "       20.08674019, 23.38190338, 89.19984136, 22.28596116, 53.02546101,\n",
       "       56.88592007, 41.57650871, 49.75514568, 34.12672639, 68.60559122,\n",
       "       40.04825731, 67.51479707, 37.09188388, 28.42954692, 51.52028004,\n",
       "       36.46950275, 11.42321631, 20.65146543, 21.77814091, 32.95190507,\n",
       "       92.60759821, 21.0767179 , 51.28769284, 37.44106796, 22.22693876,\n",
       "       55.56423173, 31.94977347, 21.36702773, 27.91994814, 37.27505954,\n",
       "       48.64053905, 41.1549382 , 14.1021162 , 48.64053905, 34.21629822,\n",
       "       54.8247307 , 20.04951306, 47.98253856, 35.96482197, 48.55837286,\n",
       "       25.6296466 , 30.94544525, 14.97177391, 49.57196389, 39.14627849,\n",
       "       40.61872146, 32.35024439, 35.65599053, 34.33850333, 33.10960219,\n",
       "       60.17023516, 27.22387034, 34.84586115, 22.63303567, 22.24876181,\n",
       "       16.31860917, 43.21055195, 28.58005199, 24.26278586, 16.96873045,\n",
       "       33.11678122, 37.0296478 , 56.13892671, 39.00807664, 33.8620424 ,\n",
       "       31.749294  , 58.76731873, 59.81078525, 22.19549319, 32.14210476,\n",
       "        8.94683113, 30.557565  , 38.68940084, 44.79591387, 33.49935242,\n",
       "       34.51379566, 59.35702004, 27.91725632, 65.11452432, 15.53571936,\n",
       "       60.9471266 , 32.91714474, 36.03576581, 22.40461324, 56.70104504,\n",
       "       22.16299645, 36.44580148, 50.41314617])"
      ]
     },
     "execution_count": 79,
     "metadata": {},
     "output_type": "execute_result"
    }
   ],
   "source": [
    "y_pred = model.predict(x_test)\n",
    "y_pred"
   ]
  },
  {
   "cell_type": "code",
   "execution_count": 80,
   "id": "a9d1f2db",
   "metadata": {},
   "outputs": [
    {
     "data": {
      "text/plain": [
       "0.5932526147204562"
      ]
     },
     "execution_count": 80,
     "metadata": {},
     "output_type": "execute_result"
    }
   ],
   "source": [
    "model.score(x_train, y_train)"
   ]
  },
  {
   "cell_type": "code",
   "execution_count": 81,
   "id": "28312e14",
   "metadata": {},
   "outputs": [
    {
     "data": {
      "application/javascript": [
       "\n",
       "        if (window._pyforest_update_imports_cell) { window._pyforest_update_imports_cell('import numpy as np\\nfrom sklearn.ensemble import GradientBoostingRegressor\\nimport seaborn as sns\\nfrom sklearn.ensemble import RandomForestRegressor\\nimport pandas as pd\\nfrom sklearn.model_selection import train_test_split\\nimport matplotlib.pyplot as plt'); }\n",
       "    "
      ],
      "text/plain": [
       "<IPython.core.display.Javascript object>"
      ]
     },
     "metadata": {},
     "output_type": "display_data"
    },
    {
     "data": {
      "text/html": [
       "<div>\n",
       "<style scoped>\n",
       "    .dataframe tbody tr th:only-of-type {\n",
       "        vertical-align: middle;\n",
       "    }\n",
       "\n",
       "    .dataframe tbody tr th {\n",
       "        vertical-align: top;\n",
       "    }\n",
       "\n",
       "    .dataframe thead th {\n",
       "        text-align: right;\n",
       "    }\n",
       "</style>\n",
       "<table border=\"1\" class=\"dataframe\">\n",
       "  <thead>\n",
       "    <tr style=\"text-align: right;\">\n",
       "      <th></th>\n",
       "      <th>Algorithm</th>\n",
       "      <th>Accuracy</th>\n",
       "    </tr>\n",
       "  </thead>\n",
       "  <tbody>\n",
       "    <tr>\n",
       "      <th>10</th>\n",
       "      <td>Support vector regressor</td>\n",
       "      <td>0.481796</td>\n",
       "    </tr>\n",
       "  </tbody>\n",
       "</table>\n",
       "</div>"
      ],
      "text/plain": [
       "                   Algorithm  Accuracy\n",
       "10  Support vector regressor  0.481796"
      ]
     },
     "execution_count": 81,
     "metadata": {},
     "output_type": "execute_result"
    }
   ],
   "source": [
    "accuracy = metrics.r2_score(y_test, y_pred)\n",
    "results = pd.DataFrame({'Algorithm': ['Support vector regressor'],\n",
    "                      'Accuracy': accuracy}, index = {10})\n",
    "results = results[['Algorithm', 'Accuracy']]\n",
    "results"
   ]
  },
  {
   "cell_type": "code",
   "execution_count": 82,
   "id": "65171354",
   "metadata": {},
   "outputs": [
    {
     "data": {
      "text/plain": [
       "138.22486084222464"
      ]
     },
     "execution_count": 82,
     "metadata": {},
     "output_type": "execute_result"
    }
   ],
   "source": [
    "metrics.mean_squared_error(y_test, y_pred)"
   ]
  },
  {
   "cell_type": "code",
   "execution_count": 83,
   "id": "e8e205ce",
   "metadata": {
    "scrolled": true
   },
   "outputs": [
    {
     "data": {
      "application/javascript": [
       "\n",
       "        if (window._pyforest_update_imports_cell) { window._pyforest_update_imports_cell('import numpy as np\\nfrom sklearn.ensemble import GradientBoostingRegressor\\nimport seaborn as sns\\nfrom sklearn.ensemble import RandomForestRegressor\\nimport pandas as pd\\nfrom sklearn.model_selection import train_test_split\\nimport matplotlib.pyplot as plt'); }\n",
       "    "
      ],
      "text/plain": [
       "<IPython.core.display.Javascript object>"
      ]
     },
     "metadata": {},
     "output_type": "display_data"
    },
    {
     "data": {
      "application/javascript": [
       "\n",
       "        if (window._pyforest_update_imports_cell) { window._pyforest_update_imports_cell('import numpy as np\\nfrom sklearn.ensemble import GradientBoostingRegressor\\nimport seaborn as sns\\nfrom sklearn.ensemble import RandomForestRegressor\\nimport pandas as pd\\nfrom sklearn.model_selection import train_test_split\\nimport matplotlib.pyplot as plt'); }\n",
       "    "
      ],
      "text/plain": [
       "<IPython.core.display.Javascript object>"
      ]
     },
     "metadata": {},
     "output_type": "display_data"
    },
    {
     "data": {
      "application/javascript": [
       "\n",
       "        if (window._pyforest_update_imports_cell) { window._pyforest_update_imports_cell('import numpy as np\\nfrom sklearn.ensemble import GradientBoostingRegressor\\nimport seaborn as sns\\nfrom sklearn.ensemble import RandomForestRegressor\\nimport pandas as pd\\nfrom sklearn.model_selection import train_test_split\\nimport matplotlib.pyplot as plt'); }\n",
       "    "
      ],
      "text/plain": [
       "<IPython.core.display.Javascript object>"
      ]
     },
     "metadata": {},
     "output_type": "display_data"
    },
    {
     "data": {
      "text/html": [
       "<div>\n",
       "<style scoped>\n",
       "    .dataframe tbody tr th:only-of-type {\n",
       "        vertical-align: middle;\n",
       "    }\n",
       "\n",
       "    .dataframe tbody tr th {\n",
       "        vertical-align: top;\n",
       "    }\n",
       "\n",
       "    .dataframe thead th {\n",
       "        text-align: right;\n",
       "    }\n",
       "</style>\n",
       "<table border=\"1\" class=\"dataframe\">\n",
       "  <thead>\n",
       "    <tr style=\"text-align: right;\">\n",
       "      <th></th>\n",
       "      <th>Algorithm</th>\n",
       "      <th>Accuracy</th>\n",
       "    </tr>\n",
       "  </thead>\n",
       "  <tbody>\n",
       "    <tr>\n",
       "      <th>10</th>\n",
       "      <td>Support vector regressor</td>\n",
       "      <td>0.481796</td>\n",
       "    </tr>\n",
       "    <tr>\n",
       "      <th>11</th>\n",
       "      <td>Support vector regressor KFold</td>\n",
       "      <td>0.550172</td>\n",
       "    </tr>\n",
       "  </tbody>\n",
       "</table>\n",
       "</div>"
      ],
      "text/plain": [
       "                         Algorithm  Accuracy\n",
       "10        Support vector regressor  0.481796\n",
       "11  Support vector regressor KFold  0.550172"
      ]
     },
     "execution_count": 83,
     "metadata": {},
     "output_type": "execute_result"
    }
   ],
   "source": [
    "# KFold cross validation\n",
    "\n",
    "k = 20\n",
    "kfold = KFold(n_splits = k, random_state = 10, shuffle=True)\n",
    "k_result = cross_val_score(model, X, y, cv = kfold)\n",
    "k_accuracy = np.mean(abs(k_result))\n",
    "#k_accuracy\n",
    "\n",
    "data = pd.DataFrame({'Algorithm': ['Support vector regressor KFold'], \n",
    "                    'Accuracy': k_accuracy}, index = {11})\n",
    "\n",
    "results = pd.concat([results, data])\n",
    "results = results[['Algorithm', 'Accuracy']]\n",
    "results"
   ]
  },
  {
   "cell_type": "code",
   "execution_count": 84,
   "id": "ec0b8e45",
   "metadata": {},
   "outputs": [
    {
     "data": {
      "application/javascript": [
       "\n",
       "        if (window._pyforest_update_imports_cell) { window._pyforest_update_imports_cell('import numpy as np\\nfrom sklearn.ensemble import GradientBoostingRegressor\\nimport seaborn as sns\\nfrom sklearn.ensemble import RandomForestRegressor\\nimport pandas as pd\\nfrom sklearn.model_selection import train_test_split\\nimport matplotlib.pyplot as plt'); }\n",
       "    "
      ],
      "text/plain": [
       "<IPython.core.display.Javascript object>"
      ]
     },
     "metadata": {},
     "output_type": "display_data"
    }
   ],
   "source": [
    "results_df = pd.concat([results_df, results])"
   ]
  },
  {
   "cell_type": "markdown",
   "id": "3330150a",
   "metadata": {},
   "source": [
    "**XG Boost Regressor**"
   ]
  },
  {
   "cell_type": "code",
   "execution_count": 85,
   "id": "2a781e81",
   "metadata": {},
   "outputs": [],
   "source": [
    "#! pip install xgboost"
   ]
  },
  {
   "cell_type": "code",
   "execution_count": 86,
   "id": "278cbe52",
   "metadata": {},
   "outputs": [],
   "source": [
    "import xgboost as xgb\n",
    "from xgboost.sklearn import XGBRegressor"
   ]
  },
  {
   "cell_type": "code",
   "execution_count": 87,
   "id": "a6bca1ca",
   "metadata": {},
   "outputs": [
    {
     "data": {
      "text/plain": [
       "XGBRegressor(base_score=0.5, booster='gbtree', colsample_bylevel=1,\n",
       "             colsample_bynode=1, colsample_bytree=1, gamma=0, gpu_id=-1,\n",
       "             importance_type='gain', interaction_constraints='',\n",
       "             learning_rate=0.300000012, max_delta_step=0, max_depth=6,\n",
       "             min_child_weight=1, missing=nan, monotone_constraints='()',\n",
       "             n_estimators=100, n_jobs=4, num_parallel_tree=1, random_state=0,\n",
       "             reg_alpha=0, reg_lambda=1, scale_pos_weight=1, subsample=1,\n",
       "             tree_method='exact', validate_parameters=1, verbosity=None)"
      ]
     },
     "execution_count": 87,
     "metadata": {},
     "output_type": "execute_result"
    }
   ],
   "source": [
    "xgb = XGBRegressor()\n",
    "xgb.fit(x_train, y_train)"
   ]
  },
  {
   "cell_type": "code",
   "execution_count": 88,
   "id": "8a7eb550",
   "metadata": {},
   "outputs": [
    {
     "data": {
      "text/plain": [
       "array([24.760424 , 13.256351 , 34.897655 , 15.822304 , 32.438786 ,\n",
       "       68.70487  , 18.652279 , 50.84954  , 39.35378  , 18.109987 ,\n",
       "       38.937717 , 11.696493 , 36.197098 , 34.933712 , 12.051855 ,\n",
       "       27.206778 , 37.071625 , 56.536476 , 61.336956 , 37.513927 ,\n",
       "       23.146072 , 50.467846 , 19.33746  , 66.12136  , 62.805664 ,\n",
       "       46.71372  , 39.643044 , 31.153734 , 37.261974 , 13.646238 ,\n",
       "       40.60827  , 51.841675 , 28.522396 , 21.752884 , 33.535362 ,\n",
       "       36.20633  , 17.699453 , 26.492151 , 24.49432  , 14.795337 ,\n",
       "       33.202404 , 14.098603 , 46.869698 , 38.064507 , 35.966103 ,\n",
       "       25.159565 , 33.33403  , 30.770157 , 29.107536 , 48.63681  ,\n",
       "       25.586798 , 36.41383  , 62.45654  , 55.86361  , 55.391876 ,\n",
       "        8.725548 , 35.17478  , 25.670803 , 35.23299  , 44.58282  ,\n",
       "       51.17141  , 42.165947 , 53.97605  , 52.402775 , 21.874727 ,\n",
       "       33.792606 , 53.83014  , 38.627346 , 45.486763 , 24.857933 ,\n",
       "       36.381474 , 27.011112 , 36.20633  , 10.156318 , 73.31316  ,\n",
       "       61.456295 , 57.211956 , 13.71224  , 59.40268  , 53.25788  ,\n",
       "       43.739147 , 41.140636 , 53.474228 , 33.943512 , 46.26545  ,\n",
       "       46.834377 , 31.345703 , 54.50694  , 52.7507   , 56.83451  ,\n",
       "       35.11242  , 31.284338 , 26.937874 , 43.639538 , 29.637733 ,\n",
       "       71.16508  , 38.636253 , 13.231277 , 29.086226 , 24.398151 ,\n",
       "       37.13702  , 60.811394 , 33.5235   , 40.239197 , 49.467842 ,\n",
       "       31.8393   , 27.309376 , 40.00022  , 13.504859 , 25.708782 ,\n",
       "       19.969555 , 27.48925  , 10.139839 , 25.133968 , 31.804966 ,\n",
       "       13.320925 , 38.322426 , 38.611164 , 47.36916  , 53.439983 ,\n",
       "       79.40233  , 63.80402  , 40.48462  , 17.390835 , 15.6244545,\n",
       "       32.254227 , 58.242313 ,  9.359497 , 69.625626 , 21.00821  ,\n",
       "       13.353459 , 33.651817 , 13.726436 , 34.02819  , 39.927574 ,\n",
       "       42.70749  , 31.804966 , 37.502724 , 38.13666  , 10.500045 ,\n",
       "       53.649487 , 36.968334 , 39.50078  , 44.370155 , 58.384354 ,\n",
       "       47.11871  , 40.568707 , 21.23415  , 33.535362 , 48.57164  ,\n",
       "       68.4126   , 50.559345 , 78.672585 , 44.494694 , 26.845573 ,\n",
       "       33.83146  , 30.43571  , 31.589602 , 51.169796 , 63.298317 ,\n",
       "       30.401485 , 45.70017  , 46.54958  , 25.372923 , 58.574997 ,\n",
       "       40.013317 , 46.96582  , 28.854633 , 40.23032  , 22.432621 ,\n",
       "       42.20756  , 15.083315 , 41.50219  , 32.09949  , 46.869698 ,\n",
       "       60.194305 , 43.59655  , 28.76601  , 39.895817 , 77.24686  ,\n",
       "       30.399797 , 59.527153 , 33.97126  , 36.46613  , 26.913298 ,\n",
       "       41.420033 ,  4.888928 , 24.635468 , 27.945728 , 39.50735  ,\n",
       "       75.09905  , 21.407112 , 22.442102 , 45.30708  ,  9.992828 ,\n",
       "       51.678455 , 38.0867   , 32.218193 , 29.45762  , 38.064507 ,\n",
       "       34.677223 , 44.597996 ,  6.2113295, 34.677223 , 35.963036 ,\n",
       "       39.134686 , 25.964214 , 23.796755 , 32.288082 , 65.646164 ,\n",
       "       13.553461 , 34.499294 , 18.752817 , 42.25068  , 25.720448 ,\n",
       "       43.42848  , 30.671627 , 35.839348 , 43.601383 , 20.50551  ,\n",
       "       60.811394 , 25.319511 , 38.95966  , 23.3801   , 15.154244 ,\n",
       "       11.13857  , 45.38674  , 36.22037  , 18.751532 ,  8.459943 ,\n",
       "       15.559501 , 46.623756 , 40.555767 , 30.873295 , 26.626926 ,\n",
       "       35.153492 , 42.483257 , 61.11619  , 20.519547 , 22.512922 ,\n",
       "        6.7715473, 37.902573 , 39.028942 , 57.58751  , 36.002235 ,\n",
       "       38.237034 , 77.26025  , 33.91633  , 79.40233  , 24.38032  ,\n",
       "       53.6304   , 26.475508 , 42.98162  , 26.797106 , 67.42203  ,\n",
       "       11.712669 , 37.382534 , 44.565502 ], dtype=float32)"
      ]
     },
     "execution_count": 88,
     "metadata": {},
     "output_type": "execute_result"
    }
   ],
   "source": [
    "y_pred = xgb.predict(x_test)\n",
    "y_pred"
   ]
  },
  {
   "cell_type": "code",
   "execution_count": 89,
   "id": "c9866fde",
   "metadata": {},
   "outputs": [
    {
     "data": {
      "text/plain": [
       "0.5932526147204562"
      ]
     },
     "execution_count": 89,
     "metadata": {},
     "output_type": "execute_result"
    }
   ],
   "source": [
    "model.score(x_train, y_train)"
   ]
  },
  {
   "cell_type": "code",
   "execution_count": 90,
   "id": "d5ac4ad4",
   "metadata": {},
   "outputs": [
    {
     "data": {
      "application/javascript": [
       "\n",
       "        if (window._pyforest_update_imports_cell) { window._pyforest_update_imports_cell('import numpy as np\\nfrom sklearn.ensemble import GradientBoostingRegressor\\nimport seaborn as sns\\nfrom sklearn.ensemble import RandomForestRegressor\\nimport pandas as pd\\nfrom sklearn.model_selection import train_test_split\\nimport matplotlib.pyplot as plt'); }\n",
       "    "
      ],
      "text/plain": [
       "<IPython.core.display.Javascript object>"
      ]
     },
     "metadata": {},
     "output_type": "display_data"
    },
    {
     "data": {
      "text/html": [
       "<div>\n",
       "<style scoped>\n",
       "    .dataframe tbody tr th:only-of-type {\n",
       "        vertical-align: middle;\n",
       "    }\n",
       "\n",
       "    .dataframe tbody tr th {\n",
       "        vertical-align: top;\n",
       "    }\n",
       "\n",
       "    .dataframe thead th {\n",
       "        text-align: right;\n",
       "    }\n",
       "</style>\n",
       "<table border=\"1\" class=\"dataframe\">\n",
       "  <thead>\n",
       "    <tr style=\"text-align: right;\">\n",
       "      <th></th>\n",
       "      <th>Algorithm</th>\n",
       "      <th>Accuracy</th>\n",
       "    </tr>\n",
       "  </thead>\n",
       "  <tbody>\n",
       "    <tr>\n",
       "      <th>12</th>\n",
       "      <td>XG Boost Regressor</td>\n",
       "      <td>0.919621</td>\n",
       "    </tr>\n",
       "  </tbody>\n",
       "</table>\n",
       "</div>"
      ],
      "text/plain": [
       "             Algorithm  Accuracy\n",
       "12  XG Boost Regressor  0.919621"
      ]
     },
     "execution_count": 90,
     "metadata": {},
     "output_type": "execute_result"
    }
   ],
   "source": [
    "accuracy = metrics.r2_score(y_test, y_pred)\n",
    "results = pd.DataFrame({'Algorithm': ['XG Boost Regressor'],\n",
    "                      'Accuracy': accuracy}, index = {12})\n",
    "results = results[['Algorithm', 'Accuracy']]\n",
    "results"
   ]
  },
  {
   "cell_type": "code",
   "execution_count": 91,
   "id": "2a538fc4",
   "metadata": {
    "scrolled": true
   },
   "outputs": [
    {
     "data": {
      "application/javascript": [
       "\n",
       "        if (window._pyforest_update_imports_cell) { window._pyforest_update_imports_cell('import numpy as np\\nfrom sklearn.ensemble import GradientBoostingRegressor\\nimport seaborn as sns\\nfrom sklearn.ensemble import RandomForestRegressor\\nimport pandas as pd\\nfrom sklearn.model_selection import train_test_split\\nimport matplotlib.pyplot as plt'); }\n",
       "    "
      ],
      "text/plain": [
       "<IPython.core.display.Javascript object>"
      ]
     },
     "metadata": {},
     "output_type": "display_data"
    },
    {
     "data": {
      "application/javascript": [
       "\n",
       "        if (window._pyforest_update_imports_cell) { window._pyforest_update_imports_cell('import numpy as np\\nfrom sklearn.ensemble import GradientBoostingRegressor\\nimport seaborn as sns\\nfrom sklearn.ensemble import RandomForestRegressor\\nimport pandas as pd\\nfrom sklearn.model_selection import train_test_split\\nimport matplotlib.pyplot as plt'); }\n",
       "    "
      ],
      "text/plain": [
       "<IPython.core.display.Javascript object>"
      ]
     },
     "metadata": {},
     "output_type": "display_data"
    },
    {
     "data": {
      "application/javascript": [
       "\n",
       "        if (window._pyforest_update_imports_cell) { window._pyforest_update_imports_cell('import numpy as np\\nfrom sklearn.ensemble import GradientBoostingRegressor\\nimport seaborn as sns\\nfrom sklearn.ensemble import RandomForestRegressor\\nimport pandas as pd\\nfrom sklearn.model_selection import train_test_split\\nimport matplotlib.pyplot as plt'); }\n",
       "    "
      ],
      "text/plain": [
       "<IPython.core.display.Javascript object>"
      ]
     },
     "metadata": {},
     "output_type": "display_data"
    },
    {
     "data": {
      "text/html": [
       "<div>\n",
       "<style scoped>\n",
       "    .dataframe tbody tr th:only-of-type {\n",
       "        vertical-align: middle;\n",
       "    }\n",
       "\n",
       "    .dataframe tbody tr th {\n",
       "        vertical-align: top;\n",
       "    }\n",
       "\n",
       "    .dataframe thead th {\n",
       "        text-align: right;\n",
       "    }\n",
       "</style>\n",
       "<table border=\"1\" class=\"dataframe\">\n",
       "  <thead>\n",
       "    <tr style=\"text-align: right;\">\n",
       "      <th></th>\n",
       "      <th>Algorithm</th>\n",
       "      <th>Accuracy</th>\n",
       "    </tr>\n",
       "  </thead>\n",
       "  <tbody>\n",
       "    <tr>\n",
       "      <th>12</th>\n",
       "      <td>XG Boost Regressor</td>\n",
       "      <td>0.919621</td>\n",
       "    </tr>\n",
       "    <tr>\n",
       "      <th>13</th>\n",
       "      <td>XG Boost Regressor KFold</td>\n",
       "      <td>0.929891</td>\n",
       "    </tr>\n",
       "  </tbody>\n",
       "</table>\n",
       "</div>"
      ],
      "text/plain": [
       "                   Algorithm  Accuracy\n",
       "12        XG Boost Regressor  0.919621\n",
       "13  XG Boost Regressor KFold  0.929891"
      ]
     },
     "execution_count": 91,
     "metadata": {},
     "output_type": "execute_result"
    }
   ],
   "source": [
    "# KFold cross validation\n",
    "\n",
    "k = 20\n",
    "kfold = KFold(n_splits = k, random_state = 10, shuffle=True)\n",
    "k_result = cross_val_score(xgb, X, y, cv = kfold)\n",
    "k_accuracy = np.mean(abs(k_result))\n",
    "#k_accuracy\n",
    "\n",
    "data = pd.DataFrame({'Algorithm': ['XG Boost Regressor KFold'], \n",
    "                    'Accuracy': k_accuracy}, index = {13})\n",
    "\n",
    "results = pd.concat([results, data])\n",
    "results = results[['Algorithm', 'Accuracy']]\n",
    "results"
   ]
  },
  {
   "cell_type": "code",
   "execution_count": 92,
   "id": "b54d7bed",
   "metadata": {},
   "outputs": [
    {
     "data": {
      "application/javascript": [
       "\n",
       "        if (window._pyforest_update_imports_cell) { window._pyforest_update_imports_cell('import numpy as np\\nfrom sklearn.ensemble import GradientBoostingRegressor\\nimport seaborn as sns\\nfrom sklearn.ensemble import RandomForestRegressor\\nimport pandas as pd\\nfrom sklearn.model_selection import train_test_split\\nimport matplotlib.pyplot as plt'); }\n",
       "    "
      ],
      "text/plain": [
       "<IPython.core.display.Javascript object>"
      ]
     },
     "metadata": {},
     "output_type": "display_data"
    }
   ],
   "source": [
    "results_df = pd.concat([results_df, results])"
   ]
  },
  {
   "cell_type": "markdown",
   "id": "414479ff",
   "metadata": {},
   "source": [
    "**Decision Tree Regressor**"
   ]
  },
  {
   "cell_type": "code",
   "execution_count": 93,
   "id": "67d5f21d",
   "metadata": {},
   "outputs": [],
   "source": [
    "from sklearn.tree import DecisionTreeRegressor"
   ]
  },
  {
   "cell_type": "code",
   "execution_count": 94,
   "id": "aba1f887",
   "metadata": {},
   "outputs": [
    {
     "data": {
      "text/plain": [
       "DecisionTreeRegressor()"
      ]
     },
     "execution_count": 94,
     "metadata": {},
     "output_type": "execute_result"
    }
   ],
   "source": [
    "dec_model = DecisionTreeRegressor()\n",
    "dec_model.fit(x_train, y_train)"
   ]
  },
  {
   "cell_type": "code",
   "execution_count": 95,
   "id": "25ff24b8",
   "metadata": {},
   "outputs": [
    {
     "data": {
      "application/javascript": [
       "\n",
       "        if (window._pyforest_update_imports_cell) { window._pyforest_update_imports_cell('import numpy as np\\nfrom sklearn.ensemble import GradientBoostingRegressor\\nimport seaborn as sns\\nfrom sklearn.ensemble import RandomForestRegressor\\nimport pandas as pd\\nfrom sklearn.model_selection import train_test_split\\nimport matplotlib.pyplot as plt'); }\n",
       "    "
      ],
      "text/plain": [
       "<IPython.core.display.Javascript object>"
      ]
     },
     "metadata": {},
     "output_type": "display_data"
    },
    {
     "name": "stdout",
     "output_type": "stream",
     "text": [
      "Feature importances : \n",
      "                   Importance\n",
      "cement              0.362110\n",
      "slag                0.075516\n",
      "ash                 0.011348\n",
      "water               0.119065\n",
      "superplasticizer    0.021813\n",
      "coarseagg           0.043324\n",
      "fineagg             0.031299\n",
      "age                 0.335526\n"
     ]
    }
   ],
   "source": [
    "print('Feature importances : \\n', pd.DataFrame(dec_model.feature_importances_, columns = ['Importance'], index = x_train.columns))"
   ]
  },
  {
   "cell_type": "code",
   "execution_count": 96,
   "id": "1e4d4602",
   "metadata": {},
   "outputs": [
    {
     "data": {
      "text/plain": [
       "array([23.8  , 13.18 , 36.44 , 13.09 , 30.88 , 66.42 , 14.2  , 50.95 ,\n",
       "       39.05 , 17.2  , 37.68 , 13.09 , 36.8  , 35.23 , 12.05 , 26.86 ,\n",
       "       36.25 , 59.3  , 53.58 , 34.67 , 24.28 , 51.43 , 16.26 , 81.75 ,\n",
       "       68.5  , 46.24 , 41.2  , 35.08 , 32.05 , 13.12 , 41.15 , 50.24 ,\n",
       "       45.71 , 27.42 , 33.4  , 32.4  , 15.69 , 27.83 , 25.56 , 13.12 ,\n",
       "       38.   , 15.05 , 39.42 , 40.06 , 34.67 , 29.72 , 31.84 , 23.7  ,\n",
       "       35.3  , 50.08 , 27.66 , 37.91 , 58.78 , 55.16 , 61.215,  9.31 ,\n",
       "       35.1  , 22.72 , 39.36 , 47.74 , 50.66 , 43.01 , 54.32 , 56.81 ,\n",
       "       25.56 , 33.76 , 58.78 , 41.2  , 55.55 , 24.28 , 41.3  , 24.9  ,\n",
       "       32.4  ,  9.74 , 64.9  , 62.05 , 46.9  , 21.92 , 55.2  , 53.52 ,\n",
       "       33.08 , 46.2  , 55.26 , 45.71 , 26.77 , 49.2  , 33.7  , 55.2  ,\n",
       "       51.73 , 57.21 , 36.35 , 31.18 , 24.85 , 36.8  , 32.01 , 71.7  ,\n",
       "       41.05 , 12.18 , 25.73 , 24.4  , 32.05 , 61.07 , 39.27 , 33.4  ,\n",
       "       50.53 , 32.1  , 33.27 , 39.7  , 12.18 , 24.   , 19.69 , 45.71 ,\n",
       "       14.6  , 29.72 , 29.65 , 13.29 , 39.49 , 37.72 , 46.93 , 50.24 ,\n",
       "       79.3  , 71.7  , 40.86 , 17.95 ,  9.87 , 29.89 , 51.02 , 10.54 ,\n",
       "       65.2  , 21.92 , 13.2  , 31.45 , 13.46 , 28.63 , 35.57 , 55.26 ,\n",
       "       30.23 , 33.08 , 37.92 , 10.09 , 55.16 , 37.17 , 37.43 , 45.015,\n",
       "       59.2  , 58.78 , 51.73 , 16.26 , 33.4  , 49.77 , 64.3  , 47.13 ,\n",
       "       79.3  , 60.32 , 34.29 , 33.09 , 23.7  , 33.4  , 55.5  , 67.87 ,\n",
       "       29.89 , 44.9  , 37.72 , 33.09 , 55.2  , 40.39 , 52.42 , 24.85 ,\n",
       "       33.08 , 22.32 , 37.72 , 14.7  , 42.13 , 32.63 , 39.42 , 55.2  ,\n",
       "       42.55 , 14.14 , 37.43 , 77.3  , 14.14 , 67.57 , 33.05 , 36.8  ,\n",
       "       25.61 , 35.86 ,  6.28 , 25.18 , 32.63 , 25.56 , 71.62 , 22.44 ,\n",
       "       24.1  , 42.35 ,  9.45 , 50.725, 31.97 , 29.89 , 29.41 , 40.06 ,\n",
       "       38.   , 42.55 , 11.65 , 38.   , 31.25 , 50.95 , 27.53 , 23.64 ,\n",
       "       33.04 , 65.91 , 13.54 , 33.56 , 18.75 , 45.9  , 26.06 , 43.8  ,\n",
       "       42.29 , 32.04 , 42.55 , 21.78 , 61.07 , 24.85 , 28.63 , 30.39 ,\n",
       "       12.37 , 14.59 , 45.3  , 36.64 , 14.2  ,  8.54 , 23.52 , 30.85 ,\n",
       "       40.56 , 30.14 , 14.14 , 21.65 , 42.23 , 74.36 , 21.07 , 28.8  ,\n",
       "        7.68 , 37.43 , 38.46 , 53.72 , 35.31 , 32.63 , 77.3  , 32.76 ,\n",
       "       79.3  , 22.35 , 51.73 , 23.8  , 30.22 , 27.83 , 66.78 , 11.41 ,\n",
       "       37.91 , 14.14 ])"
      ]
     },
     "execution_count": 96,
     "metadata": {},
     "output_type": "execute_result"
    }
   ],
   "source": [
    "y_pred = dec_model.predict(x_test)\n",
    "y_pred"
   ]
  },
  {
   "cell_type": "code",
   "execution_count": 97,
   "id": "d1dd2c14",
   "metadata": {},
   "outputs": [
    {
     "data": {
      "text/plain": [
       "0.9954416123060688"
      ]
     },
     "execution_count": 97,
     "metadata": {},
     "output_type": "execute_result"
    }
   ],
   "source": [
    "dec_model.score(x_train, y_train)"
   ]
  },
  {
   "cell_type": "code",
   "execution_count": 98,
   "id": "07d18217",
   "metadata": {},
   "outputs": [
    {
     "data": {
      "text/plain": [
       "0.8220013316028548"
      ]
     },
     "execution_count": 98,
     "metadata": {},
     "output_type": "execute_result"
    }
   ],
   "source": [
    "dec_model.score(x_test, y_test)"
   ]
  },
  {
   "cell_type": "code",
   "execution_count": 99,
   "id": "cd96ad92",
   "metadata": {},
   "outputs": [
    {
     "data": {
      "application/javascript": [
       "\n",
       "        if (window._pyforest_update_imports_cell) { window._pyforest_update_imports_cell('import numpy as np\\nfrom sklearn.ensemble import GradientBoostingRegressor\\nimport seaborn as sns\\nfrom sklearn.ensemble import RandomForestRegressor\\nimport pandas as pd\\nfrom sklearn.model_selection import train_test_split\\nimport matplotlib.pyplot as plt'); }\n",
       "    "
      ],
      "text/plain": [
       "<IPython.core.display.Javascript object>"
      ]
     },
     "metadata": {},
     "output_type": "display_data"
    },
    {
     "data": {
      "text/html": [
       "<div>\n",
       "<style scoped>\n",
       "    .dataframe tbody tr th:only-of-type {\n",
       "        vertical-align: middle;\n",
       "    }\n",
       "\n",
       "    .dataframe tbody tr th {\n",
       "        vertical-align: top;\n",
       "    }\n",
       "\n",
       "    .dataframe thead th {\n",
       "        text-align: right;\n",
       "    }\n",
       "</style>\n",
       "<table border=\"1\" class=\"dataframe\">\n",
       "  <thead>\n",
       "    <tr style=\"text-align: right;\">\n",
       "      <th></th>\n",
       "      <th>Algorithm</th>\n",
       "      <th>Accuracy</th>\n",
       "    </tr>\n",
       "  </thead>\n",
       "  <tbody>\n",
       "    <tr>\n",
       "      <th>14</th>\n",
       "      <td>DecisionTree Regressor</td>\n",
       "      <td>0.822001</td>\n",
       "    </tr>\n",
       "  </tbody>\n",
       "</table>\n",
       "</div>"
      ],
      "text/plain": [
       "                 Algorithm  Accuracy\n",
       "14  DecisionTree Regressor  0.822001"
      ]
     },
     "execution_count": 99,
     "metadata": {},
     "output_type": "execute_result"
    }
   ],
   "source": [
    "accuracy = metrics.r2_score(y_test, y_pred)\n",
    "results = pd.DataFrame({'Algorithm': ['DecisionTree Regressor'],\n",
    "                      'Accuracy': accuracy}, index = {14})\n",
    "results = results[['Algorithm', 'Accuracy']]\n",
    "results"
   ]
  },
  {
   "cell_type": "code",
   "execution_count": 100,
   "id": "3c972a09",
   "metadata": {},
   "outputs": [
    {
     "data": {
      "application/javascript": [
       "\n",
       "        if (window._pyforest_update_imports_cell) { window._pyforest_update_imports_cell('import numpy as np\\nfrom sklearn.ensemble import GradientBoostingRegressor\\nimport seaborn as sns\\nfrom sklearn.ensemble import RandomForestRegressor\\nimport pandas as pd\\nfrom sklearn.model_selection import train_test_split\\nimport matplotlib.pyplot as plt'); }\n",
       "    "
      ],
      "text/plain": [
       "<IPython.core.display.Javascript object>"
      ]
     },
     "metadata": {},
     "output_type": "display_data"
    },
    {
     "data": {
      "application/javascript": [
       "\n",
       "        if (window._pyforest_update_imports_cell) { window._pyforest_update_imports_cell('import numpy as np\\nfrom sklearn.ensemble import GradientBoostingRegressor\\nimport seaborn as sns\\nfrom sklearn.ensemble import RandomForestRegressor\\nimport pandas as pd\\nfrom sklearn.model_selection import train_test_split\\nimport matplotlib.pyplot as plt'); }\n",
       "    "
      ],
      "text/plain": [
       "<IPython.core.display.Javascript object>"
      ]
     },
     "metadata": {},
     "output_type": "display_data"
    },
    {
     "data": {
      "application/javascript": [
       "\n",
       "        if (window._pyforest_update_imports_cell) { window._pyforest_update_imports_cell('import numpy as np\\nfrom sklearn.ensemble import GradientBoostingRegressor\\nimport seaborn as sns\\nfrom sklearn.ensemble import RandomForestRegressor\\nimport pandas as pd\\nfrom sklearn.model_selection import train_test_split\\nimport matplotlib.pyplot as plt'); }\n",
       "    "
      ],
      "text/plain": [
       "<IPython.core.display.Javascript object>"
      ]
     },
     "metadata": {},
     "output_type": "display_data"
    },
    {
     "data": {
      "text/html": [
       "<div>\n",
       "<style scoped>\n",
       "    .dataframe tbody tr th:only-of-type {\n",
       "        vertical-align: middle;\n",
       "    }\n",
       "\n",
       "    .dataframe tbody tr th {\n",
       "        vertical-align: top;\n",
       "    }\n",
       "\n",
       "    .dataframe thead th {\n",
       "        text-align: right;\n",
       "    }\n",
       "</style>\n",
       "<table border=\"1\" class=\"dataframe\">\n",
       "  <thead>\n",
       "    <tr style=\"text-align: right;\">\n",
       "      <th></th>\n",
       "      <th>Algorithm</th>\n",
       "      <th>Accuracy</th>\n",
       "    </tr>\n",
       "  </thead>\n",
       "  <tbody>\n",
       "    <tr>\n",
       "      <th>14</th>\n",
       "      <td>DecisionTree Regressor</td>\n",
       "      <td>0.822001</td>\n",
       "    </tr>\n",
       "    <tr>\n",
       "      <th>15</th>\n",
       "      <td>DecisionTree Regressor KFold</td>\n",
       "      <td>0.864506</td>\n",
       "    </tr>\n",
       "  </tbody>\n",
       "</table>\n",
       "</div>"
      ],
      "text/plain": [
       "                       Algorithm  Accuracy\n",
       "14        DecisionTree Regressor  0.822001\n",
       "15  DecisionTree Regressor KFold  0.864506"
      ]
     },
     "execution_count": 100,
     "metadata": {},
     "output_type": "execute_result"
    }
   ],
   "source": [
    "# KFold cross validation\n",
    "\n",
    "k = 20\n",
    "kfold = KFold(n_splits = k, random_state = 10, shuffle=True)\n",
    "k_result = cross_val_score(dec_model, X, y, cv = kfold)\n",
    "k_accuracy = np.mean(abs(k_result))\n",
    "#k_accuracy\n",
    "\n",
    "data = pd.DataFrame({'Algorithm': ['DecisionTree Regressor KFold'], \n",
    "                    'Accuracy': k_accuracy}, index = {15})\n",
    "\n",
    "results = pd.concat([results, data])\n",
    "results = results[['Algorithm', 'Accuracy']]\n",
    "results"
   ]
  },
  {
   "cell_type": "code",
   "execution_count": 101,
   "id": "7a7d11ec",
   "metadata": {},
   "outputs": [
    {
     "data": {
      "application/javascript": [
       "\n",
       "        if (window._pyforest_update_imports_cell) { window._pyforest_update_imports_cell('import numpy as np\\nfrom sklearn.ensemble import GradientBoostingRegressor\\nimport seaborn as sns\\nfrom sklearn.ensemble import RandomForestRegressor\\nimport pandas as pd\\nfrom sklearn.model_selection import train_test_split\\nimport matplotlib.pyplot as plt'); }\n",
       "    "
      ],
      "text/plain": [
       "<IPython.core.display.Javascript object>"
      ]
     },
     "metadata": {},
     "output_type": "display_data"
    }
   ],
   "source": [
    "results_df = pd.concat([results_df, results])"
   ]
  },
  {
   "cell_type": "markdown",
   "id": "61eca5a7",
   "metadata": {},
   "source": [
    "**Feature elimination**"
   ]
  },
  {
   "cell_type": "code",
   "execution_count": 102,
   "id": "dd8b08a2",
   "metadata": {},
   "outputs": [],
   "source": [
    "new_df = df.copy()"
   ]
  },
  {
   "cell_type": "code",
   "execution_count": 103,
   "id": "f11d2271",
   "metadata": {},
   "outputs": [],
   "source": [
    "X = new_df.drop(['strength', 'ash', 'superplasticizer', 'coarseagg', 'fineagg'], axis = 1)\n",
    "y = new_df['strength']"
   ]
  },
  {
   "cell_type": "code",
   "execution_count": 104,
   "id": "7af3e0fd",
   "metadata": {},
   "outputs": [
    {
     "data": {
      "application/javascript": [
       "\n",
       "        if (window._pyforest_update_imports_cell) { window._pyforest_update_imports_cell('import numpy as np\\nfrom sklearn.ensemble import GradientBoostingRegressor\\nimport seaborn as sns\\nfrom sklearn.ensemble import RandomForestRegressor\\nimport pandas as pd\\nfrom sklearn.model_selection import train_test_split\\nimport matplotlib.pyplot as plt'); }\n",
       "    "
      ],
      "text/plain": [
       "<IPython.core.display.Javascript object>"
      ]
     },
     "metadata": {},
     "output_type": "display_data"
    }
   ],
   "source": [
    "x_train, x_test, y_train, y_test = train_test_split(X, y, test_size = 0.25, random_state = 25)"
   ]
  },
  {
   "cell_type": "code",
   "execution_count": 105,
   "id": "c80a821a",
   "metadata": {},
   "outputs": [],
   "source": [
    "x_train = x_train.apply(zscore)\n",
    "x_test = x_test.apply(zscore)"
   ]
  },
  {
   "cell_type": "code",
   "execution_count": 106,
   "id": "e05c4b9a",
   "metadata": {},
   "outputs": [
    {
     "data": {
      "text/plain": [
       "DecisionTreeRegressor()"
      ]
     },
     "execution_count": 106,
     "metadata": {},
     "output_type": "execute_result"
    }
   ],
   "source": [
    "new_dec_model = DecisionTreeRegressor()\n",
    "new_dec_model.fit(x_train, y_train)"
   ]
  },
  {
   "cell_type": "code",
   "execution_count": 107,
   "id": "ae60e338",
   "metadata": {},
   "outputs": [
    {
     "data": {
      "text/plain": [
       "array([21.26      , 36.15      , 64.02      , 13.2       , 41.54      ,\n",
       "        7.32      , 21.92      , 40.93      , 64.02      , 48.4       ,\n",
       "       30.85      , 37.27      , 29.23      , 22.84      , 21.06      ,\n",
       "       25.1       , 52.91      , 65.2       , 45.94      , 33.4       ,\n",
       "       15.30333333, 61.215     , 74.7       , 41.05      , 25.69      ,\n",
       "       19.77      , 29.23      , 33.05      , 54.9       , 27.74      ,\n",
       "       11.39      , 17.96      , 22.49      ,  7.68      , 15.57      ,\n",
       "       63.14      , 67.31      , 15.58      , 21.75      , 20.73      ,\n",
       "       38.56      , 44.64      , 19.69      , 23.69      , 59.89      ,\n",
       "       40.93      , 23.51      , 38.46      , 23.69      , 23.69      ,\n",
       "       19.99      , 39.        , 61.215     , 33.76      , 41.3       ,\n",
       "       39.58      , 18.02      , 44.86      , 33.05      , 18.02      ,\n",
       "       19.35      , 27.04      , 10.03      , 21.91      , 20.28      ,\n",
       "       57.21      , 28.99      ,  9.45      , 48.99      , 11.36      ,\n",
       "       53.58      , 33.12      , 36.45      , 51.06      , 15.75      ,\n",
       "       33.27      , 12.64      , 59.8       , 44.33      , 32.07      ,\n",
       "       54.9       , 37.27      , 52.45      , 37.92      , 28.8       ,\n",
       "       71.62      , 13.09      , 33.73      , 44.61      , 32.72      ,\n",
       "       25.75      , 60.29      , 12.54      , 50.46      , 53.52      ,\n",
       "       27.63      , 51.06      , 57.21      , 30.45      , 37.96      ,\n",
       "       59.59      , 44.21      , 40.87      , 12.54      , 33.73      ,\n",
       "       79.3       , 37.43      , 33.01      , 67.31      , 33.56      ,\n",
       "       79.99      , 37.92      , 25.62      , 12.18      , 36.35      ,\n",
       "       11.17      , 69.84      ,  8.54      , 15.52      , 65.2       ,\n",
       "       27.04      , 46.8       , 21.86      , 36.94      , 33.76      ,\n",
       "       31.18      ,  2.33      , 34.9       , 19.69      , 34.56      ,\n",
       "       12.47      , 40.76      , 44.64      , 21.26      , 34.56      ,\n",
       "       33.4       , 54.9       , 43.7       , 36.44      , 38.77      ,\n",
       "        8.49      , 27.42      , 33.01      , 42.29      , 24.05      ,\n",
       "       36.96      , 23.69      , 26.23      , 10.35      , 12.64      ,\n",
       "       41.54      , 35.87      , 79.99      , 49.2       , 30.14      ,\n",
       "       37.27      , 41.54      , 33.27      , 73.7       , 31.18      ,\n",
       "       14.54      , 33.12      , 47.03      , 23.8       , 55.64      ,\n",
       "       57.48666667, 69.84      , 33.05      , 11.36      , 21.75      ,\n",
       "       21.95      , 33.56      , 38.2       , 15.44      , 32.77      ,\n",
       "       24.13      , 23.52      , 31.81      , 61.23      , 21.48      ,\n",
       "       39.59      , 56.85      , 59.89      , 31.72      , 29.59      ,\n",
       "       18.02      , 17.95      , 36.96      , 40.06      , 21.06      ,\n",
       "       23.22      , 25.75      , 39.09      , 37.27      , 34.57      ,\n",
       "       22.49      , 28.47      , 53.66      , 18.2       , 12.37      ,\n",
       "       49.2       , 18.75      , 12.25      , 18.2       , 41.54      ,\n",
       "       33.4       , 51.06      , 44.61      , 44.61      , 40.87      ,\n",
       "       49.8       , 32.33      , 32.05      , 36.94      , 39.58      ,\n",
       "       25.57      , 41.54      , 48.82      , 45.3       , 71.7       ,\n",
       "       37.57      , 12.64      , 23.69      , 37.96      , 34.4       ,\n",
       "       19.99      , 60.29      , 45.3       , 19.99      , 39.36      ,\n",
       "       65.7       , 71.3       , 69.84      , 30.08      , 47.22      ,\n",
       "       20.73      , 36.8       , 33.42      , 37.17      , 48.82      ,\n",
       "       39.58      , 39.42      , 34.9       , 39.38      , 82.6       ,\n",
       "       51.96      , 72.3       , 72.99      , 77.3       , 59.8       ,\n",
       "       57.23      , 39.61      ,  2.33      , 46.39      , 24.28      ,\n",
       "        8.54      , 27.23      , 33.27      ])"
      ]
     },
     "execution_count": 107,
     "metadata": {},
     "output_type": "execute_result"
    }
   ],
   "source": [
    "y_pred = new_dec_model.predict(x_test)\n",
    "y_pred"
   ]
  },
  {
   "cell_type": "code",
   "execution_count": 108,
   "id": "f661eaeb",
   "metadata": {},
   "outputs": [
    {
     "data": {
      "text/plain": [
       "0.9938787026138576"
      ]
     },
     "execution_count": 108,
     "metadata": {},
     "output_type": "execute_result"
    }
   ],
   "source": [
    "new_dec_model.score(x_train, y_train)"
   ]
  },
  {
   "cell_type": "code",
   "execution_count": 109,
   "id": "23fde52b",
   "metadata": {},
   "outputs": [
    {
     "data": {
      "text/plain": [
       "0.6934053416457788"
      ]
     },
     "execution_count": 109,
     "metadata": {},
     "output_type": "execute_result"
    }
   ],
   "source": [
    "new_dec_model.score(x_test, y_test)"
   ]
  },
  {
   "cell_type": "code",
   "execution_count": 110,
   "id": "4b4b6b83",
   "metadata": {},
   "outputs": [
    {
     "data": {
      "application/javascript": [
       "\n",
       "        if (window._pyforest_update_imports_cell) { window._pyforest_update_imports_cell('import numpy as np\\nfrom sklearn.ensemble import GradientBoostingRegressor\\nimport seaborn as sns\\nfrom sklearn.ensemble import RandomForestRegressor\\nimport pandas as pd\\nfrom sklearn.model_selection import train_test_split\\nimport matplotlib.pyplot as plt'); }\n",
       "    "
      ],
      "text/plain": [
       "<IPython.core.display.Javascript object>"
      ]
     },
     "metadata": {},
     "output_type": "display_data"
    },
    {
     "data": {
      "text/html": [
       "<div>\n",
       "<style scoped>\n",
       "    .dataframe tbody tr th:only-of-type {\n",
       "        vertical-align: middle;\n",
       "    }\n",
       "\n",
       "    .dataframe tbody tr th {\n",
       "        vertical-align: top;\n",
       "    }\n",
       "\n",
       "    .dataframe thead th {\n",
       "        text-align: right;\n",
       "    }\n",
       "</style>\n",
       "<table border=\"1\" class=\"dataframe\">\n",
       "  <thead>\n",
       "    <tr style=\"text-align: right;\">\n",
       "      <th></th>\n",
       "      <th>Algorithm</th>\n",
       "      <th>Accuracy</th>\n",
       "    </tr>\n",
       "  </thead>\n",
       "  <tbody>\n",
       "    <tr>\n",
       "      <th>16</th>\n",
       "      <td>new DecisionTree Regressor</td>\n",
       "      <td>0.693405</td>\n",
       "    </tr>\n",
       "  </tbody>\n",
       "</table>\n",
       "</div>"
      ],
      "text/plain": [
       "                     Algorithm  Accuracy\n",
       "16  new DecisionTree Regressor  0.693405"
      ]
     },
     "execution_count": 110,
     "metadata": {},
     "output_type": "execute_result"
    }
   ],
   "source": [
    "accuracy = metrics.r2_score(y_test, y_pred)\n",
    "results = pd.DataFrame({'Algorithm': ['new DecisionTree Regressor'],\n",
    "                      'Accuracy': accuracy}, index = {16})\n",
    "results = results[['Algorithm', 'Accuracy']]\n",
    "results"
   ]
  },
  {
   "cell_type": "code",
   "execution_count": 111,
   "id": "44f209c8",
   "metadata": {
    "scrolled": true
   },
   "outputs": [
    {
     "data": {
      "application/javascript": [
       "\n",
       "        if (window._pyforest_update_imports_cell) { window._pyforest_update_imports_cell('import numpy as np\\nfrom sklearn.ensemble import GradientBoostingRegressor\\nimport seaborn as sns\\nfrom sklearn.ensemble import RandomForestRegressor\\nimport pandas as pd\\nfrom sklearn.model_selection import train_test_split\\nimport matplotlib.pyplot as plt'); }\n",
       "    "
      ],
      "text/plain": [
       "<IPython.core.display.Javascript object>"
      ]
     },
     "metadata": {},
     "output_type": "display_data"
    },
    {
     "data": {
      "application/javascript": [
       "\n",
       "        if (window._pyforest_update_imports_cell) { window._pyforest_update_imports_cell('import numpy as np\\nfrom sklearn.ensemble import GradientBoostingRegressor\\nimport seaborn as sns\\nfrom sklearn.ensemble import RandomForestRegressor\\nimport pandas as pd\\nfrom sklearn.model_selection import train_test_split\\nimport matplotlib.pyplot as plt'); }\n",
       "    "
      ],
      "text/plain": [
       "<IPython.core.display.Javascript object>"
      ]
     },
     "metadata": {},
     "output_type": "display_data"
    },
    {
     "data": {
      "application/javascript": [
       "\n",
       "        if (window._pyforest_update_imports_cell) { window._pyforest_update_imports_cell('import numpy as np\\nfrom sklearn.ensemble import GradientBoostingRegressor\\nimport seaborn as sns\\nfrom sklearn.ensemble import RandomForestRegressor\\nimport pandas as pd\\nfrom sklearn.model_selection import train_test_split\\nimport matplotlib.pyplot as plt'); }\n",
       "    "
      ],
      "text/plain": [
       "<IPython.core.display.Javascript object>"
      ]
     },
     "metadata": {},
     "output_type": "display_data"
    },
    {
     "data": {
      "text/html": [
       "<div>\n",
       "<style scoped>\n",
       "    .dataframe tbody tr th:only-of-type {\n",
       "        vertical-align: middle;\n",
       "    }\n",
       "\n",
       "    .dataframe tbody tr th {\n",
       "        vertical-align: top;\n",
       "    }\n",
       "\n",
       "    .dataframe thead th {\n",
       "        text-align: right;\n",
       "    }\n",
       "</style>\n",
       "<table border=\"1\" class=\"dataframe\">\n",
       "  <thead>\n",
       "    <tr style=\"text-align: right;\">\n",
       "      <th></th>\n",
       "      <th>Algorithm</th>\n",
       "      <th>Accuracy</th>\n",
       "    </tr>\n",
       "  </thead>\n",
       "  <tbody>\n",
       "    <tr>\n",
       "      <th>16</th>\n",
       "      <td>new DecisionTree Regressor</td>\n",
       "      <td>0.693405</td>\n",
       "    </tr>\n",
       "    <tr>\n",
       "      <th>17</th>\n",
       "      <td>new DecisionTree Regressor KFold</td>\n",
       "      <td>0.858617</td>\n",
       "    </tr>\n",
       "  </tbody>\n",
       "</table>\n",
       "</div>"
      ],
      "text/plain": [
       "                           Algorithm  Accuracy\n",
       "16        new DecisionTree Regressor  0.693405\n",
       "17  new DecisionTree Regressor KFold  0.858617"
      ]
     },
     "execution_count": 111,
     "metadata": {},
     "output_type": "execute_result"
    }
   ],
   "source": [
    "# KFold cross validation\n",
    "\n",
    "k = 20\n",
    "kfold = KFold(n_splits = k, random_state = 10, shuffle=True)\n",
    "k_result = cross_val_score(new_dec_model, X, y, cv = kfold)\n",
    "k_accuracy = np.mean(abs(k_result))\n",
    "#k_accuracy\n",
    "\n",
    "data = pd.DataFrame({'Algorithm': ['new DecisionTree Regressor KFold'], \n",
    "                    'Accuracy': k_accuracy}, index = {17})\n",
    "\n",
    "results = pd.concat([results, data])\n",
    "results = results[['Algorithm', 'Accuracy']]\n",
    "results"
   ]
  },
  {
   "cell_type": "code",
   "execution_count": 112,
   "id": "b94ad8da",
   "metadata": {},
   "outputs": [
    {
     "data": {
      "application/javascript": [
       "\n",
       "        if (window._pyforest_update_imports_cell) { window._pyforest_update_imports_cell('import numpy as np\\nfrom sklearn.ensemble import GradientBoostingRegressor\\nimport seaborn as sns\\nfrom sklearn.ensemble import RandomForestRegressor\\nimport pandas as pd\\nfrom sklearn.model_selection import train_test_split\\nimport matplotlib.pyplot as plt'); }\n",
       "    "
      ],
      "text/plain": [
       "<IPython.core.display.Javascript object>"
      ]
     },
     "metadata": {},
     "output_type": "display_data"
    }
   ],
   "source": [
    "results_df = pd.concat([results_df, results])"
   ]
  },
  {
   "cell_type": "code",
   "execution_count": 113,
   "id": "53b652a1",
   "metadata": {},
   "outputs": [],
   "source": [
    "X = df.drop('strength', axis =1)\n",
    "y = df['strength']"
   ]
  },
  {
   "cell_type": "code",
   "execution_count": 114,
   "id": "a9f5c3b9",
   "metadata": {},
   "outputs": [
    {
     "data": {
      "application/javascript": [
       "\n",
       "        if (window._pyforest_update_imports_cell) { window._pyforest_update_imports_cell('import numpy as np\\nfrom sklearn.ensemble import GradientBoostingRegressor\\nimport seaborn as sns\\nfrom sklearn.ensemble import RandomForestRegressor\\nimport pandas as pd\\nfrom sklearn.model_selection import train_test_split\\nimport matplotlib.pyplot as plt'); }\n",
       "    "
      ],
      "text/plain": [
       "<IPython.core.display.Javascript object>"
      ]
     },
     "metadata": {},
     "output_type": "display_data"
    }
   ],
   "source": [
    "x_scaled = X.apply(zscore)\n",
    "x_scaled_df = pd.DataFrame(x_scaled, columns = df.columns)"
   ]
  },
  {
   "cell_type": "code",
   "execution_count": 115,
   "id": "e9ca0558",
   "metadata": {},
   "outputs": [
    {
     "data": {
      "application/javascript": [
       "\n",
       "        if (window._pyforest_update_imports_cell) { window._pyforest_update_imports_cell('import numpy as np\\nfrom sklearn.ensemble import GradientBoostingRegressor\\nimport seaborn as sns\\nfrom sklearn.ensemble import RandomForestRegressor\\nimport pandas as pd\\nfrom sklearn.model_selection import train_test_split\\nimport matplotlib.pyplot as plt'); }\n",
       "    "
      ],
      "text/plain": [
       "<IPython.core.display.Javascript object>"
      ]
     },
     "metadata": {},
     "output_type": "display_data"
    }
   ],
   "source": [
    "x_train, x_test, y_train, y_test = train_test_split(X, y, test_size = 0.25, random_state = 20)"
   ]
  },
  {
   "cell_type": "code",
   "execution_count": 116,
   "id": "a1441cc7",
   "metadata": {},
   "outputs": [
    {
     "data": {
      "text/plain": [
       "DecisionTreeRegressor(max_depth=4, min_samples_leaf=5, random_state=1)"
      ]
     },
     "execution_count": 116,
     "metadata": {},
     "output_type": "execute_result"
    }
   ],
   "source": [
    "dec_prun_model = DecisionTreeRegressor(max_depth = 4, random_state = 1, min_samples_leaf = 5)\n",
    "dec_prun_model.fit(x_train, y_train)"
   ]
  },
  {
   "cell_type": "code",
   "execution_count": 117,
   "id": "786126ee",
   "metadata": {},
   "outputs": [
    {
     "data": {
      "application/javascript": [
       "\n",
       "        if (window._pyforest_update_imports_cell) { window._pyforest_update_imports_cell('import numpy as np\\nfrom sklearn.ensemble import GradientBoostingRegressor\\nimport seaborn as sns\\nfrom sklearn.ensemble import RandomForestRegressor\\nimport pandas as pd\\nfrom sklearn.model_selection import train_test_split\\nimport matplotlib.pyplot as plt'); }\n",
       "    "
      ],
      "text/plain": [
       "<IPython.core.display.Javascript object>"
      ]
     },
     "metadata": {},
     "output_type": "display_data"
    },
    {
     "name": "stdout",
     "output_type": "stream",
     "text": [
      "Feature importances : \n",
      "                   Importance\n",
      "cement              0.421611\n",
      "slag                0.101419\n",
      "ash                 0.000000\n",
      "water               0.067462\n",
      "superplasticizer    0.023748\n",
      "coarseagg           0.000000\n",
      "fineagg             0.000000\n",
      "age                 0.385760\n"
     ]
    }
   ],
   "source": [
    "print('Feature importances : \\n', pd.DataFrame(dec_prun_model.feature_importances_, columns = ['Importance'], index = x_train.columns))"
   ]
  },
  {
   "cell_type": "code",
   "execution_count": 118,
   "id": "356518a7",
   "metadata": {},
   "outputs": [
    {
     "name": "stdout",
     "output_type": "stream",
     "text": [
      "Requirement already satisfied: graphviz in c:\\users\\abhis\\appdata\\local\\programs\\python\\python39\\lib\\site-packages (0.16)"
     ]
    },
    {
     "name": "stderr",
     "output_type": "stream",
     "text": [
      "WARNING: You are using pip version 21.1.1; however, version 21.1.2 is available.\n",
      "You should consider upgrading via the 'c:\\users\\abhis\\appdata\\local\\programs\\python\\python39\\python.exe -m pip install --upgrade pip' command.\n"
     ]
    },
    {
     "name": "stdout",
     "output_type": "stream",
     "text": [
      "\n"
     ]
    }
   ],
   "source": [
    "#! pip install graphviz"
   ]
  },
  {
   "cell_type": "code",
   "execution_count": 119,
   "id": "1aec659a",
   "metadata": {},
   "outputs": [
    {
     "name": "stderr",
     "output_type": "stream",
     "text": [
      "WARNING: You are using pip version 21.1.1; however, version 21.1.2 is available.\n",
      "You should consider upgrading via the 'c:\\users\\abhis\\appdata\\local\\programs\\python\\python39\\python.exe -m pip install --upgrade pip' command.\n"
     ]
    },
    {
     "name": "stdout",
     "output_type": "stream",
     "text": [
      "Requirement already satisfied: pydot in c:\\users\\abhis\\appdata\\local\\programs\\python\\python39\\lib\\site-packages (1.4.2)\n",
      "Requirement already satisfied: pyparsing>=2.1.4 in c:\\users\\abhis\\appdata\\local\\programs\\python\\python39\\lib\\site-packages (from pydot) (2.4.7)\n"
     ]
    }
   ],
   "source": [
    "#! pip install pydot"
   ]
  },
  {
   "cell_type": "code",
   "execution_count": 120,
   "id": "7cbf2c08",
   "metadata": {},
   "outputs": [],
   "source": [
    "from sklearn.tree import export_graphviz\n",
    "from six import StringIO\n",
    "from IPython.display import Image\n",
    "import graphviz\n",
    "import pydot"
   ]
  },
  {
   "cell_type": "code",
   "execution_count": 121,
   "id": "7d0b9204",
   "metadata": {},
   "outputs": [
    {
     "data": {
      "text/plain": [
       "Index(['cement', 'slag', 'ash', 'water', 'superplasticizer', 'coarseagg',\n",
       "       'fineagg', 'age'],\n",
       "      dtype='object')"
      ]
     },
     "execution_count": 121,
     "metadata": {},
     "output_type": "execute_result"
    }
   ],
   "source": [
    "x_scaled_df = x_scaled_df.drop('strength', axis = 1)\n",
    "feature_cols = x_scaled_df.columns\n",
    "feature_cols"
   ]
  },
  {
   "cell_type": "code",
   "execution_count": 122,
   "id": "8f226f45",
   "metadata": {},
   "outputs": [
    {
     "data": {
      "image/png": "[encoded data removed]",
      "text/plain": [
       "<IPython.core.display.Image object>"
      ]
     },
     "execution_count": 122,
     "metadata": {},
     "output_type": "execute_result"
    }
   ],
   "source": [
    "dot_data = StringIO()  \n",
    "export_graphviz(dec_prun_model, \n",
    "                out_file = dot_data, filled = True, \n",
    "                rounded = True, special_characters = True, \n",
    "                feature_names = feature_cols, \n",
    "                class_names = ['0', '1'])\n",
    "#(graph, ) = pydot.graph_from_dot_data(dot_data.getvalue())\n",
    "graph, = pydot.graph_from_dot_data(dot_data.getvalue())  \n",
    "graph.write_png('Concrete_pruned.png')\n",
    "Image(graph.create_png()) "
   ]
  },
  {
   "cell_type": "code",
   "execution_count": 123,
   "id": "c94d0ab9",
   "metadata": {},
   "outputs": [
    {
     "data": {
      "text/plain": [
       "array([14.02560748, 15.31833333, 14.02560748, 25.53405405, 46.12738255,\n",
       "       34.96282209, 14.02560748, 46.12738255, 14.02560748, 46.12738255,\n",
       "       34.96282209, 52.69764706, 46.12738255, 34.96282209, 34.96282209,\n",
       "       61.88472727, 30.71056338, 34.96282209, 19.98      , 46.12738255,\n",
       "       52.69764706, 61.88472727, 52.69764706, 34.96282209, 14.02560748,\n",
       "       30.71056338, 34.96282209, 34.96282209, 46.12738255, 14.02560748,\n",
       "       61.88472727, 31.42333333, 30.71056338, 42.91      , 61.88472727,\n",
       "       46.12738255, 30.71056338, 15.31833333, 30.71056338, 34.96282209,\n",
       "       30.71056338, 34.96282209, 52.69764706, 14.02560748, 30.71056338,\n",
       "       46.2892    , 34.96282209, 19.98      , 14.02560748, 19.98      ,\n",
       "       30.71056338, 61.88472727, 34.96282209, 31.42333333, 14.02560748,\n",
       "       14.02560748, 30.71056338, 30.71056338, 34.96282209, 34.96282209,\n",
       "       46.12738255, 61.88472727, 34.96282209, 46.12738255, 61.88472727,\n",
       "       30.71056338, 25.53405405, 34.96282209, 46.12738255, 61.88472727,\n",
       "       14.02560748, 15.31833333, 34.96282209, 30.71056338, 14.02560748,\n",
       "       46.12738255, 42.91      , 46.12738255, 19.98      , 34.96282209,\n",
       "       34.96282209, 25.53405405, 34.96282209, 34.96282209, 34.96282209,\n",
       "       34.96282209, 46.12738255, 14.02560748, 46.12738255, 34.96282209,\n",
       "       46.2892    , 15.31833333, 34.96282209, 15.31833333, 34.96282209,\n",
       "       14.02560748, 34.96282209, 61.88472727, 46.12738255, 61.88472727,\n",
       "       46.12738255, 42.91      , 46.12738255, 15.31833333, 61.88472727,\n",
       "       46.12738255, 42.91      , 52.69764706, 38.34      , 14.02560748,\n",
       "       34.96282209, 75.01538462, 61.88472727, 30.71056338, 14.02560748,\n",
       "       46.2892    , 30.71056338, 14.02560748, 25.53405405, 61.88472727,\n",
       "       61.88472727, 61.88472727, 46.12738255, 34.96282209, 42.91      ,\n",
       "       14.02560748, 46.12738255, 42.91      , 46.2892    , 14.02560748,\n",
       "       31.42333333, 61.88472727, 14.02560748, 46.12738255, 61.88472727,\n",
       "       34.96282209, 34.96282209, 23.18576923, 61.88472727, 38.34      ,\n",
       "       14.02560748, 14.02560748, 46.12738255, 46.12738255, 34.96282209,\n",
       "       25.53405405, 34.96282209, 23.18576923, 34.96282209, 52.69764706,\n",
       "       15.31833333, 34.96282209, 14.02560748, 32.45153846, 34.96282209,\n",
       "       34.96282209, 61.88472727, 46.12738255, 30.71056338, 34.96282209,\n",
       "       14.02560748, 52.69764706, 46.12738255, 14.02560748, 30.71056338,\n",
       "       14.02560748, 34.96282209, 61.88472727, 30.71056338, 14.02560748,\n",
       "       46.12738255, 34.96282209, 46.12738255, 46.12738255, 75.01538462,\n",
       "       23.18576923, 34.96282209, 15.31833333, 61.88472727, 34.96282209,\n",
       "       52.69764706, 19.98      , 25.53405405, 52.69764706, 46.12738255,\n",
       "       14.02560748, 23.18576923, 75.01538462, 34.96282209, 34.96282209,\n",
       "       46.12738255, 52.69764706, 30.71056338, 42.91      , 34.96282209,\n",
       "       34.96282209, 14.02560748, 30.71056338, 31.42333333, 42.91      ,\n",
       "       25.53405405, 46.12738255, 34.96282209, 23.18576923, 34.96282209,\n",
       "       34.96282209, 32.45153846, 61.88472727, 46.12738255, 46.12738255,\n",
       "       46.12738255, 46.12738255, 46.12738255, 23.18576923, 25.53405405,\n",
       "       34.96282209, 34.96282209, 46.12738255, 46.12738255, 46.12738255,\n",
       "       75.01538462, 75.01538462, 14.02560748, 34.96282209, 46.12738255,\n",
       "       34.96282209, 34.96282209, 25.53405405, 15.31833333, 14.02560748,\n",
       "       46.12738255, 30.71056338, 34.96282209, 34.96282209, 31.42333333,\n",
       "       46.12738255, 25.53405405, 46.12738255, 61.88472727, 46.12738255,\n",
       "       34.96282209, 34.96282209, 34.96282209, 46.12738255, 46.12738255,\n",
       "       52.69764706, 30.71056338, 46.12738255, 46.2892    , 30.71056338,\n",
       "       14.02560748, 14.02560748, 14.02560748, 34.96282209, 19.98      ,\n",
       "       46.12738255, 34.96282209, 61.88472727])"
      ]
     },
     "execution_count": 123,
     "metadata": {},
     "output_type": "execute_result"
    }
   ],
   "source": [
    "y_pred = dec_prun_model.predict(x_test)\n",
    "y_pred"
   ]
  },
  {
   "cell_type": "code",
   "execution_count": 124,
   "id": "c78c7a73",
   "metadata": {},
   "outputs": [
    {
     "data": {
      "text/plain": [
       "0.7296318382811564"
      ]
     },
     "execution_count": 124,
     "metadata": {},
     "output_type": "execute_result"
    }
   ],
   "source": [
    "dec_prun_model.score(x_train, y_train)"
   ]
  },
  {
   "cell_type": "code",
   "execution_count": 125,
   "id": "f62edee4",
   "metadata": {},
   "outputs": [
    {
     "data": {
      "text/plain": [
       "0.6608111562223243"
      ]
     },
     "execution_count": 125,
     "metadata": {},
     "output_type": "execute_result"
    }
   ],
   "source": [
    "dec_prun_model.score(x_test, y_test)"
   ]
  },
  {
   "cell_type": "code",
   "execution_count": 126,
   "id": "b902d965",
   "metadata": {},
   "outputs": [
    {
     "data": {
      "text/plain": [
       "0.6608111562223243"
      ]
     },
     "execution_count": 126,
     "metadata": {},
     "output_type": "execute_result"
    }
   ],
   "source": [
    "dec_prun_acc  = metrics.r2_score(y_test, y_pred)\n",
    "dec_prun_acc"
   ]
  },
  {
   "cell_type": "code",
   "execution_count": 127,
   "id": "93690b99",
   "metadata": {},
   "outputs": [
    {
     "data": {
      "text/plain": [
       "97.40737519209208"
      ]
     },
     "execution_count": 127,
     "metadata": {},
     "output_type": "execute_result"
    }
   ],
   "source": [
    "metrics.mean_squared_error(y_test, y_pred)"
   ]
  },
  {
   "cell_type": "code",
   "execution_count": 128,
   "id": "6dc9546d",
   "metadata": {},
   "outputs": [
    {
     "data": {
      "application/javascript": [
       "\n",
       "        if (window._pyforest_update_imports_cell) { window._pyforest_update_imports_cell('import numpy as np\\nfrom sklearn.ensemble import GradientBoostingRegressor\\nimport seaborn as sns\\nfrom sklearn.ensemble import RandomForestRegressor\\nimport pandas as pd\\nfrom sklearn.model_selection import train_test_split\\nimport matplotlib.pyplot as plt'); }\n",
       "    "
      ],
      "text/plain": [
       "<IPython.core.display.Javascript object>"
      ]
     },
     "metadata": {},
     "output_type": "display_data"
    },
    {
     "data": {
      "application/javascript": [
       "\n",
       "        if (window._pyforest_update_imports_cell) { window._pyforest_update_imports_cell('import numpy as np\\nfrom sklearn.ensemble import GradientBoostingRegressor\\nimport seaborn as sns\\nfrom sklearn.ensemble import RandomForestRegressor\\nimport pandas as pd\\nfrom sklearn.model_selection import train_test_split\\nimport matplotlib.pyplot as plt'); }\n",
       "    "
      ],
      "text/plain": [
       "<IPython.core.display.Javascript object>"
      ]
     },
     "metadata": {},
     "output_type": "display_data"
    },
    {
     "data": {
      "text/html": [
       "<div>\n",
       "<style scoped>\n",
       "    .dataframe tbody tr th:only-of-type {\n",
       "        vertical-align: middle;\n",
       "    }\n",
       "\n",
       "    .dataframe tbody tr th {\n",
       "        vertical-align: top;\n",
       "    }\n",
       "\n",
       "    .dataframe thead th {\n",
       "        text-align: right;\n",
       "    }\n",
       "</style>\n",
       "<table border=\"1\" class=\"dataframe\">\n",
       "  <thead>\n",
       "    <tr style=\"text-align: right;\">\n",
       "      <th></th>\n",
       "      <th>Algorithm</th>\n",
       "      <th>Accuracy</th>\n",
       "    </tr>\n",
       "  </thead>\n",
       "  <tbody>\n",
       "    <tr>\n",
       "      <th>16</th>\n",
       "      <td>new DecisionTree Regressor</td>\n",
       "      <td>0.693405</td>\n",
       "    </tr>\n",
       "    <tr>\n",
       "      <th>17</th>\n",
       "      <td>new DecisionTree Regressor KFold</td>\n",
       "      <td>0.858617</td>\n",
       "    </tr>\n",
       "    <tr>\n",
       "      <th>18</th>\n",
       "      <td>pruned decision tree</td>\n",
       "      <td>0.660811</td>\n",
       "    </tr>\n",
       "  </tbody>\n",
       "</table>\n",
       "</div>"
      ],
      "text/plain": [
       "                           Algorithm  Accuracy\n",
       "16        new DecisionTree Regressor  0.693405\n",
       "17  new DecisionTree Regressor KFold  0.858617\n",
       "18              pruned decision tree  0.660811"
      ]
     },
     "execution_count": 128,
     "metadata": {},
     "output_type": "execute_result"
    }
   ],
   "source": [
    "dec_df = pd.DataFrame({'Algorithm': ['pruned decision tree'], 'Accuracy': dec_prun_acc}, index = {18})\n",
    "\n",
    "results = pd.concat([results, dec_df])\n",
    "results = results[['Algorithm', 'Accuracy']]\n",
    "results"
   ]
  },
  {
   "cell_type": "code",
   "execution_count": 129,
   "id": "42d55ff1",
   "metadata": {},
   "outputs": [
    {
     "data": {
      "application/javascript": [
       "\n",
       "        if (window._pyforest_update_imports_cell) { window._pyforest_update_imports_cell('import numpy as np\\nfrom sklearn.ensemble import GradientBoostingRegressor\\nimport seaborn as sns\\nfrom sklearn.ensemble import RandomForestRegressor\\nimport pandas as pd\\nfrom sklearn.model_selection import train_test_split\\nimport matplotlib.pyplot as plt'); }\n",
       "    "
      ],
      "text/plain": [
       "<IPython.core.display.Javascript object>"
      ]
     },
     "metadata": {},
     "output_type": "display_data"
    },
    {
     "data": {
      "application/javascript": [
       "\n",
       "        if (window._pyforest_update_imports_cell) { window._pyforest_update_imports_cell('import numpy as np\\nfrom sklearn.ensemble import GradientBoostingRegressor\\nimport seaborn as sns\\nfrom sklearn.ensemble import RandomForestRegressor\\nimport pandas as pd\\nfrom sklearn.model_selection import train_test_split\\nimport matplotlib.pyplot as plt'); }\n",
       "    "
      ],
      "text/plain": [
       "<IPython.core.display.Javascript object>"
      ]
     },
     "metadata": {},
     "output_type": "display_data"
    },
    {
     "data": {
      "application/javascript": [
       "\n",
       "        if (window._pyforest_update_imports_cell) { window._pyforest_update_imports_cell('import numpy as np\\nfrom sklearn.ensemble import GradientBoostingRegressor\\nimport seaborn as sns\\nfrom sklearn.ensemble import RandomForestRegressor\\nimport pandas as pd\\nfrom sklearn.model_selection import train_test_split\\nimport matplotlib.pyplot as plt'); }\n",
       "    "
      ],
      "text/plain": [
       "<IPython.core.display.Javascript object>"
      ]
     },
     "metadata": {},
     "output_type": "display_data"
    },
    {
     "data": {
      "text/html": [
       "<div>\n",
       "<style scoped>\n",
       "    .dataframe tbody tr th:only-of-type {\n",
       "        vertical-align: middle;\n",
       "    }\n",
       "\n",
       "    .dataframe tbody tr th {\n",
       "        vertical-align: top;\n",
       "    }\n",
       "\n",
       "    .dataframe thead th {\n",
       "        text-align: right;\n",
       "    }\n",
       "</style>\n",
       "<table border=\"1\" class=\"dataframe\">\n",
       "  <thead>\n",
       "    <tr style=\"text-align: right;\">\n",
       "      <th></th>\n",
       "      <th>Algorithm</th>\n",
       "      <th>Accuracy</th>\n",
       "    </tr>\n",
       "  </thead>\n",
       "  <tbody>\n",
       "    <tr>\n",
       "      <th>16</th>\n",
       "      <td>new DecisionTree Regressor</td>\n",
       "      <td>0.693405</td>\n",
       "    </tr>\n",
       "    <tr>\n",
       "      <th>17</th>\n",
       "      <td>new DecisionTree Regressor KFold</td>\n",
       "      <td>0.858617</td>\n",
       "    </tr>\n",
       "    <tr>\n",
       "      <th>18</th>\n",
       "      <td>pruned decision tree</td>\n",
       "      <td>0.660811</td>\n",
       "    </tr>\n",
       "    <tr>\n",
       "      <th>19</th>\n",
       "      <td>pruned decision tree KFold</td>\n",
       "      <td>0.663904</td>\n",
       "    </tr>\n",
       "  </tbody>\n",
       "</table>\n",
       "</div>"
      ],
      "text/plain": [
       "                           Algorithm  Accuracy\n",
       "16        new DecisionTree Regressor  0.693405\n",
       "17  new DecisionTree Regressor KFold  0.858617\n",
       "18              pruned decision tree  0.660811\n",
       "19        pruned decision tree KFold  0.663904"
      ]
     },
     "execution_count": 129,
     "metadata": {},
     "output_type": "execute_result"
    }
   ],
   "source": [
    "# KFold cross validation\n",
    "\n",
    "k = 20\n",
    "kfold = KFold(n_splits = k, random_state = 10, shuffle=True)\n",
    "k_result = cross_val_score(dec_prun_model, X, y, cv = kfold)\n",
    "k_accuracy = np.mean(abs(k_result))\n",
    "#k_accuracy\n",
    "\n",
    "data = pd.DataFrame({'Algorithm': ['pruned decision tree KFold'], \n",
    "                    'Accuracy': k_accuracy}, index = {19})\n",
    "\n",
    "results = pd.concat([results, data])\n",
    "results = results[['Algorithm', 'Accuracy']]\n",
    "results"
   ]
  },
  {
   "cell_type": "code",
   "execution_count": 130,
   "id": "1ca51466",
   "metadata": {},
   "outputs": [
    {
     "data": {
      "application/javascript": [
       "\n",
       "        if (window._pyforest_update_imports_cell) { window._pyforest_update_imports_cell('import numpy as np\\nfrom sklearn.ensemble import GradientBoostingRegressor\\nimport seaborn as sns\\nfrom sklearn.ensemble import RandomForestRegressor\\nimport pandas as pd\\nfrom sklearn.model_selection import train_test_split\\nimport matplotlib.pyplot as plt'); }\n",
       "    "
      ],
      "text/plain": [
       "<IPython.core.display.Javascript object>"
      ]
     },
     "metadata": {},
     "output_type": "display_data"
    }
   ],
   "source": [
    "results_df = pd.concat([results_df, results])"
   ]
  },
  {
   "cell_type": "code",
   "execution_count": 131,
   "id": "9dbb78df",
   "metadata": {},
   "outputs": [
    {
     "data": {
      "text/html": [
       "<div>\n",
       "<style scoped>\n",
       "    .dataframe tbody tr th:only-of-type {\n",
       "        vertical-align: middle;\n",
       "    }\n",
       "\n",
       "    .dataframe tbody tr th {\n",
       "        vertical-align: top;\n",
       "    }\n",
       "\n",
       "    .dataframe thead th {\n",
       "        text-align: right;\n",
       "    }\n",
       "</style>\n",
       "<table border=\"1\" class=\"dataframe\">\n",
       "  <thead>\n",
       "    <tr style=\"text-align: right;\">\n",
       "      <th></th>\n",
       "      <th>Algorithm</th>\n",
       "      <th>Accuracy</th>\n",
       "    </tr>\n",
       "  </thead>\n",
       "  <tbody>\n",
       "    <tr>\n",
       "      <th>0</th>\n",
       "      <td>Random Forest Regressor</td>\n",
       "      <td>0.895577</td>\n",
       "    </tr>\n",
       "    <tr>\n",
       "      <th>1</th>\n",
       "      <td>Random Forest Regressor KFold</td>\n",
       "      <td>0.916420</td>\n",
       "    </tr>\n",
       "    <tr>\n",
       "      <th>2</th>\n",
       "      <td>GradientBoosting Regressor</td>\n",
       "      <td>0.895237</td>\n",
       "    </tr>\n",
       "    <tr>\n",
       "      <th>3</th>\n",
       "      <td>GradientBoosting Regressor KFold</td>\n",
       "      <td>0.902362</td>\n",
       "    </tr>\n",
       "    <tr>\n",
       "      <th>4</th>\n",
       "      <td>AdaBoosting Regressor</td>\n",
       "      <td>0.777865</td>\n",
       "    </tr>\n",
       "    <tr>\n",
       "      <th>5</th>\n",
       "      <td>AdaBoosting Regressor KFold</td>\n",
       "      <td>0.783261</td>\n",
       "    </tr>\n",
       "    <tr>\n",
       "      <th>6</th>\n",
       "      <td>KNeighbors Regressor</td>\n",
       "      <td>0.676770</td>\n",
       "    </tr>\n",
       "    <tr>\n",
       "      <th>7</th>\n",
       "      <td>KNeighbors Regressor KFold</td>\n",
       "      <td>0.711765</td>\n",
       "    </tr>\n",
       "    <tr>\n",
       "      <th>8</th>\n",
       "      <td>Bagging Regressor</td>\n",
       "      <td>0.877553</td>\n",
       "    </tr>\n",
       "    <tr>\n",
       "      <th>9</th>\n",
       "      <td>Bagging Regressor KFold</td>\n",
       "      <td>0.904520</td>\n",
       "    </tr>\n",
       "    <tr>\n",
       "      <th>10</th>\n",
       "      <td>Support vector regressor</td>\n",
       "      <td>0.481796</td>\n",
       "    </tr>\n",
       "    <tr>\n",
       "      <th>11</th>\n",
       "      <td>Support vector regressor KFold</td>\n",
       "      <td>0.550172</td>\n",
       "    </tr>\n",
       "    <tr>\n",
       "      <th>12</th>\n",
       "      <td>XG Boost Regressor</td>\n",
       "      <td>0.919621</td>\n",
       "    </tr>\n",
       "    <tr>\n",
       "      <th>13</th>\n",
       "      <td>XG Boost Regressor KFold</td>\n",
       "      <td>0.929891</td>\n",
       "    </tr>\n",
       "    <tr>\n",
       "      <th>14</th>\n",
       "      <td>DecisionTree Regressor</td>\n",
       "      <td>0.822001</td>\n",
       "    </tr>\n",
       "    <tr>\n",
       "      <th>15</th>\n",
       "      <td>DecisionTree Regressor KFold</td>\n",
       "      <td>0.864506</td>\n",
       "    </tr>\n",
       "    <tr>\n",
       "      <th>16</th>\n",
       "      <td>new DecisionTree Regressor</td>\n",
       "      <td>0.693405</td>\n",
       "    </tr>\n",
       "    <tr>\n",
       "      <th>17</th>\n",
       "      <td>new DecisionTree Regressor KFold</td>\n",
       "      <td>0.858617</td>\n",
       "    </tr>\n",
       "    <tr>\n",
       "      <th>16</th>\n",
       "      <td>new DecisionTree Regressor</td>\n",
       "      <td>0.693405</td>\n",
       "    </tr>\n",
       "    <tr>\n",
       "      <th>17</th>\n",
       "      <td>new DecisionTree Regressor KFold</td>\n",
       "      <td>0.858617</td>\n",
       "    </tr>\n",
       "    <tr>\n",
       "      <th>18</th>\n",
       "      <td>pruned decision tree</td>\n",
       "      <td>0.660811</td>\n",
       "    </tr>\n",
       "    <tr>\n",
       "      <th>19</th>\n",
       "      <td>pruned decision tree KFold</td>\n",
       "      <td>0.663904</td>\n",
       "    </tr>\n",
       "  </tbody>\n",
       "</table>\n",
       "</div>"
      ],
      "text/plain": [
       "                           Algorithm  Accuracy\n",
       "0            Random Forest Regressor  0.895577\n",
       "1      Random Forest Regressor KFold  0.916420\n",
       "2         GradientBoosting Regressor  0.895237\n",
       "3   GradientBoosting Regressor KFold  0.902362\n",
       "4              AdaBoosting Regressor  0.777865\n",
       "5        AdaBoosting Regressor KFold  0.783261\n",
       "6               KNeighbors Regressor  0.676770\n",
       "7         KNeighbors Regressor KFold  0.711765\n",
       "8                  Bagging Regressor  0.877553\n",
       "9            Bagging Regressor KFold  0.904520\n",
       "10          Support vector regressor  0.481796\n",
       "11    Support vector regressor KFold  0.550172\n",
       "12                XG Boost Regressor  0.919621\n",
       "13          XG Boost Regressor KFold  0.929891\n",
       "14            DecisionTree Regressor  0.822001\n",
       "15      DecisionTree Regressor KFold  0.864506\n",
       "16        new DecisionTree Regressor  0.693405\n",
       "17  new DecisionTree Regressor KFold  0.858617\n",
       "16        new DecisionTree Regressor  0.693405\n",
       "17  new DecisionTree Regressor KFold  0.858617\n",
       "18              pruned decision tree  0.660811\n",
       "19        pruned decision tree KFold  0.663904"
      ]
     },
     "execution_count": 131,
     "metadata": {},
     "output_type": "execute_result"
    }
   ],
   "source": [
    "results_df"
   ]
  }
 ],
 "metadata": {
  "kernelspec": {
   "display_name": "Python 3",
   "language": "python",
   "name": "python3"
  },
  "language_info": {
   "codemirror_mode": {
    "name": "ipython",
    "version": 3
   },
   "file_extension": ".py",
   "mimetype": "text/x-python",
   "name": "python",
   "nbconvert_exporter": "python",
   "pygments_lexer": "ipython3",
   "version": "3.9.0"
  }
 },
 "nbformat": 4,
 "nbformat_minor": 5
}
